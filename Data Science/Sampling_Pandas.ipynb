{
 "cells": [
  {
   "cell_type": "markdown",
   "id": "coupled-transmission",
   "metadata": {},
   "source": [
    "# Assignment 2: Probability Sampling and Pandas\n",
    "## Due Date: Sunday, September 19, 11:59PM\n",
    "\n",
    "## Collaboration Policy\n",
    "\n",
    "Data science is a collaborative activity. While you may talk with others about\n",
    "the homework, we ask that you **write your solutions individually**. If you do\n",
    "discuss the assignments with others please **include their names** below."
   ]
  },
  {
   "cell_type": "markdown",
   "id": "documented-lodge",
   "metadata": {},
   "source": [
    "**Collaborators**: *list  collaborators here*"
   ]
  },
  {
   "cell_type": "markdown",
   "id": "generous-defendant",
   "metadata": {},
   "source": [
    "## Scoring Breakdown\n",
    "\n",
    "|Question|Points|\n",
    "|---|---|\n",
    "|1|30|\n",
    "|2|10|\n",
    "|3|10|\n",
    "|4|10|\n",
    "|5|40|\n",
    "|**Total**|100|"
   ]
  },
  {
   "cell_type": "markdown",
   "id": "duplicate-belief",
   "metadata": {},
   "source": [
    "# Part 1: Probability\n",
    "\n",
    "## Question 1\n",
    "\n",
    "1.1. Suppose you sample 100 times at random with replacement from a population in which 26% of the individuals are successes. Write a Python expression that evaluates to the chance that the sample has 20 successes. \n"
   ]
  },
  {
   "cell_type": "markdown",
   "id": "lightweight-swift",
   "metadata": {},
   "source": [
    "One way to compute the *binomial coefficients* $\\binom{n}{k} = \\frac{n!}{k!(n-k)!}$ is to use the `SciPy` module `special`. `SciPy` is a collection of Python-based software for math, probability, statistics, science, and engineering.\n",
    "\n",
    "Hint 1:`special.comb(n, k)` evaluates to $\\binom{n}{k}$. \n",
    "\n",
    "Hint 2: `special.factorial(n)` evaluates to $n!$."
   ]
  },
  {
   "cell_type": "code",
   "execution_count": 2,
   "id": "homeless-growing",
   "metadata": {},
   "outputs": [],
   "source": [
    "from scipy import special"
   ]
  },
  {
   "cell_type": "code",
   "execution_count": 3,
   "id": "fifteen-procurement",
   "metadata": {},
   "outputs": [
    {
     "data": {
      "text/plain": [
       "0.036911003560024636"
      ]
     },
     "execution_count": 3,
     "metadata": {},
     "output_type": "execute_result"
    }
   ],
   "source": [
    "def binom_prob(n,k,p):\n",
    "    return special.comb(n,k) * (p ** k) * ((1-p) ** (n-k))\n",
    "binom_prob(100,20,0.26)"
   ]
  },
  {
   "cell_type": "markdown",
   "id": "fiscal-backing",
   "metadata": {},
   "source": [
    "1.2. Complete the cell with a Python expression that evaluates to an array whose elements are the chances of $k$ successes for $k = 0, 1, 2, \\ldots, 100$. That is, `all_probs[k]` should contain $P(X = k)$, where $X$ is the random variable describing the number of successes drawn from the scenario outlined above."
   ]
  },
  {
   "cell_type": "code",
   "execution_count": 4,
   "id": "right-israeli",
   "metadata": {},
   "outputs": [],
   "source": [
    "all_probs = []\n",
    "for i in range(0,101):\n",
    "    all_probs.append(binom_prob(100,i,0.26))"
   ]
  },
  {
   "cell_type": "markdown",
   "id": "surface-botswana",
   "metadata": {},
   "source": [
    "1.3. Complete the cell with an expression that evaluates to the chance that the number of successes in the sample is in the interval $26 \\pm 10$ (inclusive on both sides). In other words, determine $P(16 \\leq X \\leq 36)$. **Hint: You might want to apply your Python indexing knowledge here.**"
   ]
  },
  {
   "cell_type": "code",
   "execution_count": 5,
   "id": "breeding-sellers",
   "metadata": {},
   "outputs": [
    {
     "data": {
      "text/plain": [
       "0.9838345682140125"
      ]
     },
     "execution_count": 5,
     "metadata": {},
     "output_type": "execute_result"
    }
   ],
   "source": [
    "sum(all_probs[16:37])"
   ]
  },
  {
   "cell_type": "markdown",
   "id": "loved-emphasis",
   "metadata": {
    "tags": []
   },
   "source": [
    "## Question 2\n",
    "Consider a sample of size $n$ drawn at random with replacement from a population in which a proportion $p$ of the individuals are called successes.\n",
    "\n",
    "Let $S$ be the random variable that denotes the number of successes in our sample. (As stated above, $S$ follows the binomial distribution.) Then, the probability that the number of successes in our sample is **at most** $s$ (where $0 \\leq s \\leq n$) is\n",
    "\n",
    "$$P(S \\leq s) = P(S = 0) + P(S = 1) + ... + P(S = s) = \\sum_{k=0}^s \\binom{n}{k}p^k(1-p)^{n-k}$$\n",
    "\n",
    "We obtain this by summing the probability that the number of successes is exactly $k$, for each value of $k = 0, 1, 2, ..., s$.\n",
    "\n",
    "\n",
    "Please fill in the function `prob_at_most` which takes $n$, $p$, and $s$ and returns $P(S \\le s)$ as defined above. If the inputs are invalid: for instance, if $p > 1$ OR $s > n$ then return 0.' "
   ]
  },
  {
   "cell_type": "code",
   "execution_count": 6,
   "id": "significant-sculpture",
   "metadata": {},
   "outputs": [],
   "source": [
    "def prob_at_most(n, p, s):\n",
    "    if p > 1 or s > n:\n",
    "        return 0\n",
    "    \n",
    "    prob_most = 0\n",
    "    \n",
    "    for i in range(0,s+1):\n",
    "        prob_most += binom_prob(n,i,p)\n",
    "        \n",
    "    return prob_most"
   ]
  },
  {
   "cell_type": "markdown",
   "id": "seven-federal",
   "metadata": {},
   "source": [
    "## Question 3\n",
    "\n",
    "In an election, supporters of Candidate C are in a minority. Only 45% of the voters in the population favor the candidate.\n",
    "\n",
    "Suppose a survey organization takes a sample of 200 voters at random with replacement from this population. Use `prob_at_most` to write an expression that evaluates to the chance that a majority (more than half) of the sampled voters favor Candidate C."
   ]
  },
  {
   "cell_type": "code",
   "execution_count": 7,
   "id": "lonely-nashville",
   "metadata": {},
   "outputs": [
    {
     "data": {
      "text/plain": [
       "0.9486329671752122"
      ]
     },
     "execution_count": 7,
     "metadata": {},
     "output_type": "execute_result"
    }
   ],
   "source": [
    "# Check the prob that no more than half DONT vote for Candidate C\n",
    "prob_at_most(200,0.45,101)"
   ]
  },
  {
   "cell_type": "markdown",
   "id": "disabled-booking",
   "metadata": {},
   "source": [
    "# Part 2: Pandas\n",
    "## Question 4\n",
    "For the following DataFrame (fruit_info), add a column by d['new column name'] = ... and assigning a list or array of values to the column. Add a column of integers containing 1, 2, 3, and 4 called rank1 to the fruit_info table which expresses your personal preference about the taste ordering for each fruit (1 is tastiest; 4 is least tasty).\n"
   ]
  },
  {
   "cell_type": "code",
   "execution_count": 8,
   "id": "divine-surface",
   "metadata": {},
   "outputs": [
    {
     "data": {
      "text/html": [
       "<div>\n",
       "<style scoped>\n",
       "    .dataframe tbody tr th:only-of-type {\n",
       "        vertical-align: middle;\n",
       "    }\n",
       "\n",
       "    .dataframe tbody tr th {\n",
       "        vertical-align: top;\n",
       "    }\n",
       "\n",
       "    .dataframe thead th {\n",
       "        text-align: right;\n",
       "    }\n",
       "</style>\n",
       "<table border=\"1\" class=\"dataframe\">\n",
       "  <thead>\n",
       "    <tr style=\"text-align: right;\">\n",
       "      <th></th>\n",
       "      <th>fruit</th>\n",
       "      <th>color</th>\n",
       "    </tr>\n",
       "  </thead>\n",
       "  <tbody>\n",
       "    <tr>\n",
       "      <th>0</th>\n",
       "      <td>apple</td>\n",
       "      <td>red</td>\n",
       "    </tr>\n",
       "    <tr>\n",
       "      <th>1</th>\n",
       "      <td>orange</td>\n",
       "      <td>orange</td>\n",
       "    </tr>\n",
       "    <tr>\n",
       "      <th>2</th>\n",
       "      <td>banana</td>\n",
       "      <td>yellow</td>\n",
       "    </tr>\n",
       "    <tr>\n",
       "      <th>3</th>\n",
       "      <td>raspberry</td>\n",
       "      <td>pink</td>\n",
       "    </tr>\n",
       "  </tbody>\n",
       "</table>\n",
       "</div>"
      ],
      "text/plain": [
       "       fruit   color\n",
       "0      apple     red\n",
       "1     orange  orange\n",
       "2     banana  yellow\n",
       "3  raspberry    pink"
      ]
     },
     "execution_count": 8,
     "metadata": {},
     "output_type": "execute_result"
    }
   ],
   "source": [
    "import pandas as pd\n",
    "fruit_info = pd.DataFrame(\n",
    "data={'fruit': ['apple', 'orange', 'banana', 'raspberry'],\n",
    "'color': ['red', 'orange', 'yellow', 'pink']\n",
    "})\n",
    "fruit_info"
   ]
  },
  {
   "cell_type": "code",
   "execution_count": 9,
   "id": "adjacent-eating",
   "metadata": {},
   "outputs": [
    {
     "data": {
      "text/html": [
       "<div>\n",
       "<style scoped>\n",
       "    .dataframe tbody tr th:only-of-type {\n",
       "        vertical-align: middle;\n",
       "    }\n",
       "\n",
       "    .dataframe tbody tr th {\n",
       "        vertical-align: top;\n",
       "    }\n",
       "\n",
       "    .dataframe thead th {\n",
       "        text-align: right;\n",
       "    }\n",
       "</style>\n",
       "<table border=\"1\" class=\"dataframe\">\n",
       "  <thead>\n",
       "    <tr style=\"text-align: right;\">\n",
       "      <th></th>\n",
       "      <th>fruit</th>\n",
       "      <th>color</th>\n",
       "      <th>rank1</th>\n",
       "    </tr>\n",
       "  </thead>\n",
       "  <tbody>\n",
       "    <tr>\n",
       "      <th>0</th>\n",
       "      <td>apple</td>\n",
       "      <td>red</td>\n",
       "      <td>3</td>\n",
       "    </tr>\n",
       "    <tr>\n",
       "      <th>1</th>\n",
       "      <td>orange</td>\n",
       "      <td>orange</td>\n",
       "      <td>2</td>\n",
       "    </tr>\n",
       "    <tr>\n",
       "      <th>2</th>\n",
       "      <td>banana</td>\n",
       "      <td>yellow</td>\n",
       "      <td>1</td>\n",
       "    </tr>\n",
       "    <tr>\n",
       "      <th>3</th>\n",
       "      <td>raspberry</td>\n",
       "      <td>pink</td>\n",
       "      <td>4</td>\n",
       "    </tr>\n",
       "  </tbody>\n",
       "</table>\n",
       "</div>"
      ],
      "text/plain": [
       "       fruit   color  rank1\n",
       "0      apple     red      3\n",
       "1     orange  orange      2\n",
       "2     banana  yellow      1\n",
       "3  raspberry    pink      4"
      ]
     },
     "execution_count": 9,
     "metadata": {},
     "output_type": "execute_result"
    }
   ],
   "source": [
    "fruit_info['rank1'] = [3,2,1,4]\n",
    "fruit_info"
   ]
  },
  {
   "cell_type": "markdown",
   "id": "worldwide-bookmark",
   "metadata": {},
   "source": [
    "## Question 5\n",
    "\n",
    "Use the babyNames DataFrame and perform the following operations:\n",
    "\n",
    "5.1. Find the first three names (ordered alphabetically) in Year 2000 that have larger than 3000 counts."
   ]
  },
  {
   "cell_type": "code",
   "execution_count": 10,
   "id": "imposed-literacy",
   "metadata": {},
   "outputs": [
    {
     "data": {
      "text/plain": [
       "331391         Andrew\n",
       "331389        Anthony\n",
       "331395    Christopher\n",
       "Name: Name, dtype: object"
      ]
     },
     "execution_count": 10,
     "metadata": {},
     "output_type": "execute_result"
    }
   ],
   "source": [
    "babyNames = pd.read_csv('babyNames.csv')\n",
    "babyNames[(babyNames['Year'] == 2000) & (babyNames['Count'] > 3000)].sort_values('Name').head(3)['Name']\n"
   ]
  },
  {
   "cell_type": "markdown",
   "id": "cloudy-memorial",
   "metadata": {},
   "source": [
    "5.2. Find the first four names (ordered by Year) that start with “Ma” and ends with “i”."
   ]
  },
  {
   "cell_type": "code",
   "execution_count": 11,
   "id": "durable-motion",
   "metadata": {},
   "outputs": [
    {
     "data": {
      "text/plain": [
       "229265       Masami\n",
       "229285       Masaji\n",
       "229584       Masami\n",
       "229627    Masayoshi\n",
       "Name: Name, dtype: object"
      ]
     },
     "execution_count": 11,
     "metadata": {},
     "output_type": "execute_result"
    }
   ],
   "source": [
    "babyNames[(babyNames['Name'].str.startswith('Ma')) & (babyNames['Name'].str.endswith('i'))].sort_values(\"Year\").head(4)['Name']"
   ]
  },
  {
   "cell_type": "markdown",
   "id": "timely-rings",
   "metadata": {},
   "source": [
    " 5.3. Plot the popularity of the name Hillary over time. "
   ]
  },
  {
   "cell_type": "code",
   "execution_count": 12,
   "id": "cardiovascular-academy",
   "metadata": {},
   "outputs": [
    {
     "data": {
      "text/plain": [
       "<AxesSubplot:title={'center':'Popularity of \"Hillary\" over time'}, xlabel='Year'>"
      ]
     },
     "execution_count": 12,
     "metadata": {},
     "output_type": "execute_result"
    },
    {
     "data": {
      "image/png": "[encoded data removed]",
      "text/plain": [
       "<Figure size 432x288 with 1 Axes>"
      ]
     },
     "metadata": {
      "needs_background": "light"
     },
     "output_type": "display_data"
    }
   ],
   "source": [
    "babyNames[(babyNames['Name'] == 'Hillary')].plot(x= 'Year', y = 'Count', title = 'Popularity of \"Hillary\" over time')"
   ]
  },
  {
   "cell_type": "markdown",
   "id": "collected-vintage",
   "metadata": {},
   "source": [
    "5.4. Find unisex baby names (i.e., names that are used by females and males)."
   ]
  },
  {
   "cell_type": "code",
   "execution_count": 13,
   "id": "expanded-norfolk",
   "metadata": {},
   "outputs": [
    {
     "data": {
      "text/plain": [
       "array(['John', 'William', 'James', ..., 'Kaydence', 'Lael', 'Navi'],\n",
       "      dtype=object)"
      ]
     },
     "execution_count": 13,
     "metadata": {},
     "output_type": "execute_result"
    }
   ],
   "source": [
    "females = babyNames[babyNames['Sex'] == 'F']['Name']\n",
    "babyNames[(babyNames['Sex'] == 'M') & babyNames['Name'].isin(females)]['Name'].unique()"
   ]
  }
 ],
 "metadata": {
  "kernelspec": {
   "display_name": "Python 3 (ipykernel)",
   "language": "python",
   "name": "python3"
  },
  "language_info": {
   "codemirror_mode": {
    "name": "ipython",
    "version": 3
   },
   "file_extension": ".py",
   "mimetype": "text/x-python",
   "name": "python",
   "nbconvert_exporter": "python",
   "pygments_lexer": "ipython3",
   "version": "3.9.12"
  }
 },
 "nbformat": 4,
 "nbformat_minor": 5
}
