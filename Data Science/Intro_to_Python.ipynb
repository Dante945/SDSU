{
 "cells": [
  {
   "cell_type": "code",
   "execution_count": 2,
   "id": "3a8e8cea",
   "metadata": {},
   "outputs": [
    {
     "name": "stdout",
     "output_type": "stream",
     "text": [
      "Hello,world!\n"
     ]
    },
    {
     "data": {
      "text/plain": [
       "8"
      ]
     },
     "execution_count": 2,
     "metadata": {},
     "output_type": "execute_result"
    }
   ],
   "source": [
    "# 1.1\n",
    "\"Will this line be displayed\"\n",
    "print(\"Hello\" + \",\" + \"world!\")\n",
    "5 + 3"
   ]
  },
  {
   "cell_type": "code",
   "execution_count": 3,
   "id": "693977f3",
   "metadata": {},
   "outputs": [
    {
     "name": "stdout",
     "output_type": "stream",
     "text": [
      "Help on built-in function print in module builtins:\n",
      "\n",
      "print(...)\n",
      "    print(value, ..., sep=' ', end='\\n', file=sys.stdout, flush=False)\n",
      "    \n",
      "    Prints the values to a stream, or to sys.stdout by default.\n",
      "    Optional keyword arguments:\n",
      "    file:  a file-like object (stream); defaults to the current sys.stdout.\n",
      "    sep:   string inserted between values, default a space.\n",
      "    end:   string appended after the last value, default a newline.\n",
      "    flush: whether to forcibly flush the stream.\n",
      "\n",
      "Welcome\n"
     ]
    }
   ],
   "source": [
    "# 1.2\n",
    "help(print)\n",
    "print('Welcome')"
   ]
  },
  {
   "cell_type": "code",
   "execution_count": 4,
   "id": "0943778a",
   "metadata": {},
   "outputs": [],
   "source": [
    "# 1.3\n",
    "import pandas as pd\n",
    "import numpy as np\n",
    "import matplotlib.pyplot as plt\n",
    "import seaborn as sns"
   ]
  },
  {
   "cell_type": "code",
   "execution_count": 5,
   "id": "f1f38168",
   "metadata": {},
   "outputs": [],
   "source": [
    "# 2.1\n",
    "def summation(n):\n",
    "    res = 0\n",
    "    for i in range(1, n + 1):\n",
    "        res += (i ** 3) + (i ** 2 * 3)\n",
    "    return res"
   ]
  },
  {
   "cell_type": "code",
   "execution_count": 6,
   "id": "26dd7eb7",
   "metadata": {},
   "outputs": [
    {
     "data": {
      "text/plain": [
       "390"
      ]
     },
     "execution_count": 6,
     "metadata": {},
     "output_type": "execute_result"
    }
   ],
   "source": [
    "summation(5)"
   ]
  },
  {
   "cell_type": "code",
   "execution_count": 7,
   "id": "38bff45d",
   "metadata": {},
   "outputs": [],
   "source": [
    "# 2.2\n",
    "def list_sum(list_1, list_2):\n",
    "    res = []\n",
    "    for num1, num2 in zip(list_1, list_2):\n",
    "        res.append((num1 ** 2) + (num2 ** 3))\n",
    "    return res"
   ]
  },
  {
   "cell_type": "code",
   "execution_count": 8,
   "id": "30956ef7",
   "metadata": {},
   "outputs": [
    {
     "data": {
      "text/plain": [
       "[2, 12, 36]"
      ]
     },
     "execution_count": 8,
     "metadata": {},
     "output_type": "execute_result"
    }
   ],
   "source": [
    "list_sum([1,2,3],[1,2,3])"
   ]
  },
  {
   "cell_type": "code",
   "execution_count": 9,
   "id": "bc4554e8",
   "metadata": {},
   "outputs": [],
   "source": [
    "# 3.1\n",
    "arr1 = np.array([1,2,3])\n",
    "arr2 = np.array([4,5,6])"
   ]
  },
  {
   "cell_type": "code",
   "execution_count": 10,
   "id": "5b96b953",
   "metadata": {},
   "outputs": [
    {
     "data": {
      "text/plain": [
       "array([5, 7, 9])"
      ]
     },
     "execution_count": 10,
     "metadata": {},
     "output_type": "execute_result"
    }
   ],
   "source": [
    "# 3.2\n",
    "arr3 = arr1 + arr2\n",
    "arr3"
   ]
  },
  {
   "cell_type": "code",
   "execution_count": 11,
   "id": "d9c6a4ae",
   "metadata": {},
   "outputs": [],
   "source": [
    "# 3.3\n",
    "def array_sum(list_1, list_2):\n",
    "    arr1 = np.array(list_1)\n",
    "    arr2 = np.array(list_2)\n",
    "    return arr1 ** 2 + arr2 ** 3"
   ]
  },
  {
   "cell_type": "code",
   "execution_count": 12,
   "id": "a4e6fcaa",
   "metadata": {},
   "outputs": [
    {
     "data": {
      "text/plain": [
       "array([ 28,  68, 134])"
      ]
     },
     "execution_count": 12,
     "metadata": {},
     "output_type": "execute_result"
    }
   ],
   "source": [
    "array_sum([1,2,3],[3,4,5])"
   ]
  },
  {
   "cell_type": "code",
   "execution_count": 13,
   "id": "ed69f56f",
   "metadata": {},
   "outputs": [
    {
     "name": "stdout",
     "output_type": "stream",
     "text": [
      "CPU times: user 51.2 ms, sys: 3.07 ms, total: 54.3 ms\n",
      "Wall time: 53.4 ms\n"
     ]
    },
    {
     "data": {
      "text/plain": [
       "''"
      ]
     },
     "execution_count": 13,
     "metadata": {},
     "output_type": "execute_result"
    }
   ],
   "source": [
    "%%time\n",
    "# 3.4\n",
    "sample_list = list(range(100000))\n",
    "list_sum(sample_list,sample_list)\n",
    ";"
   ]
  },
  {
   "cell_type": "code",
   "execution_count": 14,
   "id": "87e289d0",
   "metadata": {},
   "outputs": [
    {
     "name": "stdout",
     "output_type": "stream",
     "text": [
      "CPU times: user 1.22 ms, sys: 1.45 ms, total: 2.67 ms\n",
      "Wall time: 2.54 ms\n"
     ]
    },
    {
     "data": {
      "text/plain": [
       "''"
      ]
     },
     "execution_count": 14,
     "metadata": {},
     "output_type": "execute_result"
    }
   ],
   "source": [
    "%%time\n",
    "# 3.4\n",
    "sample_array = np.arange(100000)\n",
    "array_sum(sample_array,sample_array)\n",
    ";"
   ]
  },
  {
   "cell_type": "code",
   "execution_count": 19,
   "id": "f5c1e329",
   "metadata": {},
   "outputs": [
    {
     "data": {
      "text/plain": [
       "Text(0.5, 1.0, 'f (t) = 3sin(2πt)')"
      ]
     },
     "execution_count": 19,
     "metadata": {},
     "output_type": "execute_result"
    },
    {
     "data": {
      "image/png": "[encoded data removed]",
      "text/plain": [
       "<Figure size 432x288 with 1 Axes>"
      ]
     },
     "metadata": {
      "needs_background": "light"
     },
     "output_type": "display_data"
    }
   ],
   "source": [
    "# 4.1\n",
    "# Equation\n",
    "x = np.linspace(0, np.pi, 30)\n",
    "y = 3 * np.sin(np.pi * 2 * x)\n",
    "\n",
    "# Plot\n",
    "plt.plot(x, y, '+', color ='red')\n",
    "\n",
    "# Plot limits\n",
    "plt.xlim(0,np.pi)\n",
    "plt.ylim(-10,10)\n",
    "\n",
    "# Plot Labels\n",
    "plt.xticks([0, np.pi/2 , np.pi], ['0', 'π / 2', 'π'])\n",
    "plt.xlabel('t')\n",
    "plt.ylabel('f (t)')\n",
    "plt.title('f (t) = 3sin(2πt)')"
   ]
  },
  {
   "cell_type": "code",
   "execution_count": null,
   "id": "c1e9699e-0c34-468d-9912-90a63a2eb611",
   "metadata": {},
   "outputs": [],
   "source": []
  }
 ],
 "metadata": {
  "kernelspec": {
   "display_name": "Python 3 (ipykernel)",
   "language": "python",
   "name": "python3"
  },
  "language_info": {
   "codemirror_mode": {
    "name": "ipython",
    "version": 3
   },
   "file_extension": ".py",
   "mimetype": "text/x-python",
   "name": "python",
   "nbconvert_exporter": "python",
   "pygments_lexer": "ipython3",
   "version": "3.9.12"
  }
 },
 "nbformat": 4,
 "nbformat_minor": 5
}
