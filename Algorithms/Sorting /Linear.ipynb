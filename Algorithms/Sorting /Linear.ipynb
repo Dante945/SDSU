{
 "cells": [
  {
   "cell_type": "markdown",
   "id": "71cec549-bfd3-4647-b153-637b45c7776d",
   "metadata": {},
   "source": [
    "# CS460 Algorithms and Their Analysis \n",
    "## Programming Assignment 3: Linear time sorting algorithms\n",
    "\n",
    "**Created by:** Yang Xu, Assistant Professor of Computer Science, San Diego State University\n",
    "\n",
    "**Total points: 12 + 4(bonus)**"
   ]
  },
  {
   "cell_type": "code",
   "execution_count": 120,
   "id": "9c5c0e9a-90a5-47e0-8be6-5bb1d6338cf5",
   "metadata": {},
   "outputs": [],
   "source": [
    "import numpy as np\n",
    "import timeit"
   ]
  },
  {
   "cell_type": "markdown",
   "id": "6484ade1",
   "metadata": {},
   "source": [
    "## Task 1: Implement counting sort\n",
    "**Points: 3**\n",
    "\n",
    "Implement `counting_sort()` by following the pseudo-code in lecture slides/textbook.\n",
    "\n",
    "*Hint*: Since the index of Python array starts with 0, when using `C[i]` to copy element to the final array, the index needs be adjusted."
   ]
  },
  {
   "cell_type": "code",
   "execution_count": 121,
   "id": "c30205f4",
   "metadata": {
    "collapsed": false,
    "jupyter": {
     "outputs_hidden": false
    },
    "pycharm": {
     "name": "#%%\n"
    }
   },
   "outputs": [],
   "source": [
    "def counting_sort(arr, k):\n",
    "    \"\"\"\n",
    "    :param arr: list of int, the array to be sorted\n",
    "    :param k: each integer number in array is within the range [0,k]\n",
    "    :return: arr sorted\n",
    "    \"\"\"\n",
    "    # Initialize the helper array C\n",
    "    ### START YOUR CODE ###\n",
    "    C = list(range(0,k+1)) # Initialize C with the correct length\n",
    "    for i in range(len(C)):\n",
    "        C[i] = 0\n",
    "    ### END YOUR CODE ###\n",
    "\n",
    "    # Fill in C with correct values, so that C[i] holds the number of elements in arr that are equal to i\n",
    "    ### START YOUR CODE ###\n",
    "    for i in range(len(arr)):\n",
    "        C[arr[i]] += 1\n",
    "    ### END YOUR CODE ###\n",
    "\n",
    "    # Fill in C with correct values, so that now C[i] holds the number of elements in arr that are less than or equal to i\n",
    "    ### START YOUR CODE ###\n",
    "    for i in range(1,k+1):\n",
    "        C[i] = C[i] + C[i-1]\n",
    "    ### END YOUR CODE ###\n",
    "\n",
    "    # Initialize the final sorted array\n",
    "    sorted_arr = [0] * len(arr)\n",
    "\n",
    "    # Copy each element in arr to its correct position in sorted_arr\n",
    "    ### START YOUR CODE ###\n",
    "    for i in range(len(arr) - 1, -1, -1): # Specify the correct loop range. Hint: use reversed(), or range() with a negative step\n",
    "        sorted_arr[C[arr[i]] - 1] = arr[i]\n",
    "        C[arr[i]] -= 1\n",
    "    ### END YOUR CODE ###\n",
    "\n",
    "    return sorted_arr"
   ]
  },
  {
   "cell_type": "code",
   "execution_count": 122,
   "id": "b6f9c5e4",
   "metadata": {
    "collapsed": false,
    "jupyter": {
     "outputs_hidden": false
    },
    "pycharm": {
     "name": "#%%\n"
    }
   },
   "outputs": [
    {
     "name": "stdout",
     "output_type": "stream",
     "text": [
      "arr sorted: [0, 0, 2, 2, 3, 3, 3, 5]\n"
     ]
    }
   ],
   "source": [
    "# Do NOT change the test code here.\n",
    "arr = [2,5,3,0,2,3,0,3]\n",
    "arr_sorted = counting_sort(arr, k=max(arr))\n",
    "\n",
    "print('arr sorted:', arr_sorted)"
   ]
  },
  {
   "cell_type": "markdown",
   "id": "f11a44ea",
   "metadata": {},
   "source": [
    "**Expected output**:\n",
    "\n",
    "arr sorted: [0, 0, 2, 2, 3, 3, 3, 5]\n",
    "\n",
    "---\n",
    "Next, you can compare your implementation of counting sort with the Python built-in sorted().\n"
   ]
  },
  {
   "cell_type": "code",
   "execution_count": 123,
   "id": "e8e06317",
   "metadata": {
    "collapsed": false,
    "jupyter": {
     "outputs_hidden": false
    },
    "pycharm": {
     "name": "#%%\n"
    }
   },
   "outputs": [
    {
     "name": "stdout",
     "output_type": "stream",
     "text": [
      "counting_sort(): 0.21304787499957456\n",
      "Built-in sorted(): 0.016225040999415796\n"
     ]
    }
   ],
   "source": [
    "def test1():\n",
    "    np.random.seed(1)\n",
    "    arr = np.random.randint(1000, size=100).tolist()\n",
    "    counting_sort(arr, k=max(arr))\n",
    "\n",
    "def test2():\n",
    "    np.random.seed(1)\n",
    "    arr = np.random.randint(1000, size=100).tolist()\n",
    "    sorted(arr)\n",
    "\n",
    "print('counting_sort():', timeit.timeit('test1()', globals=globals(), number=1000))\n",
    "print('Built-in sorted():', timeit.timeit('test2()', globals=globals(), number=1000))"
   ]
  },
  {
   "cell_type": "markdown",
   "id": "f05b3cfb",
   "metadata": {},
   "source": [
    "---\n",
    "## Task 2: Implement an enhanced counting sort\n",
    "**Points: 3**\n",
    "\n",
    "Implement an enhanced version of counting sort, which can allow negative integers in the input array, and the length of array `C` is automatically calculated, so that no `k` parameter is needed.\n",
    "\n",
    "*Hint*: Use the maximum and minimum elements in the input array to decide the size of `C`. Because the minimum is not necessarily 0, the count of integer `i` is no longer stored in `C[i]`, but in a new index."
   ]
  },
  {
   "cell_type": "code",
   "execution_count": 124,
   "id": "dcafa24d",
   "metadata": {
    "collapsed": false,
    "jupyter": {
     "outputs_hidden": false
    },
    "pycharm": {
     "name": "#%%\n"
    }
   },
   "outputs": [],
   "source": [
    "def counting_sort_enhanced(arr):\n",
    "    \"\"\"\n",
    "    :param arr: list of int, the array to be sorted\n",
    "    :return: arr sorted\n",
    "    \"\"\"\n",
    "    ### START YOUR CODE ###\n",
    "    max_num = max(arr)\n",
    "    min_num = min(arr)\n",
    "    k = max_num - min_num + 1\n",
    "    C = [0] * k # Initialize C with the correct length calculated from max_num and min_num\n",
    "    ### END YOUR CODE ###\n",
    "    \n",
    "    # Fill in C with correct values. Hint: should use an index different from C[i]\n",
    "    ### START YOUR CODE ###\n",
    "    for i in range(len(arr)):\n",
    "        C[arr[i] - min_num] += 1\n",
    "    ### END YOUR CODE ###\n",
    "\n",
    "    # Update C with correct values\n",
    "    ### START YOUR CODE ###\n",
    "    for i in range(1,k):\n",
    "        C[i] = C[i] + C[i-1]\n",
    "    ### END YOUR CODE ###\n",
    "    \n",
    "    # Initialize the final sorted array\n",
    "    sorted_arr = [0] * len(arr)\n",
    "\n",
    "    # Copy each element in arr to its correct position in sorted_arr\n",
    "    # Hint: also use a different index for elements in C\n",
    "    ### START YOUR CODE ###\n",
    "    for i in range(len(arr) -1, -1, -1):\n",
    "        sorted_arr[C[arr[i] - min_num] - 1] = arr[i]\n",
    "        C[arr[i] - min_num] -= 1\n",
    "        # Hint: when copying to sorted_arr, the index needs be adjusted\n",
    "        pass\n",
    "    ### END YOUR CODE ###\n",
    "\n",
    "    return sorted_arr"
   ]
  },
  {
   "cell_type": "code",
   "execution_count": 125,
   "id": "91827218",
   "metadata": {
    "collapsed": false,
    "jupyter": {
     "outputs_hidden": false
    },
    "pycharm": {
     "name": "#%%\n"
    }
   },
   "outputs": [
    {
     "name": "stdout",
     "output_type": "stream",
     "text": [
      "arr sorted: [-4, -3, -2, 0, 0, 0, 2, 2, 3, 3, 3, 5]\n"
     ]
    }
   ],
   "source": [
    "# Do NOT change the test code here.\n",
    "arr = [2,5,3,0,2,3,0,3] + [-2, -3, 0, -4]\n",
    "arr_sorted = counting_sort_enhanced(arr)\n",
    "\n",
    "print('arr sorted:', arr_sorted)"
   ]
  },
  {
   "cell_type": "markdown",
   "id": "33341114",
   "metadata": {},
   "source": [
    "**Expected output**:\n",
    "\n",
    "arr sorted: [-4, -3, -2, 0, 0, 0, 2, 2, 3, 3, 3, 5]\n",
    "\n",
    "---\n",
    "\n",
    "## Task 3 (Bonus): Apply counting sort to string\n",
    "**Points: 1** (Bonus)\n",
    "\n",
    "By converting each character in a string to its integer representation, you can apply counting sort on it and as a result, obtain an output string in which all the same characters get aggregated.\n",
    "\n",
    "*Hint*: Use the built-in `ord()` function to convert character to integer, and use `chr()` for the other way around."
   ]
  },
  {
   "cell_type": "code",
   "execution_count": 126,
   "id": "7ba68364",
   "metadata": {
    "collapsed": false,
    "jupyter": {
     "outputs_hidden": false
    },
    "pycharm": {
     "name": "#%%\n"
    }
   },
   "outputs": [
    {
     "name": "stdout",
     "output_type": "stream",
     "text": [
      "input_integers: [104, 101, 108, 108, 111, 44, 119, 111, 114, 108, 100, 33]\n",
      "sorted_integers: [33, 44, 100, 101, 104, 108, 108, 108, 111, 111, 114, 119]\n",
      "sorted_string: !,dehllloorw\n"
     ]
    }
   ],
   "source": [
    "input_string = 'hello,world!'\n",
    "### START YOUR CODE ###\n",
    "input_integers = [ord(x) for x in input_string]\n",
    "### END YOUR CODE ###\n",
    "print('input_integers:', input_integers)\n",
    "\n",
    "### START YOUR CODE ###\n",
    "sorted_integers = counting_sort(input_integers, k=max(input_integers)) # Apply counting sort\n",
    "### END YOUR CODE ###\n",
    "print('sorted_integers:', sorted_integers)\n",
    "\n",
    "### START YOUR CODE ###\n",
    "sorted_string = ''.join([chr(x) for x in sorted_integers]) # Use chr() and the join() function of string\n",
    "### END YOUR CODE ###\n",
    "print('sorted_string:', sorted_string)"
   ]
  },
  {
   "cell_type": "markdown",
   "id": "721e45e4-da1d-4b3f-abee-821a5f4142ca",
   "metadata": {},
   "source": [
    "**Expected output**:\n",
    "\n",
    "input_integers: [104, 101, 108, 108, 111, 44, 119, 111, 114, 108, 100, 33]\\\n",
    "sorted_integers: [33, 44, 100, 101, 104, 108, 108, 108, 111, 111, 114, 119]\\\n",
    "sorted_string: !,dehllloorw\n",
    "\n",
    "---\n",
    "\n",
    "## Task 4: Implement the bucket sort\n",
    "**Points: 3**\n",
    "\n",
    "Implement `bucket_sort()` by following the pseudo-code in lecture slides/textbook.\n",
    "\n",
    "Note the function takes an argument `num_buckets` as input, which indicates that number of buckets to be used. If it is `None`, then `len(arr)` will be used as the default number of buckets.\n",
    "\n",
    "*Hint*: You can use `int()` in Python to convert a float number to its floor integer. You can use a nested for loop or the `itertools` package to concatenate buckets."
   ]
  },
  {
   "cell_type": "code",
   "execution_count": 127,
   "id": "168511d2-3c0d-4743-ae61-d8047a2d928d",
   "metadata": {},
   "outputs": [],
   "source": [
    "import itertools\n",
    "def bucket_sort(arr, num_buckets = None):\n",
    "    \"\"\"\n",
    "    Params:\n",
    "        arr: list\n",
    "        num_buckets: int\n",
    "    Return:\n",
    "        arr_sorted: list, the sorted arr\n",
    "    \"\"\"\n",
    "    if num_buckets is None:\n",
    "        num_buckets = len(arr)\n",
    "\n",
    "    # Initialize the \"buckets\", i.e., a list of lists, which plays similar role as the B array in the textbook pseudo code\n",
    "    ### START YOUR CODE ###\n",
    "    n = len(arr)\n",
    "    buckets = [0] * n\n",
    "    for i in range(len(buckets)):\n",
    "        buckets[i] = []\n",
    "    ### END YOUR CODE ###\n",
    "\n",
    "    ### START YOUR CODE ###\n",
    "    # Place each element in arr to the correct bucket. Hint: you can use int() to calculate the floor\n",
    "    for el in arr:\n",
    "        bucket_num = int(n * el)\n",
    "        buckets[bucket_num].append(el)\n",
    "    ### END YOUR CODE ###\n",
    "\n",
    "    ### START YOUR CODE ###\n",
    "    # Concatenate all buckets together in order. Hint: You can use a nested for loop or the `itertools` package to concatenate buckets.\n",
    "    for i in range(n):\n",
    "        buckets[i].sort()\n",
    "    sorted_arr = list(itertools.chain.from_iterable(buckets))\n",
    "    ### END YOUR CODE ###\n",
    "\n",
    "    return sorted_arr"
   ]
  },
  {
   "cell_type": "code",
   "execution_count": 128,
   "id": "b028c543-36d9-4a0d-948d-c0829a348229",
   "metadata": {},
   "outputs": [
    {
     "name": "stdout",
     "output_type": "stream",
     "text": [
      "arr sorted: [0.12, 0.17, 0.21, 0.23, 0.26, 0.39, 0.68, 0.72, 0.78, 0.94]\n"
     ]
    }
   ],
   "source": [
    "# Do NOT change the test code here.\n",
    "arr = [.78, .17, .39, .26, .72, .94, .21, .12, .23, .68]\n",
    "arr_sorted = bucket_sort(arr)\n",
    "\n",
    "print('arr sorted:', arr_sorted)"
   ]
  },
  {
   "cell_type": "markdown",
   "id": "38dc5570",
   "metadata": {},
   "source": [
    "**Expected output**\n",
    "\n",
    "arr sorted: [0.12, 0.17, 0.21, 0.23, 0.26, 0.39, 0.68, 0.72, 0.78, 0.94]\n",
    "\n",
    "---\n",
    "Next, you can compare your implementation of bucket sort with the Python built-in `sorted()`.\n",
    "\n",
    "Play around different `num_buckets` values in `test1()`. You can set it to `None` to see how that influences the running time."
   ]
  },
  {
   "cell_type": "code",
   "execution_count": 130,
   "id": "da0f1e26",
   "metadata": {
    "pycharm": {
     "name": "#%%\n"
    }
   },
   "outputs": [
    {
     "name": "stdout",
     "output_type": "stream",
     "text": [
      "bucket_sort(): 0.36800595900058397\n",
      "Built-in sorted(): 0.08535712499997317\n"
     ]
    }
   ],
   "source": [
    "def test1():\n",
    "    np.random.seed(1)\n",
    "    arr = np.random.rand(1000).tolist()\n",
    "    bucket_sort(arr, num_buckets=None)\n",
    "\n",
    "def test2():\n",
    "    np.random.seed(1)\n",
    "    arr = np.random.rand(1000).tolist()\n",
    "    sorted(arr)\n",
    "\n",
    "print('bucket_sort():', timeit.timeit('test1()', globals=globals(), number=1000))\n",
    "print('Built-in sorted():', timeit.timeit('test2()', globals=globals(), number=1000))"
   ]
  },
  {
   "cell_type": "markdown",
   "id": "3ba20c54",
   "metadata": {},
   "source": [
    "---\n",
    "\n",
    "## Task 5: Implement an enhanced bucket sort\n",
    "**Points: 3**\n",
    "\n",
    "Implement an enhanced version of bucket sort, which supports the sorting of numbers within arbitrary ranges. The number of buckets is decided by the difference between the maximum and minimum values of the input.\n",
    "\n",
    "*Hint*: The number of buckets should be $\\lceil max - min\\rceil$. Use the difference between a number and $min$ to decide which bucket to insert it."
   ]
  },
  {
   "cell_type": "code",
   "execution_count": 131,
   "id": "14a8d9aa",
   "metadata": {
    "collapsed": false,
    "jupyter": {
     "outputs_hidden": false
    },
    "pycharm": {
     "name": "#%%\n"
    }
   },
   "outputs": [],
   "source": [
    "import math\n",
    "def bucket_sort_enhanced(arr):\n",
    "    \"\"\"\n",
    "    :param arr: list, input array\n",
    "    :return: list, the sorted array\n",
    "    \"\"\"\n",
    "    ### START YOUR CODE ###\n",
    "    min_value = min(arr)\n",
    "    max_value = max(arr)\n",
    "    num_buckets = math.ceil(max_value - min_value) # Calculate the number of buckets\n",
    "    buckets = None # Initialize buckets\n",
    "    buckets = [0] * num_buckets\n",
    "    for i in range(len(buckets)):\n",
    "        buckets[i] = []\n",
    "    ### END YOUR CODE ###\n",
    "    ### START YOUR CODE ###\n",
    "    # Place each element in arr to the correct bucket.\n",
    "    for el in arr:\n",
    "        bucket_num = int(el - min_value)\n",
    "        buckets[bucket_num].append(el)\n",
    "    ### END YOUR CODE ###\n",
    "\n",
    "    ### START YOUR CODE ###\n",
    "    # Concatenate all buckets together in order. Hint: You can use a nested for loop or the `itertools` package to concatenate buckets.\n",
    "    for i in range(len(buckets)):\n",
    "        buckets[i].sort()\n",
    "    sorted_arr = list(itertools.chain.from_iterable(buckets))\n",
    "    ### END YOUR CODE ###\n",
    "\n",
    "    return sorted_arr"
   ]
  },
  {
   "cell_type": "code",
   "execution_count": 132,
   "id": "dd6c3245",
   "metadata": {
    "collapsed": false,
    "jupyter": {
     "outputs_hidden": false
    },
    "pycharm": {
     "name": "#%%\n"
    }
   },
   "outputs": [
    {
     "name": "stdout",
     "output_type": "stream",
     "text": [
      "arr: [ -1.66   4.41 -10.    -3.95  -7.06  -8.15  -6.27  -3.09  -2.06   0.78]\n",
      "arr sorted: [-10.    -8.15  -7.06  -6.27  -3.95  -3.09  -2.06  -1.66   0.78   4.41]\n"
     ]
    }
   ],
   "source": [
    "# Do NOT change the test code here.\n",
    "np.random.seed(1)\n",
    "arr = (np.random.rand(10) * 20 - 10).tolist()\n",
    "arr_sorted = bucket_sort_enhanced(arr)\n",
    "\n",
    "np.set_printoptions(precision=2)\n",
    "print('arr:', np.array(arr))\n",
    "print('arr sorted:', np.array(arr_sorted))"
   ]
  },
  {
   "cell_type": "markdown",
   "id": "b4c4638b",
   "metadata": {
    "pycharm": {
     "name": "#%% md\n"
    }
   },
   "source": [
    "**Expected output**\n",
    "\n",
    "arr: [ -1.66   4.41 -10.    -3.95  -7.06  -8.15  -6.27  -3.09  -2.06   0.78]\\\n",
    "arr sorted: [-10.    -8.15  -7.06  -6.27  -3.95  -3.09  -2.06  -1.66   0.78   4.41]\n",
    "\n",
    "---\n",
    "\n",
    "## Task 6 (Bonus): Implement radix sort\n",
    "**Points: 3** (Bonus)\n",
    "\n",
    "Implement radix sort with following `radix_sort()` function.\n",
    "\n",
    "*Hints*: A temporary object `tmp_list` is used to organize all numbers that share the same digits at a certain position. For example, in the input array `[531, 130, 320, 181]`,`320` and `130` both have digit `0` at position 1, so they should be appended to `tmp_list[0]`. `531` and `181` both have digit `1` at position 1, so they should be appended to `tmp_list[1]`, and so forth. Then by taking out elements from `tmp_list` in order, the resulting intermediate output should be `[320, 130, 531, 181]`.\n",
    "\n",
    "All you need to do next is to repeat this procedure for position $k=2,3$."
   ]
  },
  {
   "cell_type": "code",
   "execution_count": 133,
   "id": "bebb82bc",
   "metadata": {
    "collapsed": false,
    "jupyter": {
     "outputs_hidden": false
    },
    "pycharm": {
     "name": "#%%\n"
    }
   },
   "outputs": [],
   "source": [
    "def radix_sort(arr, print_at_iters=[]):\n",
    "    # For printing\n",
    "    if isinstance(print_at_iters, int):\n",
    "        assert print_at_iters >= 0\n",
    "        print_at_iter = [print_at_iters]\n",
    "\n",
    "    ### START YOUR CODE ###\n",
    "    digit_position = 1 # position starts from 1\n",
    "    max_num = max(arr) # maximum number in input array\n",
    "    sorted_arr = arr[:] # make a copy of arr\n",
    "    ### END YOUR CODE ###\n",
    "\n",
    "    iteration = 0\n",
    "    if iteration in print_at_iters:\n",
    "        print(f'iteration {iteration}: {sorted_arr}')\n",
    "\n",
    "    while digit_position <= max_num:\n",
    "        ### START YOUR CODE ###\n",
    "        tmp_list = [0] * 10 # Hint: initialize to a list of 10 empty lists, because there are 10 possible digits\n",
    "        for i in range(10):\n",
    "            tmp_list[i] = []\n",
    "        ### END YOUR CODE ###\n",
    "\n",
    "        ### START YOUR CODE ###\n",
    "        for num in sorted_arr: # Specify the correct range of loop. Hint: Use arr or sorted_arr?\n",
    "            digit_number = num // digit_position % 10 # Find the digit at current position. Hint: Use divide and modular\n",
    "            tmp_list[digit_number].append(num)\n",
    "        ### END YOUR CODE ###\n",
    "        ### START YOUR CODE ###\n",
    "        # Take the elements from tmp_list out and copy to sorted_arr, in the correct order.\n",
    "        i = 0\n",
    "        for numbers in tmp_list: # Specify the range\n",
    "            for num in numbers: # Specify the range\n",
    "                sorted_arr[i] = num\n",
    "                i += 1\n",
    "        ### END YOUR CODE ###\n",
    "\n",
    "        iteration += 1\n",
    "        if iteration in print_at_iters:\n",
    "            print(f'iteration {iteration}: {sorted_arr}')\n",
    "\n",
    "        ### START YOUR CODE ###\n",
    "        # Hint: Increase digit_position from 1 to 10, 10 to 100, and so on...\n",
    "        digit_position *= 10\n",
    "        ### END YOUR CODE ###\n",
    "\n",
    "    return sorted_arr"
   ]
  },
  {
   "cell_type": "code",
   "execution_count": 134,
   "id": "3f0691bb",
   "metadata": {
    "collapsed": false,
    "jupyter": {
     "outputs_hidden": false
    },
    "pycharm": {
     "name": "#%%\n"
    }
   },
   "outputs": [
    {
     "name": "stdout",
     "output_type": "stream",
     "text": [
      "arr sorted: [0, 2, 2, 3, 5]\n",
      "arr1: [329, 457, 657, 839, 436, 720, 355]\n",
      "iteration 1: [720, 355, 436, 457, 657, 329, 839]\n",
      "iteration 2: [720, 329, 436, 839, 355, 457, 657]\n",
      "arr1 sorted: [329, 355, 436, 457, 657, 720, 839]\n"
     ]
    }
   ],
   "source": [
    "# Do NOT change the test code here.\n",
    "arr = [0, 5, 3, 2, 2]\n",
    "arr_sorted = radix_sort(arr)\n",
    "print('arr sorted:', arr_sorted)\n",
    "\n",
    "arr1 = [329, 457, 657, 839, 436, 720, 355]\n",
    "print('arr1:', arr1)\n",
    "arr1_sorted = radix_sort(arr1, print_at_iters=[1,2])\n",
    "print('arr1 sorted:', arr1_sorted)"
   ]
  },
  {
   "cell_type": "markdown",
   "id": "d0054e02",
   "metadata": {
    "pycharm": {
     "name": "#%% md\n"
    }
   },
   "source": [
    "**Expected output**\n",
    "\n",
    "arr sorted: [0, 2, 2, 3, 5]\\\n",
    "arr1: [329, 457, 657, 839, 436, 720, 355]\\\n",
    "iteration 1: [720, 355, 436, 457, 657, 329, 839]\\\n",
    "iteration 2: [720, 329, 436, 839, 355, 457, 657]\\\n",
    "arr1 sorted: [329, 355, 436, 457, 657, 720, 839]"
   ]
  }
 ],
 "metadata": {
  "kernelspec": {
   "display_name": "Python 3 (ipykernel)",
   "language": "python",
   "name": "python3"
  },
  "language_info": {
   "codemirror_mode": {
    "name": "ipython",
    "version": 3
   },
   "file_extension": ".py",
   "mimetype": "text/x-python",
   "name": "python",
   "nbconvert_exporter": "python",
   "pygments_lexer": "ipython3",
   "version": "3.9.12"
  }
 },
 "nbformat": 4,
 "nbformat_minor": 5
}
