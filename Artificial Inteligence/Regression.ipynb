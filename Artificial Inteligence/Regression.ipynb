{
  "cells": [
    {
      "cell_type": "markdown",
      "metadata": {
        "id": "MontscK7i-OX"
      },
      "source": [
        "## Assignment 2 Regression\n",
        "### CS450 Fall 2022\n",
        "\n",
        "We will not use a grading script for this assignment, but the grading criteria is explained in the instructions.\n",
        "If you are having issues with inconsistent results, try setting seeds. If you find a seed that works for you, keep it in your code so we can see the results you expect us to see when we look at your code."
      ]
    },
    {
      "cell_type": "markdown",
      "metadata": {
        "id": "_cCoM_QBi-Oa"
      },
      "source": [
        "# **Student Name: Dante Viscuso**\n"
      ]
    },
    {
      "cell_type": "markdown",
      "metadata": {
        "id": "PyKe4auVi-Ob"
      },
      "source": [
        "## Problem 1 (20 points)\n",
        "### Simple Linear Regression\n",
        "The purpose of this exercise is to implement a simple linear regression from scratch.\n",
        "Do not use a library to implement it.\n",
        "You will generate synthetic data using the linear equation y = 50x + 22\n",
        "The synthetic data will have some random variation to make the problem interesting. \n",
        "* Grading Criteria: The result of your regression should round to the orginal equation. It is not expected to be perfect.\n",
        "* I have a sample notebook that I will be going over in class. That will get you 80% through problem 1"
      ]
    },
    {
      "cell_type": "markdown",
      "metadata": {
        "id": "x_Yhit-Oi-Ob"
      },
      "source": [
        "### Part 1 - Generate Data\n",
        "1. Randomly select 20 X values between 0 and 100. Use a uniform distribution.\n",
        "2. Calculate Y values using 50x + 22 + RANDOM_VARIATION\n",
        "        2.1 The random variation is because we don't want it to be perfect\n",
        "        2.2 Use a normal distribution with values between -1 and 1 "
      ]
    },
    {
      "cell_type": "code",
      "execution_count": null,
      "metadata": {
        "id": "Kbke7EV9i-Oc"
      },
      "outputs": [],
      "source": [
        "import matplotlib.pyplot as plt\n",
        "import numpy as np"
      ]
    },
    {
      "cell_type": "code",
      "source": [
        "def generate_values(num_values, double_y):\n",
        "  x_values, y_values = [], []\n",
        "  for i in range(num_values):\n",
        "    x = np.random.uniform(0,100)\n",
        "    x_values.append(x)\n",
        "    y = 50 * x + 22 + np.random.uniform(-1,1)\n",
        "    y_values.append(y)\n",
        "\n",
        "  if double_y:\n",
        "    y_values[9] *= 2\n",
        "  return x_values, y_values"
      ],
      "metadata": {
        "id": "koHsQadca5sS"
      },
      "execution_count": null,
      "outputs": []
    },
    {
      "cell_type": "code",
      "source": [
        "# Generate Data\n",
        "x_vals, y_vals = generate_values(20,False)"
      ],
      "metadata": {
        "id": "VA0ZQrdibcsA"
      },
      "execution_count": null,
      "outputs": []
    },
    {
      "cell_type": "markdown",
      "metadata": {
        "id": "tBHpuD-Ki-Od"
      },
      "source": [
        "### Part 2 - Calculate Regression\n",
        "Now that you have the data, calcualate the regression. Show your value for slope and intercept. Do not use an libraries to do it for you.\n",
        "<BR>You have some random variance, so you probably won't get exactly y=50x+22 , but it should round to it."
      ]
    },
    {
      "cell_type": "code",
      "execution_count": null,
      "metadata": {
        "id": "isytr-EZi-Oe"
      },
      "outputs": [],
      "source": [
        "def calculate_coefficents(x_vals,y_vals):\n",
        "  # Calc the Mean\n",
        "  mean_x = sum(x_vals) / float(len(x_vals))\n",
        "  mean_y = sum(y_vals) / float(len(y_vals))\n",
        "\n",
        "  # Calc the variance\n",
        "  var_x = sum([(x-mean_x)**2 for x in x_vals])\n",
        "  var_y = sum([(y-mean_y)**2 for y in y_vals])\n",
        "\n",
        "  # Calc the covariance\n",
        "  co_var = 0.0\n",
        "  for i in range(len(x_vals)):\n",
        "    co_var += (x_vals[i] - mean_x) * (y_vals[i] - mean_y)\n",
        "\n",
        "  # Calc the Coefficients\n",
        "  b1 = co_var / var_x\n",
        "  b0 = mean_y - b1 * mean_x\n",
        "\n",
        "  return b0, b1"
      ]
    },
    {
      "cell_type": "code",
      "source": [
        "intercept, slope =  calculate_coefficents(x_vals,y_vals)\n",
        "print(f\"Slope:{slope}\")\n",
        "print(f\"Intercept:{intercept}\")"
      ],
      "metadata": {
        "colab": {
          "base_uri": "https://localhost:8080/"
        },
        "id": "fY9bsYpMYSUX",
        "outputId": "5a443c1d-b61d-49ac-9218-e6f44c49cc44"
      },
      "execution_count": null,
      "outputs": [
        {
          "output_type": "stream",
          "name": "stdout",
          "text": [
            "Slope:50.00157694892192\n",
            "Intercept:21.85769504396103\n"
          ]
        }
      ]
    },
    {
      "cell_type": "markdown",
      "metadata": {
        "id": "JCZHqUhni-Oe"
      },
      "source": [
        "### Part 3 - Visualization\n",
        "Create a visualization\n",
        "* Include a scatter plot of the data points\n",
        "* Include the real line for y = 50x +22 in blue\n",
        "* Include the regression line in red (they may overlap, that is ok)"
      ]
    },
    {
      "cell_type": "code",
      "source": [
        "def create_plot(x_vals, y_vals):\n",
        "  x = np.linspace(0,100,100)\n",
        "  intercept, slope =  calculate_coefficents(x_vals,y_vals)\n",
        "  y = intercept + slope * x\n",
        "  z = 22 + 50 * x\n",
        "\n",
        "  label = f\"Linear Regression: {round(slope, 2)}x + {round(intercept, 2)}\" if intercept > 0 else f\"Linear Regression: {round(slope, 2)}x - {round(intercept, 2) * -1}\"\n",
        "  plt.plot(x, y, '-r', label=label)\n",
        "  plt.plot(x, z, '-b', label='Actual: 50x + 22')\n",
        "\n",
        "  plt.scatter(x_vals, y_vals, color='black')\n",
        "\n",
        "  plt.xlabel('x', color='#1C2833')\n",
        "  plt.ylabel('y', color='#1C2833')\n",
        "  plt.legend(loc='upper left')\n",
        "  plt.grid()\n",
        "  plt.show()"
      ],
      "metadata": {
        "id": "sOWPayF1gbDW"
      },
      "execution_count": null,
      "outputs": []
    },
    {
      "cell_type": "code",
      "source": [
        "create_plot(x_vals, y_vals)"
      ],
      "metadata": {
        "colab": {
          "base_uri": "https://localhost:8080/",
          "height": 279
        },
        "id": "grFUiid4fHdz",
        "outputId": "517cce4b-0445-4a27-ced8-d47c6306817b"
      },
      "execution_count": null,
      "outputs": [
        {
          "output_type": "display_data",
          "data": {
            "text/plain": [
              "<Figure size 432x288 with 1 Axes>"
            ],
            "image/png": "[encoded data removed]"
          },
          "metadata": {
            "needs_background": "light"
          }
        }
      ]
    },
    {
      "cell_type": "markdown",
      "metadata": {
        "id": "o12d7FmNi-Of"
      },
      "source": [
        "### Part 4 - Create an outlier\n",
        "Double the Y value for your 10th data point.\n",
        "Run your regression function again and observe how the equation to the line changes."
      ]
    },
    {
      "cell_type": "code",
      "execution_count": null,
      "metadata": {
        "id": "MMDwsu0Xi-Og",
        "colab": {
          "base_uri": "https://localhost:8080/",
          "height": 279
        },
        "outputId": "69705859-90ab-4dba-8ccd-e6ae6455099a"
      },
      "outputs": [
        {
          "output_type": "display_data",
          "data": {
            "text/plain": [
              "<Figure size 432x288 with 1 Axes>"
            ],
            "image/png": "[encoded data removed]"
          },
          "metadata": {
            "needs_background": "light"
          }
        }
      ],
      "source": [
        "x_vals, y_vals = generate_values(20,True)\n",
        "create_plot(x_vals, y_vals)"
      ]
    },
    {
      "cell_type": "markdown",
      "source": [
        "## Problem 2 (10 points)\n",
        "### Multiple Linear Regresion \n",
        "You have already demonstrate that you can implement a simple linear regression. Now we will look at a dataset that use multiple variables.\n",
        "I am using data from https://www.kaggle.com/datasets/mirichoi0218/insurance?select=insurance.csv\n",
        "\n",
        "Predict the charges based on the independent variables?\n",
        "Are all the independent variables really independent? What would you do if they weren't?\n",
        "\n",
        "I slightly modified the data to add a bit more fun.\n",
        "If you go to the Kaggle site and click the Code tab, you can see sample notebooks that can help you with this problem. However, remember that I changed some of the data so it is not an exact match.\n",
        "\n",
        "I placed the modified datafile on github and included code to pull the data into a Panda dataframe.\n",
        "\n",
        "Train your model on 90% of the data and use the other 10% for validation. How close are the predictions? Explain how you evaluate closeness.\n",
        "\n",
        "Explain your process for cleaning the data.\n",
        "\n",
        "Try a few different models that do not use all the independent variables. Do some of them perform better than others?  There are techniques to determine the best subset of features to use, but they are out of scope for this class.\n",
        "\n"
      ],
      "metadata": {
        "id": "fOW71pQgjpgn"
      }
    },
    {
      "cell_type": "code",
      "source": [
        "import pandas as pd\n",
        "import seaborn as sns"
      ],
      "metadata": {
        "id": "dcd6Bxu4VO22"
      },
      "execution_count": null,
      "outputs": []
    },
    {
      "cell_type": "code",
      "source": [
        "dfInsurance = pd.read_csv(\"https://raw.githubusercontent.com/willwilson-sdsu/CS550/main/insurance_data_cs450_fa2022.csv\")"
      ],
      "metadata": {
        "id": "Wwu7iXzAVS7Y"
      },
      "execution_count": null,
      "outputs": []
    },
    {
      "cell_type": "markdown",
      "source": [
        "#### Data Exploration\n",
        "* We don't go into depth on this in this class, so you do not need to provide an in depth exporatory data analysis. You only need to look into the data enough to determine what cleaning and transformations you need to do before creating your model"
      ],
      "metadata": {
        "id": "u76JK5TEUBau"
      }
    },
    {
      "cell_type": "code",
      "source": [
        "dfInsurance.head()"
      ],
      "metadata": {
        "id": "CeBZBh4QluSa",
        "colab": {
          "base_uri": "https://localhost:8080/",
          "height": 206
        },
        "outputId": "40aa35f4-bc06-4d27-ff4f-be5c850501ac"
      },
      "execution_count": null,
      "outputs": [
        {
          "output_type": "execute_result",
          "data": {
            "text/plain": [
              "   age     sex     bmi  children smoker     region      charges\n",
              "0   19  female  27.900         0    yes  southwest    16884.924\n",
              "1   18    male  33.770         1     no  southeast    1725.5523\n",
              "2   28    male  33.000         3     no  southeast     4449.462\n",
              "3   33    male  22.705         0     no  northwest  21984.47061\n",
              "4   32    male  28.880         0     no  northwest    3866.8552"
            ],
            "text/html": [
              "\n",
              "  <div id=\"df-99ff18d8-400b-4a88-8759-7d7d2ab55fbe\">\n",
              "    <div class=\"colab-df-container\">\n",
              "      <div>\n",
              "<style scoped>\n",
              "    .dataframe tbody tr th:only-of-type {\n",
              "        vertical-align: middle;\n",
              "    }\n",
              "\n",
              "    .dataframe tbody tr th {\n",
              "        vertical-align: top;\n",
              "    }\n",
              "\n",
              "    .dataframe thead th {\n",
              "        text-align: right;\n",
              "    }\n",
              "</style>\n",
              "<table border=\"1\" class=\"dataframe\">\n",
              "  <thead>\n",
              "    <tr style=\"text-align: right;\">\n",
              "      <th></th>\n",
              "      <th>age</th>\n",
              "      <th>sex</th>\n",
              "      <th>bmi</th>\n",
              "      <th>children</th>\n",
              "      <th>smoker</th>\n",
              "      <th>region</th>\n",
              "      <th>charges</th>\n",
              "    </tr>\n",
              "  </thead>\n",
              "  <tbody>\n",
              "    <tr>\n",
              "      <th>0</th>\n",
              "      <td>19</td>\n",
              "      <td>female</td>\n",
              "      <td>27.900</td>\n",
              "      <td>0</td>\n",
              "      <td>yes</td>\n",
              "      <td>southwest</td>\n",
              "      <td>16884.924</td>\n",
              "    </tr>\n",
              "    <tr>\n",
              "      <th>1</th>\n",
              "      <td>18</td>\n",
              "      <td>male</td>\n",
              "      <td>33.770</td>\n",
              "      <td>1</td>\n",
              "      <td>no</td>\n",
              "      <td>southeast</td>\n",
              "      <td>1725.5523</td>\n",
              "    </tr>\n",
              "    <tr>\n",
              "      <th>2</th>\n",
              "      <td>28</td>\n",
              "      <td>male</td>\n",
              "      <td>33.000</td>\n",
              "      <td>3</td>\n",
              "      <td>no</td>\n",
              "      <td>southeast</td>\n",
              "      <td>4449.462</td>\n",
              "    </tr>\n",
              "    <tr>\n",
              "      <th>3</th>\n",
              "      <td>33</td>\n",
              "      <td>male</td>\n",
              "      <td>22.705</td>\n",
              "      <td>0</td>\n",
              "      <td>no</td>\n",
              "      <td>northwest</td>\n",
              "      <td>21984.47061</td>\n",
              "    </tr>\n",
              "    <tr>\n",
              "      <th>4</th>\n",
              "      <td>32</td>\n",
              "      <td>male</td>\n",
              "      <td>28.880</td>\n",
              "      <td>0</td>\n",
              "      <td>no</td>\n",
              "      <td>northwest</td>\n",
              "      <td>3866.8552</td>\n",
              "    </tr>\n",
              "  </tbody>\n",
              "</table>\n",
              "</div>\n",
              "      <button class=\"colab-df-convert\" onclick=\"convertToInteractive('df-99ff18d8-400b-4a88-8759-7d7d2ab55fbe')\"\n",
              "              title=\"Convert this dataframe to an interactive table.\"\n",
              "              style=\"display:none;\">\n",
              "        \n",
              "  <svg xmlns=\"http://www.w3.org/2000/svg\" height=\"24px\"viewBox=\"0 0 24 24\"\n",
              "       width=\"24px\">\n",
              "    <path d=\"M0 0h24v24H0V0z\" fill=\"none\"/>\n",
              "    <path d=\"M18.56 5.44l.94 2.06.94-2.06 2.06-.94-2.06-.94-.94-2.06-.94 2.06-2.06.94zm-11 1L8.5 8.5l.94-2.06 2.06-.94-2.06-.94L8.5 2.5l-.94 2.06-2.06.94zm10 10l.94 2.06.94-2.06 2.06-.94-2.06-.94-.94-2.06-.94 2.06-2.06.94z\"/><path d=\"M17.41 7.96l-1.37-1.37c-.4-.4-.92-.59-1.43-.59-.52 0-1.04.2-1.43.59L10.3 9.45l-7.72 7.72c-.78.78-.78 2.05 0 2.83L4 21.41c.39.39.9.59 1.41.59.51 0 1.02-.2 1.41-.59l7.78-7.78 2.81-2.81c.8-.78.8-2.07 0-2.86zM5.41 20L4 18.59l7.72-7.72 1.47 1.35L5.41 20z\"/>\n",
              "  </svg>\n",
              "      </button>\n",
              "      \n",
              "  <style>\n",
              "    .colab-df-container {\n",
              "      display:flex;\n",
              "      flex-wrap:wrap;\n",
              "      gap: 12px;\n",
              "    }\n",
              "\n",
              "    .colab-df-convert {\n",
              "      background-color: #E8F0FE;\n",
              "      border: none;\n",
              "      border-radius: 50%;\n",
              "      cursor: pointer;\n",
              "      display: none;\n",
              "      fill: #1967D2;\n",
              "      height: 32px;\n",
              "      padding: 0 0 0 0;\n",
              "      width: 32px;\n",
              "    }\n",
              "\n",
              "    .colab-df-convert:hover {\n",
              "      background-color: #E2EBFA;\n",
              "      box-shadow: 0px 1px 2px rgba(60, 64, 67, 0.3), 0px 1px 3px 1px rgba(60, 64, 67, 0.15);\n",
              "      fill: #174EA6;\n",
              "    }\n",
              "\n",
              "    [theme=dark] .colab-df-convert {\n",
              "      background-color: #3B4455;\n",
              "      fill: #D2E3FC;\n",
              "    }\n",
              "\n",
              "    [theme=dark] .colab-df-convert:hover {\n",
              "      background-color: #434B5C;\n",
              "      box-shadow: 0px 1px 3px 1px rgba(0, 0, 0, 0.15);\n",
              "      filter: drop-shadow(0px 1px 2px rgba(0, 0, 0, 0.3));\n",
              "      fill: #FFFFFF;\n",
              "    }\n",
              "  </style>\n",
              "\n",
              "      <script>\n",
              "        const buttonEl =\n",
              "          document.querySelector('#df-99ff18d8-400b-4a88-8759-7d7d2ab55fbe button.colab-df-convert');\n",
              "        buttonEl.style.display =\n",
              "          google.colab.kernel.accessAllowed ? 'block' : 'none';\n",
              "\n",
              "        async function convertToInteractive(key) {\n",
              "          const element = document.querySelector('#df-99ff18d8-400b-4a88-8759-7d7d2ab55fbe');\n",
              "          const dataTable =\n",
              "            await google.colab.kernel.invokeFunction('convertToInteractive',\n",
              "                                                     [key], {});\n",
              "          if (!dataTable) return;\n",
              "\n",
              "          const docLinkHtml = 'Like what you see? Visit the ' +\n",
              "            '<a target=\"_blank\" href=https://colab.research.google.com/notebooks/data_table.ipynb>data table notebook</a>'\n",
              "            + ' to learn more about interactive tables.';\n",
              "          element.innerHTML = '';\n",
              "          dataTable['output_type'] = 'display_data';\n",
              "          await google.colab.output.renderOutput(dataTable, element);\n",
              "          const docLink = document.createElement('div');\n",
              "          docLink.innerHTML = docLinkHtml;\n",
              "          element.appendChild(docLink);\n",
              "        }\n",
              "      </script>\n",
              "    </div>\n",
              "  </div>\n",
              "  "
            ]
          },
          "metadata": {},
          "execution_count": 12
        }
      ]
    },
    {
      "cell_type": "code",
      "source": [
        "dfInsurance.isnull().sum()"
      ],
      "metadata": {
        "colab": {
          "base_uri": "https://localhost:8080/"
        },
        "id": "T32FvUDf6Dum",
        "outputId": "fbe58d86-0aa8-4325-9e56-5798ded16dd7"
      },
      "execution_count": null,
      "outputs": [
        {
          "output_type": "execute_result",
          "data": {
            "text/plain": [
              "age         0\n",
              "sex         0\n",
              "bmi         1\n",
              "children    0\n",
              "smoker      1\n",
              "region      0\n",
              "charges     0\n",
              "dtype: int64"
            ]
          },
          "metadata": {},
          "execution_count": 13
        }
      ]
    },
    {
      "cell_type": "code",
      "source": [
        "dfInsurance.nunique()"
      ],
      "metadata": {
        "colab": {
          "base_uri": "https://localhost:8080/"
        },
        "id": "0ppUXBzg6ENd",
        "outputId": "72fa5e32-6d33-42be-c43d-0dd856ece970"
      },
      "execution_count": null,
      "outputs": [
        {
          "output_type": "execute_result",
          "data": {
            "text/plain": [
              "age           49\n",
              "sex            2\n",
              "bmi          549\n",
              "children       6\n",
              "smoker         2\n",
              "region         5\n",
              "charges     1336\n",
              "dtype: int64"
            ]
          },
          "metadata": {},
          "execution_count": 14
        }
      ]
    },
    {
      "cell_type": "code",
      "source": [
        "dfInsurance.dtypes"
      ],
      "metadata": {
        "colab": {
          "base_uri": "https://localhost:8080/"
        },
        "id": "gcdqR3pc6Qsk",
        "outputId": "f8e88021-e154-4561-d89d-645769c05c5e"
      },
      "execution_count": null,
      "outputs": [
        {
          "output_type": "execute_result",
          "data": {
            "text/plain": [
              "age           int64\n",
              "sex          object\n",
              "bmi         float64\n",
              "children      int64\n",
              "smoker       object\n",
              "region       object\n",
              "charges      object\n",
              "dtype: object"
            ]
          },
          "metadata": {},
          "execution_count": 15
        }
      ]
    },
    {
      "cell_type": "code",
      "source": [
        "dfInsurance['charges'].value_counts()"
      ],
      "metadata": {
        "colab": {
          "base_uri": "https://localhost:8080/"
        },
        "id": "5ki335kb6eN4",
        "outputId": "fab2fac3-a8b5-425b-c0d5-f56249f5fa7e"
      },
      "execution_count": null,
      "outputs": [
        {
          "output_type": "execute_result",
          "data": {
            "text/plain": [
              "1639.5631      2\n",
              "unknown        2\n",
              "16884.924      1\n",
              "2117.33885     1\n",
              "2221.56445     1\n",
              "              ..\n",
              "7345.084       1\n",
              "26109.32905    1\n",
              "28287.89766    1\n",
              "1149.3959      1\n",
              "29141.3603     1\n",
              "Name: charges, Length: 1336, dtype: int64"
            ]
          },
          "metadata": {},
          "execution_count": 16
        }
      ]
    },
    {
      "cell_type": "markdown",
      "source": [
        "# Male or Female\n"
      ],
      "metadata": {
        "id": "7MHaYxhB4ld2"
      }
    },
    {
      "cell_type": "code",
      "source": [
        "sns.countplot(x = dfInsurance['sex']);"
      ],
      "metadata": {
        "colab": {
          "base_uri": "https://localhost:8080/",
          "height": 280
        },
        "id": "hmKvf3ax1Q4l",
        "outputId": "418794cd-f012-43e0-95a5-1575fc3aabbb"
      },
      "execution_count": null,
      "outputs": [
        {
          "output_type": "display_data",
          "data": {
            "text/plain": [
              "<Figure size 432x288 with 1 Axes>"
            ],
            "image/png": "[encoded data removed]"
          },
          "metadata": {
            "needs_background": "light"
          }
        }
      ]
    },
    {
      "cell_type": "markdown",
      "source": [
        "# Smoker or Non-Smoker"
      ],
      "metadata": {
        "id": "td1Mfoff4pp0"
      }
    },
    {
      "cell_type": "code",
      "source": [
        "sns.countplot(x = dfInsurance['smoker']);"
      ],
      "metadata": {
        "colab": {
          "base_uri": "https://localhost:8080/",
          "height": 279
        },
        "id": "AbLw74x91RIr",
        "outputId": "eec7e7f3-900c-4993-f1c2-3bcc4fd87043"
      },
      "execution_count": null,
      "outputs": [
        {
          "output_type": "display_data",
          "data": {
            "text/plain": [
              "<Figure size 432x288 with 1 Axes>"
            ],
            "image/png": "[encoded data removed]"
          },
          "metadata": {
            "needs_background": "light"
          }
        }
      ]
    },
    {
      "cell_type": "markdown",
      "source": [
        "# Number of Children"
      ],
      "metadata": {
        "id": "R0GcjFia4zU9"
      }
    },
    {
      "cell_type": "code",
      "source": [
        "sns.countplot( x = dfInsurance['children']);"
      ],
      "metadata": {
        "colab": {
          "base_uri": "https://localhost:8080/",
          "height": 282
        },
        "id": "wsqWIwki1Rpz",
        "outputId": "bf3d49d0-0c3f-4d72-e64c-43e41dab865d"
      },
      "execution_count": null,
      "outputs": [
        {
          "output_type": "display_data",
          "data": {
            "text/plain": [
              "<Figure size 432x288 with 1 Axes>"
            ],
            "image/png": "[encoded data removed]"
          },
          "metadata": {
            "needs_background": "light"
          }
        }
      ]
    },
    {
      "cell_type": "markdown",
      "source": [
        "# Geo Region"
      ],
      "metadata": {
        "id": "EQLlElkW43GW"
      }
    },
    {
      "cell_type": "code",
      "source": [
        "sns.countplot(x = dfInsurance['region']);"
      ],
      "metadata": {
        "colab": {
          "base_uri": "https://localhost:8080/",
          "height": 279
        },
        "id": "LgWy4Cnk1SA-",
        "outputId": "c05e3659-a373-4816-c11b-9bf60af70ae9"
      },
      "execution_count": null,
      "outputs": [
        {
          "output_type": "display_data",
          "data": {
            "text/plain": [
              "<Figure size 432x288 with 1 Axes>"
            ],
            "image/png": "[encoded data removed]"
          },
          "metadata": {
            "needs_background": "light"
          }
        }
      ]
    },
    {
      "cell_type": "markdown",
      "source": [
        "# Age"
      ],
      "metadata": {
        "id": "F2ovGW4Q5Dls"
      }
    },
    {
      "cell_type": "code",
      "source": [
        "sns.displot(dfInsurance['age'], kde=False, color=\"blue\");"
      ],
      "metadata": {
        "colab": {
          "base_uri": "https://localhost:8080/",
          "height": 369
        },
        "id": "0YUkm5l11SPK",
        "outputId": "c8934b09-2595-45a5-b763-2fab6c35f84d"
      },
      "execution_count": null,
      "outputs": [
        {
          "output_type": "display_data",
          "data": {
            "text/plain": [
              "<Figure size 360x360 with 1 Axes>"
            ],
            "image/png": "[encoded data removed]"
          },
          "metadata": {
            "needs_background": "light"
          }
        }
      ]
    },
    {
      "cell_type": "markdown",
      "source": [
        "# Body Mass Index"
      ],
      "metadata": {
        "id": "dB3nnMc748KR"
      }
    },
    {
      "cell_type": "code",
      "source": [
        "sns.displot(dfInsurance['bmi'], kde=False, color=\"red\");"
      ],
      "metadata": {
        "colab": {
          "base_uri": "https://localhost:8080/",
          "height": 369
        },
        "id": "Fj8UAo6F48ex",
        "outputId": "1f6ff7f2-c8b9-4421-8770-27b0de4ae1c7"
      },
      "execution_count": null,
      "outputs": [
        {
          "output_type": "display_data",
          "data": {
            "text/plain": [
              "<Figure size 360x360 with 1 Axes>"
            ],
            "image/png": "[encoded data removed]"
          },
          "metadata": {
            "needs_background": "light"
          }
        }
      ]
    },
    {
      "cell_type": "code",
      "source": [
        "dfInsurance.describe(include=\"all\").transpose()"
      ],
      "metadata": {
        "colab": {
          "base_uri": "https://localhost:8080/",
          "height": 269
        },
        "id": "cBt357uz3wCd",
        "outputId": "f2526db5-75e8-4fc3-c331-f1a875a53653"
      },
      "execution_count": null,
      "outputs": [
        {
          "output_type": "execute_result",
          "data": {
            "text/plain": [
              "           count unique        top  freq       mean       std    min     25%  \\\n",
              "age       1338.0    NaN        NaN   NaN  39.392377  16.06012   -8.0   26.25   \n",
              "sex         1338      2       male   676        NaN       NaN    NaN     NaN   \n",
              "bmi       1337.0    NaN        NaN   NaN  30.722517  6.463766  15.96  26.315   \n",
              "children  1338.0    NaN        NaN   NaN   1.094918  1.205493    0.0     0.0   \n",
              "smoker      1337      2         no  1064        NaN       NaN    NaN     NaN   \n",
              "region      1338      5  southeast   364        NaN       NaN    NaN     NaN   \n",
              "charges     1338   1336  1639.5631     2        NaN       NaN    NaN     NaN   \n",
              "\n",
              "           50%   75%    max  \n",
              "age       39.0  51.0  320.0  \n",
              "sex        NaN   NaN    NaN  \n",
              "bmi       30.4  34.7  109.0  \n",
              "children   1.0   2.0    5.0  \n",
              "smoker     NaN   NaN    NaN  \n",
              "region     NaN   NaN    NaN  \n",
              "charges    NaN   NaN    NaN  "
            ],
            "text/html": [
              "\n",
              "  <div id=\"df-19e24b02-13d7-4183-86be-cfa9f52ac671\">\n",
              "    <div class=\"colab-df-container\">\n",
              "      <div>\n",
              "<style scoped>\n",
              "    .dataframe tbody tr th:only-of-type {\n",
              "        vertical-align: middle;\n",
              "    }\n",
              "\n",
              "    .dataframe tbody tr th {\n",
              "        vertical-align: top;\n",
              "    }\n",
              "\n",
              "    .dataframe thead th {\n",
              "        text-align: right;\n",
              "    }\n",
              "</style>\n",
              "<table border=\"1\" class=\"dataframe\">\n",
              "  <thead>\n",
              "    <tr style=\"text-align: right;\">\n",
              "      <th></th>\n",
              "      <th>count</th>\n",
              "      <th>unique</th>\n",
              "      <th>top</th>\n",
              "      <th>freq</th>\n",
              "      <th>mean</th>\n",
              "      <th>std</th>\n",
              "      <th>min</th>\n",
              "      <th>25%</th>\n",
              "      <th>50%</th>\n",
              "      <th>75%</th>\n",
              "      <th>max</th>\n",
              "    </tr>\n",
              "  </thead>\n",
              "  <tbody>\n",
              "    <tr>\n",
              "      <th>age</th>\n",
              "      <td>1338.0</td>\n",
              "      <td>NaN</td>\n",
              "      <td>NaN</td>\n",
              "      <td>NaN</td>\n",
              "      <td>39.392377</td>\n",
              "      <td>16.06012</td>\n",
              "      <td>-8.0</td>\n",
              "      <td>26.25</td>\n",
              "      <td>39.0</td>\n",
              "      <td>51.0</td>\n",
              "      <td>320.0</td>\n",
              "    </tr>\n",
              "    <tr>\n",
              "      <th>sex</th>\n",
              "      <td>1338</td>\n",
              "      <td>2</td>\n",
              "      <td>male</td>\n",
              "      <td>676</td>\n",
              "      <td>NaN</td>\n",
              "      <td>NaN</td>\n",
              "      <td>NaN</td>\n",
              "      <td>NaN</td>\n",
              "      <td>NaN</td>\n",
              "      <td>NaN</td>\n",
              "      <td>NaN</td>\n",
              "    </tr>\n",
              "    <tr>\n",
              "      <th>bmi</th>\n",
              "      <td>1337.0</td>\n",
              "      <td>NaN</td>\n",
              "      <td>NaN</td>\n",
              "      <td>NaN</td>\n",
              "      <td>30.722517</td>\n",
              "      <td>6.463766</td>\n",
              "      <td>15.96</td>\n",
              "      <td>26.315</td>\n",
              "      <td>30.4</td>\n",
              "      <td>34.7</td>\n",
              "      <td>109.0</td>\n",
              "    </tr>\n",
              "    <tr>\n",
              "      <th>children</th>\n",
              "      <td>1338.0</td>\n",
              "      <td>NaN</td>\n",
              "      <td>NaN</td>\n",
              "      <td>NaN</td>\n",
              "      <td>1.094918</td>\n",
              "      <td>1.205493</td>\n",
              "      <td>0.0</td>\n",
              "      <td>0.0</td>\n",
              "      <td>1.0</td>\n",
              "      <td>2.0</td>\n",
              "      <td>5.0</td>\n",
              "    </tr>\n",
              "    <tr>\n",
              "      <th>smoker</th>\n",
              "      <td>1337</td>\n",
              "      <td>2</td>\n",
              "      <td>no</td>\n",
              "      <td>1064</td>\n",
              "      <td>NaN</td>\n",
              "      <td>NaN</td>\n",
              "      <td>NaN</td>\n",
              "      <td>NaN</td>\n",
              "      <td>NaN</td>\n",
              "      <td>NaN</td>\n",
              "      <td>NaN</td>\n",
              "    </tr>\n",
              "    <tr>\n",
              "      <th>region</th>\n",
              "      <td>1338</td>\n",
              "      <td>5</td>\n",
              "      <td>southeast</td>\n",
              "      <td>364</td>\n",
              "      <td>NaN</td>\n",
              "      <td>NaN</td>\n",
              "      <td>NaN</td>\n",
              "      <td>NaN</td>\n",
              "      <td>NaN</td>\n",
              "      <td>NaN</td>\n",
              "      <td>NaN</td>\n",
              "    </tr>\n",
              "    <tr>\n",
              "      <th>charges</th>\n",
              "      <td>1338</td>\n",
              "      <td>1336</td>\n",
              "      <td>1639.5631</td>\n",
              "      <td>2</td>\n",
              "      <td>NaN</td>\n",
              "      <td>NaN</td>\n",
              "      <td>NaN</td>\n",
              "      <td>NaN</td>\n",
              "      <td>NaN</td>\n",
              "      <td>NaN</td>\n",
              "      <td>NaN</td>\n",
              "    </tr>\n",
              "  </tbody>\n",
              "</table>\n",
              "</div>\n",
              "      <button class=\"colab-df-convert\" onclick=\"convertToInteractive('df-19e24b02-13d7-4183-86be-cfa9f52ac671')\"\n",
              "              title=\"Convert this dataframe to an interactive table.\"\n",
              "              style=\"display:none;\">\n",
              "        \n",
              "  <svg xmlns=\"http://www.w3.org/2000/svg\" height=\"24px\"viewBox=\"0 0 24 24\"\n",
              "       width=\"24px\">\n",
              "    <path d=\"M0 0h24v24H0V0z\" fill=\"none\"/>\n",
              "    <path d=\"M18.56 5.44l.94 2.06.94-2.06 2.06-.94-2.06-.94-.94-2.06-.94 2.06-2.06.94zm-11 1L8.5 8.5l.94-2.06 2.06-.94-2.06-.94L8.5 2.5l-.94 2.06-2.06.94zm10 10l.94 2.06.94-2.06 2.06-.94-2.06-.94-.94-2.06-.94 2.06-2.06.94z\"/><path d=\"M17.41 7.96l-1.37-1.37c-.4-.4-.92-.59-1.43-.59-.52 0-1.04.2-1.43.59L10.3 9.45l-7.72 7.72c-.78.78-.78 2.05 0 2.83L4 21.41c.39.39.9.59 1.41.59.51 0 1.02-.2 1.41-.59l7.78-7.78 2.81-2.81c.8-.78.8-2.07 0-2.86zM5.41 20L4 18.59l7.72-7.72 1.47 1.35L5.41 20z\"/>\n",
              "  </svg>\n",
              "      </button>\n",
              "      \n",
              "  <style>\n",
              "    .colab-df-container {\n",
              "      display:flex;\n",
              "      flex-wrap:wrap;\n",
              "      gap: 12px;\n",
              "    }\n",
              "\n",
              "    .colab-df-convert {\n",
              "      background-color: #E8F0FE;\n",
              "      border: none;\n",
              "      border-radius: 50%;\n",
              "      cursor: pointer;\n",
              "      display: none;\n",
              "      fill: #1967D2;\n",
              "      height: 32px;\n",
              "      padding: 0 0 0 0;\n",
              "      width: 32px;\n",
              "    }\n",
              "\n",
              "    .colab-df-convert:hover {\n",
              "      background-color: #E2EBFA;\n",
              "      box-shadow: 0px 1px 2px rgba(60, 64, 67, 0.3), 0px 1px 3px 1px rgba(60, 64, 67, 0.15);\n",
              "      fill: #174EA6;\n",
              "    }\n",
              "\n",
              "    [theme=dark] .colab-df-convert {\n",
              "      background-color: #3B4455;\n",
              "      fill: #D2E3FC;\n",
              "    }\n",
              "\n",
              "    [theme=dark] .colab-df-convert:hover {\n",
              "      background-color: #434B5C;\n",
              "      box-shadow: 0px 1px 3px 1px rgba(0, 0, 0, 0.15);\n",
              "      filter: drop-shadow(0px 1px 2px rgba(0, 0, 0, 0.3));\n",
              "      fill: #FFFFFF;\n",
              "    }\n",
              "  </style>\n",
              "\n",
              "      <script>\n",
              "        const buttonEl =\n",
              "          document.querySelector('#df-19e24b02-13d7-4183-86be-cfa9f52ac671 button.colab-df-convert');\n",
              "        buttonEl.style.display =\n",
              "          google.colab.kernel.accessAllowed ? 'block' : 'none';\n",
              "\n",
              "        async function convertToInteractive(key) {\n",
              "          const element = document.querySelector('#df-19e24b02-13d7-4183-86be-cfa9f52ac671');\n",
              "          const dataTable =\n",
              "            await google.colab.kernel.invokeFunction('convertToInteractive',\n",
              "                                                     [key], {});\n",
              "          if (!dataTable) return;\n",
              "\n",
              "          const docLinkHtml = 'Like what you see? Visit the ' +\n",
              "            '<a target=\"_blank\" href=https://colab.research.google.com/notebooks/data_table.ipynb>data table notebook</a>'\n",
              "            + ' to learn more about interactive tables.';\n",
              "          element.innerHTML = '';\n",
              "          dataTable['output_type'] = 'display_data';\n",
              "          await google.colab.output.renderOutput(dataTable, element);\n",
              "          const docLink = document.createElement('div');\n",
              "          docLink.innerHTML = docLinkHtml;\n",
              "          element.appendChild(docLink);\n",
              "        }\n",
              "      </script>\n",
              "    </div>\n",
              "  </div>\n",
              "  "
            ]
          },
          "metadata": {},
          "execution_count": 23
        }
      ]
    },
    {
      "cell_type": "markdown",
      "source": [
        "#### What did you determine from your exploration?\n",
        "__Findings__\n",
        "*   Null values in: Smoker, BMI\n",
        "*   Charges recognized as a string\n",
        "*  Charges contains bad values, i.e \"unkown\" that cant be parsed directly to float\n",
        "* Region contains one random 'sandiego'\n",
        "* For linear regressions, convert categories to numbers\n",
        "* Major Outliers in Age and BMI.\n",
        "* Charges might need to be scaled with such a high std "
      ],
      "metadata": {
        "id": "GpPmR-L1UHI2"
      }
    },
    {
      "cell_type": "markdown",
      "source": [
        "### Data Cleaning"
      ],
      "metadata": {
        "id": "eYfMgQ_NUWj9"
      }
    },
    {
      "cell_type": "markdown",
      "source": [
        "# Cleaning Charges"
      ],
      "metadata": {
        "id": "Ei--ix3851UW"
      }
    },
    {
      "cell_type": "code",
      "source": [
        "# Convert strings to float and fill unparsables with null values\n",
        "dfInsurance['charges'] = pd.to_numeric(dfInsurance['charges'], errors='coerce')\n",
        "\n",
        "# Fill those null values with the mean of the series\n",
        "dfInsurance['charges'].fillna(dfInsurance['charges'].mean(), inplace = True)\n",
        "\n",
        "# OPTIONAL - Normlize data with a log transformation\n",
        "charge_log = np.log(dfInsurance['charges'])\n",
        "dfInsurance['charges'] = charge_log\n",
        "sns.displot(dfInsurance['charges'], kde=True, color=\"green\")\n",
        "\n",
        "# Review\n",
        "dfInsurance['charges'].describe()"
      ],
      "metadata": {
        "colab": {
          "base_uri": "https://localhost:8080/",
          "height": 525
        },
        "id": "WDyVBfdp51BG",
        "outputId": "87c38bb2-a5e3-44de-bf29-c90f23796790"
      },
      "execution_count": null,
      "outputs": [
        {
          "output_type": "execute_result",
          "data": {
            "text/plain": [
              "count    1338.000000\n",
              "mean        9.099242\n",
              "std         0.917856\n",
              "min         7.022756\n",
              "25%         8.465167\n",
              "50%         9.147268\n",
              "75%         9.713971\n",
              "max        11.063045\n",
              "Name: charges, dtype: float64"
            ]
          },
          "metadata": {},
          "execution_count": 24
        },
        {
          "output_type": "display_data",
          "data": {
            "text/plain": [
              "<Figure size 360x360 with 1 Axes>"
            ],
            "image/png": "[encoded data removed]"
          },
          "metadata": {
            "needs_background": "light"
          }
        }
      ]
    },
    {
      "cell_type": "markdown",
      "source": [
        "# Cleaning BMI"
      ],
      "metadata": {
        "id": "Mxi8qf9o7VDa"
      }
    },
    {
      "cell_type": "code",
      "source": [
        "# Fill the null value with the mean of the series\n",
        "dfInsurance['bmi'].fillna(dfInsurance['bmi'].mean(), inplace = True)\n",
        "\n",
        "# Remove Outliers\n",
        "dfInsurance = dfInsurance[dfInsurance['bmi'] < 100]\n",
        "\n",
        "# Review\n",
        "sns.displot(dfInsurance['bmi'], kde=True, color=\"red\")\n",
        "dfInsurance['bmi'].describe()"
      ],
      "metadata": {
        "colab": {
          "base_uri": "https://localhost:8080/",
          "height": 525
        },
        "id": "gpCvJafI7UJ_",
        "outputId": "67f0fad2-46aa-4c79-c32e-81460b143339"
      },
      "execution_count": null,
      "outputs": [
        {
          "output_type": "execute_result",
          "data": {
            "text/plain": [
              "count    1337.000000\n",
              "mean       30.663970\n",
              "std         6.098401\n",
              "min        15.960000\n",
              "25%        26.315000\n",
              "50%        30.400000\n",
              "75%        34.700000\n",
              "max        53.130000\n",
              "Name: bmi, dtype: float64"
            ]
          },
          "metadata": {},
          "execution_count": 25
        },
        {
          "output_type": "display_data",
          "data": {
            "text/plain": [
              "<Figure size 360x360 with 1 Axes>"
            ],
            "image/png": "[encoded data removed]"
          },
          "metadata": {
            "needs_background": "light"
          }
        }
      ]
    },
    {
      "cell_type": "markdown",
      "source": [
        "# Cleaning Smoker"
      ],
      "metadata": {
        "id": "1xHgGAbM7tEy"
      }
    },
    {
      "cell_type": "code",
      "source": [
        "# Fill the null value with the most common value of the series\n",
        "mode = dfInsurance['smoker'].mode().values[0]\n",
        "dfInsurance['smoker'].fillna(value = mode, inplace = True)\n",
        "\n",
        "# Convert categoricals variables to numbers\n",
        "dfInsurance['smoker'].replace(['no', 'yes'], [0,1], inplace = True)\n",
        "\n",
        "# Review\n",
        "sns.countplot(x = dfInsurance['smoker']);"
      ],
      "metadata": {
        "colab": {
          "base_uri": "https://localhost:8080/",
          "height": 279
        },
        "id": "9LzGShDp7xlC",
        "outputId": "4a489a3f-6c34-4e10-8d8f-b52a23fde307"
      },
      "execution_count": null,
      "outputs": [
        {
          "output_type": "display_data",
          "data": {
            "text/plain": [
              "<Figure size 432x288 with 1 Axes>"
            ],
            "image/png": "[encoded data removed]"
          },
          "metadata": {
            "needs_background": "light"
          }
        }
      ]
    },
    {
      "cell_type": "markdown",
      "source": [
        "# Cleaning Region"
      ],
      "metadata": {
        "id": "0-wWuuKR8U--"
      }
    },
    {
      "cell_type": "code",
      "source": [
        "# Drop San Diego\n",
        "dfInsurance.drop(dfInsurance[dfInsurance['region'] == 'sandiego'].index, inplace = True)\n",
        "\n",
        "# Convert categoricals variables to numbers\n",
        "dfInsurance['region'].replace(['southeast', 'northwest', 'southwest', 'northeast'], [0,1,2,3], inplace = True)\n",
        "\n",
        "# Review\n",
        "sns.countplot(x = dfInsurance['region']);"
      ],
      "metadata": {
        "colab": {
          "base_uri": "https://localhost:8080/",
          "height": 279
        },
        "id": "IYl29ywi78-2",
        "outputId": "a9f01a43-e8cb-442b-8444-eed6cca342bf"
      },
      "execution_count": null,
      "outputs": [
        {
          "output_type": "display_data",
          "data": {
            "text/plain": [
              "<Figure size 432x288 with 1 Axes>"
            ],
            "image/png": "[encoded data removed]"
          },
          "metadata": {
            "needs_background": "light"
          }
        }
      ]
    },
    {
      "cell_type": "markdown",
      "source": [
        "# Cleaning Sex"
      ],
      "metadata": {
        "id": "iUTcPiD79MRp"
      }
    },
    {
      "cell_type": "code",
      "source": [
        "# Turned categories to numbers\n",
        "dfInsurance['sex'].replace(['male', 'female'], [0,1], inplace = True)\n",
        "\n",
        "# Reiview\n",
        "sns.countplot(x = dfInsurance['sex']);"
      ],
      "metadata": {
        "colab": {
          "base_uri": "https://localhost:8080/",
          "height": 281
        },
        "id": "mQatlK_Y9MkR",
        "outputId": "1b15cb8d-f4bd-49f1-d961-0d311439f4f6"
      },
      "execution_count": null,
      "outputs": [
        {
          "output_type": "display_data",
          "data": {
            "text/plain": [
              "<Figure size 432x288 with 1 Axes>"
            ],
            "image/png": "[encoded data removed]"
          },
          "metadata": {
            "needs_background": "light"
          }
        }
      ]
    },
    {
      "cell_type": "markdown",
      "source": [
        "# Cleaning Age"
      ],
      "metadata": {
        "id": "nLTTGvEi9M7U"
      }
    },
    {
      "cell_type": "code",
      "source": [
        "# Remove Outlier\n",
        "dfInsurance = dfInsurance[(dfInsurance['age'] < 100) & (dfInsurance['age'] > 0)]\n",
        "\n",
        "# Review\n",
        "sns.displot(dfInsurance['age'], kde=True, color=\"blue\")\n",
        "dfInsurance['age'].describe()"
      ],
      "metadata": {
        "colab": {
          "base_uri": "https://localhost:8080/",
          "height": 525
        },
        "id": "g23J55pG9NPY",
        "outputId": "04691c4a-766b-459a-fecc-1a9cbb44689b"
      },
      "execution_count": null,
      "outputs": [
        {
          "output_type": "execute_result",
          "data": {
            "text/plain": [
              "count    1334.000000\n",
              "mean       39.211394\n",
              "std        14.049008\n",
              "min        18.000000\n",
              "25%        27.000000\n",
              "50%        39.000000\n",
              "75%        51.000000\n",
              "max        64.000000\n",
              "Name: age, dtype: float64"
            ]
          },
          "metadata": {},
          "execution_count": 30
        },
        {
          "output_type": "display_data",
          "data": {
            "text/plain": [
              "<Figure size 360x360 with 1 Axes>"
            ],
            "image/png": "[encoded data removed]"
          },
          "metadata": {
            "needs_background": "light"
          }
        }
      ]
    },
    {
      "cell_type": "markdown",
      "source": [
        "#### Model Generation"
      ],
      "metadata": {
        "id": "DPT3rG7KUNMv"
      }
    },
    {
      "cell_type": "code",
      "source": [
        "from sklearn.model_selection import train_test_split\n",
        "from sklearn.linear_model import LinearRegression\n",
        "from sklearn.metrics import r2_score"
      ],
      "metadata": {
        "id": "77XBrkWPerJ0"
      },
      "execution_count": null,
      "outputs": []
    },
    {
      "cell_type": "code",
      "source": [
        "# Define X and Y\n",
        "x = dfInsurance.drop(['charges'], axis =1).values\n",
        "y = dfInsurance['charges'].values\n",
        "\n",
        "# Split Data in training and testing set\n",
        "x_train, x_test, y_train, y_test = train_test_split(x,y,test_size=0.1, random_state=15)\n",
        "\n",
        "# Train model\n",
        "model = LinearRegression()\n",
        "model.fit(x_train,y_train)"
      ],
      "metadata": {
        "id": "AXL9LkCqUAwc",
        "colab": {
          "base_uri": "https://localhost:8080/"
        },
        "outputId": "65581565-496e-46bd-804e-418ab27f93ad"
      },
      "execution_count": null,
      "outputs": [
        {
          "output_type": "execute_result",
          "data": {
            "text/plain": [
              "LinearRegression()"
            ]
          },
          "metadata": {},
          "execution_count": 33
        }
      ]
    },
    {
      "cell_type": "markdown",
      "source": [
        "### Model Analysis\n",
        "\n",
        "Explain your model and how you could improve it:\n",
        "\n",
        "My model utulized all the values at my disposal to generated the predicted amount of charges. I also took the liberty of running a log transformation on charges as others it was no where near a normal distribution. On top of that as I mentioned before, I used all the independent variables, including the categroicals ones which I turned into numbers to represent their group. After creating the model, depending on the train/test split the R^2 score can range anywhere from around 70-90 which is not too bad but surely can be imporved upon. I'll discuss future ideas below"
      ],
      "metadata": {
        "id": "2TxF_jbCURd-"
      }
    },
    {
      "cell_type": "markdown",
      "source": [
        "# R^2 Score"
      ],
      "metadata": {
        "id": "JMgJgSYc-vGu"
      }
    },
    {
      "cell_type": "code",
      "source": [
        "# Predict the test results\n",
        "Y_predictions = model.predict(x_test)\n",
        "r2_score(y_test, Y_predictions)"
      ],
      "metadata": {
        "colab": {
          "base_uri": "https://localhost:8080/"
        },
        "id": "iDWsc4tK-zDB",
        "outputId": "19f119be-3fe2-4182-ff33-67c24f39f2b9"
      },
      "execution_count": null,
      "outputs": [
        {
          "output_type": "execute_result",
          "data": {
            "text/plain": [
              "0.8576019349092344"
            ]
          },
          "metadata": {},
          "execution_count": 34
        }
      ]
    },
    {
      "cell_type": "markdown",
      "source": [
        "# Plotting True vs Predcited Values of Charges"
      ],
      "metadata": {
        "id": "vXll-_Rc-ndT"
      }
    },
    {
      "cell_type": "code",
      "source": [
        "# Plot the results\n",
        "plt.figure(figsize=(15,15))\n",
        "plt.scatter(y_test,Y_predictions)\n",
        "\n",
        "plt.xlabel('Actual')\n",
        "plt.ylabel('Predicted')\n",
        "\n",
        "_ = plt.title('Actual vs Predicted Charges')"
      ],
      "metadata": {
        "colab": {
          "base_uri": "https://localhost:8080/",
          "height": 893
        },
        "id": "8YrVsB2E-fYU",
        "outputId": "61610420-bd9e-4212-a0aa-21fdeb1c1c64"
      },
      "execution_count": null,
      "outputs": [
        {
          "output_type": "display_data",
          "data": {
            "text/plain": [
              "<Figure size 1080x1080 with 1 Axes>"
            ],
            "image/png": "[encoded data removed]"
          },
          "metadata": {
            "needs_background": "light"
          }
        }
      ]
    },
    {
      "cell_type": "markdown",
      "source": [
        "# Further EDA"
      ],
      "metadata": {
        "id": "B8yfbmZdUZ0d"
      }
    },
    {
      "cell_type": "code",
      "source": [
        "ax = sns.heatmap(dfInsurance.corr(), annot=True)\n",
        "ax.set_title('Correlation Bewteen Variables');"
      ],
      "metadata": {
        "colab": {
          "base_uri": "https://localhost:8080/",
          "height": 312
        },
        "id": "NhX4czdp_yae",
        "outputId": "8783c6c2-1392-4dd9-e27a-3e303cbea9db"
      },
      "execution_count": null,
      "outputs": [
        {
          "output_type": "display_data",
          "data": {
            "text/plain": [
              "<Figure size 432x288 with 2 Axes>"
            ],
            "image/png": "[encoded data removed]"
          },
          "metadata": {
            "needs_background": "light"
          }
        }
      ]
    },
    {
      "cell_type": "markdown",
      "source": [
        "Age and Smoker seem to be correlated with charges so we can explore them a bit more to find the best way to use these independent variables for a possible future model"
      ],
      "metadata": {
        "id": "87MA33ItDdqv"
      }
    },
    {
      "cell_type": "code",
      "source": [
        "_ = sns.boxplot(x = dfInsurance[\"charges\"])"
      ],
      "metadata": {
        "colab": {
          "base_uri": "https://localhost:8080/",
          "height": 279
        },
        "id": "Zj0Z9ygiDZEF",
        "outputId": "abcbea0b-43db-4516-9cfe-c6f4769708e5"
      },
      "execution_count": null,
      "outputs": [
        {
          "output_type": "display_data",
          "data": {
            "text/plain": [
              "<Figure size 432x288 with 1 Axes>"
            ],
            "image/png": "[encoded data removed]"
          },
          "metadata": {
            "needs_background": "light"
          }
        }
      ]
    },
    {
      "cell_type": "code",
      "source": [
        "_ = sns.boxplot(x = dfInsurance[\"age\"])"
      ],
      "metadata": {
        "colab": {
          "base_uri": "https://localhost:8080/",
          "height": 279
        },
        "id": "jkeF3AG9EKvI",
        "outputId": "e577d546-0949-4b5d-96a3-2f86845f8b30"
      },
      "execution_count": null,
      "outputs": [
        {
          "output_type": "display_data",
          "data": {
            "text/plain": [
              "<Figure size 432x288 with 1 Axes>"
            ],
            "image/png": "[encoded data removed]"
          },
          "metadata": {
            "needs_background": "light"
          }
        }
      ]
    },
    {
      "cell_type": "markdown",
      "source": [
        "No major outliers"
      ],
      "metadata": {
        "id": "JP8p8RZlGK7c"
      }
    },
    {
      "cell_type": "code",
      "source": [
        "dfInsurance.describe(include=\"all\").transpose()"
      ],
      "metadata": {
        "colab": {
          "base_uri": "https://localhost:8080/",
          "height": 269
        },
        "id": "U-6vwfuEGyxC",
        "outputId": "f5227f9e-5e43-4968-d0f5-0ed340133d75"
      },
      "execution_count": null,
      "outputs": [
        {
          "output_type": "execute_result",
          "data": {
            "text/plain": [
              "           count       mean        std        min        25%        50%  \\\n",
              "age       1334.0  39.211394  14.049008  18.000000  27.000000  39.000000   \n",
              "sex       1334.0   0.495502   0.500167   0.000000   0.000000   0.000000   \n",
              "bmi       1334.0  30.669338   6.099395  15.960000  26.315000  30.400000   \n",
              "children  1334.0   1.095952   1.206297   0.000000   0.000000   1.000000   \n",
              "smoker    1334.0   0.203898   0.403045   0.000000   0.000000   0.000000   \n",
              "region    1334.0   1.452024   1.130107   0.000000   0.000000   1.000000   \n",
              "charges   1334.0   9.099194   0.917631   7.022756   8.465167   9.147268   \n",
              "\n",
              "                75%        max  \n",
              "age       51.000000  64.000000  \n",
              "sex        1.000000   1.000000  \n",
              "bmi       34.700000  53.130000  \n",
              "children   2.000000   5.000000  \n",
              "smoker     0.000000   1.000000  \n",
              "region     2.000000   3.000000  \n",
              "charges    9.713971  11.063045  "
            ],
            "text/html": [
              "\n",
              "  <div id=\"df-826d8fec-129c-45cb-8f83-085c3e9f9923\">\n",
              "    <div class=\"colab-df-container\">\n",
              "      <div>\n",
              "<style scoped>\n",
              "    .dataframe tbody tr th:only-of-type {\n",
              "        vertical-align: middle;\n",
              "    }\n",
              "\n",
              "    .dataframe tbody tr th {\n",
              "        vertical-align: top;\n",
              "    }\n",
              "\n",
              "    .dataframe thead th {\n",
              "        text-align: right;\n",
              "    }\n",
              "</style>\n",
              "<table border=\"1\" class=\"dataframe\">\n",
              "  <thead>\n",
              "    <tr style=\"text-align: right;\">\n",
              "      <th></th>\n",
              "      <th>count</th>\n",
              "      <th>mean</th>\n",
              "      <th>std</th>\n",
              "      <th>min</th>\n",
              "      <th>25%</th>\n",
              "      <th>50%</th>\n",
              "      <th>75%</th>\n",
              "      <th>max</th>\n",
              "    </tr>\n",
              "  </thead>\n",
              "  <tbody>\n",
              "    <tr>\n",
              "      <th>age</th>\n",
              "      <td>1334.0</td>\n",
              "      <td>39.211394</td>\n",
              "      <td>14.049008</td>\n",
              "      <td>18.000000</td>\n",
              "      <td>27.000000</td>\n",
              "      <td>39.000000</td>\n",
              "      <td>51.000000</td>\n",
              "      <td>64.000000</td>\n",
              "    </tr>\n",
              "    <tr>\n",
              "      <th>sex</th>\n",
              "      <td>1334.0</td>\n",
              "      <td>0.495502</td>\n",
              "      <td>0.500167</td>\n",
              "      <td>0.000000</td>\n",
              "      <td>0.000000</td>\n",
              "      <td>0.000000</td>\n",
              "      <td>1.000000</td>\n",
              "      <td>1.000000</td>\n",
              "    </tr>\n",
              "    <tr>\n",
              "      <th>bmi</th>\n",
              "      <td>1334.0</td>\n",
              "      <td>30.669338</td>\n",
              "      <td>6.099395</td>\n",
              "      <td>15.960000</td>\n",
              "      <td>26.315000</td>\n",
              "      <td>30.400000</td>\n",
              "      <td>34.700000</td>\n",
              "      <td>53.130000</td>\n",
              "    </tr>\n",
              "    <tr>\n",
              "      <th>children</th>\n",
              "      <td>1334.0</td>\n",
              "      <td>1.095952</td>\n",
              "      <td>1.206297</td>\n",
              "      <td>0.000000</td>\n",
              "      <td>0.000000</td>\n",
              "      <td>1.000000</td>\n",
              "      <td>2.000000</td>\n",
              "      <td>5.000000</td>\n",
              "    </tr>\n",
              "    <tr>\n",
              "      <th>smoker</th>\n",
              "      <td>1334.0</td>\n",
              "      <td>0.203898</td>\n",
              "      <td>0.403045</td>\n",
              "      <td>0.000000</td>\n",
              "      <td>0.000000</td>\n",
              "      <td>0.000000</td>\n",
              "      <td>0.000000</td>\n",
              "      <td>1.000000</td>\n",
              "    </tr>\n",
              "    <tr>\n",
              "      <th>region</th>\n",
              "      <td>1334.0</td>\n",
              "      <td>1.452024</td>\n",
              "      <td>1.130107</td>\n",
              "      <td>0.000000</td>\n",
              "      <td>0.000000</td>\n",
              "      <td>1.000000</td>\n",
              "      <td>2.000000</td>\n",
              "      <td>3.000000</td>\n",
              "    </tr>\n",
              "    <tr>\n",
              "      <th>charges</th>\n",
              "      <td>1334.0</td>\n",
              "      <td>9.099194</td>\n",
              "      <td>0.917631</td>\n",
              "      <td>7.022756</td>\n",
              "      <td>8.465167</td>\n",
              "      <td>9.147268</td>\n",
              "      <td>9.713971</td>\n",
              "      <td>11.063045</td>\n",
              "    </tr>\n",
              "  </tbody>\n",
              "</table>\n",
              "</div>\n",
              "      <button class=\"colab-df-convert\" onclick=\"convertToInteractive('df-826d8fec-129c-45cb-8f83-085c3e9f9923')\"\n",
              "              title=\"Convert this dataframe to an interactive table.\"\n",
              "              style=\"display:none;\">\n",
              "        \n",
              "  <svg xmlns=\"http://www.w3.org/2000/svg\" height=\"24px\"viewBox=\"0 0 24 24\"\n",
              "       width=\"24px\">\n",
              "    <path d=\"M0 0h24v24H0V0z\" fill=\"none\"/>\n",
              "    <path d=\"M18.56 5.44l.94 2.06.94-2.06 2.06-.94-2.06-.94-.94-2.06-.94 2.06-2.06.94zm-11 1L8.5 8.5l.94-2.06 2.06-.94-2.06-.94L8.5 2.5l-.94 2.06-2.06.94zm10 10l.94 2.06.94-2.06 2.06-.94-2.06-.94-.94-2.06-.94 2.06-2.06.94z\"/><path d=\"M17.41 7.96l-1.37-1.37c-.4-.4-.92-.59-1.43-.59-.52 0-1.04.2-1.43.59L10.3 9.45l-7.72 7.72c-.78.78-.78 2.05 0 2.83L4 21.41c.39.39.9.59 1.41.59.51 0 1.02-.2 1.41-.59l7.78-7.78 2.81-2.81c.8-.78.8-2.07 0-2.86zM5.41 20L4 18.59l7.72-7.72 1.47 1.35L5.41 20z\"/>\n",
              "  </svg>\n",
              "      </button>\n",
              "      \n",
              "  <style>\n",
              "    .colab-df-container {\n",
              "      display:flex;\n",
              "      flex-wrap:wrap;\n",
              "      gap: 12px;\n",
              "    }\n",
              "\n",
              "    .colab-df-convert {\n",
              "      background-color: #E8F0FE;\n",
              "      border: none;\n",
              "      border-radius: 50%;\n",
              "      cursor: pointer;\n",
              "      display: none;\n",
              "      fill: #1967D2;\n",
              "      height: 32px;\n",
              "      padding: 0 0 0 0;\n",
              "      width: 32px;\n",
              "    }\n",
              "\n",
              "    .colab-df-convert:hover {\n",
              "      background-color: #E2EBFA;\n",
              "      box-shadow: 0px 1px 2px rgba(60, 64, 67, 0.3), 0px 1px 3px 1px rgba(60, 64, 67, 0.15);\n",
              "      fill: #174EA6;\n",
              "    }\n",
              "\n",
              "    [theme=dark] .colab-df-convert {\n",
              "      background-color: #3B4455;\n",
              "      fill: #D2E3FC;\n",
              "    }\n",
              "\n",
              "    [theme=dark] .colab-df-convert:hover {\n",
              "      background-color: #434B5C;\n",
              "      box-shadow: 0px 1px 3px 1px rgba(0, 0, 0, 0.15);\n",
              "      filter: drop-shadow(0px 1px 2px rgba(0, 0, 0, 0.3));\n",
              "      fill: #FFFFFF;\n",
              "    }\n",
              "  </style>\n",
              "\n",
              "      <script>\n",
              "        const buttonEl =\n",
              "          document.querySelector('#df-826d8fec-129c-45cb-8f83-085c3e9f9923 button.colab-df-convert');\n",
              "        buttonEl.style.display =\n",
              "          google.colab.kernel.accessAllowed ? 'block' : 'none';\n",
              "\n",
              "        async function convertToInteractive(key) {\n",
              "          const element = document.querySelector('#df-826d8fec-129c-45cb-8f83-085c3e9f9923');\n",
              "          const dataTable =\n",
              "            await google.colab.kernel.invokeFunction('convertToInteractive',\n",
              "                                                     [key], {});\n",
              "          if (!dataTable) return;\n",
              "\n",
              "          const docLinkHtml = 'Like what you see? Visit the ' +\n",
              "            '<a target=\"_blank\" href=https://colab.research.google.com/notebooks/data_table.ipynb>data table notebook</a>'\n",
              "            + ' to learn more about interactive tables.';\n",
              "          element.innerHTML = '';\n",
              "          dataTable['output_type'] = 'display_data';\n",
              "          await google.colab.output.renderOutput(dataTable, element);\n",
              "          const docLink = document.createElement('div');\n",
              "          docLink.innerHTML = docLinkHtml;\n",
              "          element.appendChild(docLink);\n",
              "        }\n",
              "      </script>\n",
              "    </div>\n",
              "  </div>\n",
              "  "
            ]
          },
          "metadata": {},
          "execution_count": 39
        }
      ]
    },
    {
      "cell_type": "markdown",
      "source": [
        "# Creating new model"
      ],
      "metadata": {
        "id": "_vxHOMZjJj4J"
      }
    },
    {
      "cell_type": "code",
      "source": [
        "# Define X and Y\n",
        "x = dfInsurance.drop(['charges', 'sex', 'age', 'children', 'region'], axis =1).values\n",
        "y = dfInsurance['charges'].values\n",
        "\n",
        "# Split Data in training and testing set\n",
        "x_train, x_test, y_train, y_test = train_test_split(x,y,test_size=0.1, random_state=1)\n",
        "\n",
        "# Train model\n",
        "model_2 = LinearRegression()\n",
        "model_2.fit(x_train,y_train)"
      ],
      "metadata": {
        "colab": {
          "base_uri": "https://localhost:8080/"
        },
        "id": "DyUEqaHjJqAO",
        "outputId": "03e01a75-b6b9-4734-cd4b-8723a653c1bd"
      },
      "execution_count": null,
      "outputs": [
        {
          "output_type": "execute_result",
          "data": {
            "text/plain": [
              "LinearRegression()"
            ]
          },
          "metadata": {},
          "execution_count": 40
        }
      ]
    },
    {
      "cell_type": "code",
      "source": [
        "# Predict the test results\n",
        "Y_predictions = model_2.predict(x_test)\n",
        "r2_score(y_test, Y_predictions)"
      ],
      "metadata": {
        "colab": {
          "base_uri": "https://localhost:8080/"
        },
        "id": "N0hVQgoMJ7ul",
        "outputId": "0e8ae492-984f-48fa-f116-e1eb7dabc18a"
      },
      "execution_count": null,
      "outputs": [
        {
          "output_type": "execute_result",
          "data": {
            "text/plain": [
              "0.3898581293495619"
            ]
          },
          "metadata": {},
          "execution_count": 41
        }
      ]
    },
    {
      "cell_type": "code",
      "source": [
        "# Plot the results\n",
        "plt.figure(figsize=(15,15))\n",
        "plt.scatter(y_test,Y_predictions)\n",
        "\n",
        "plt.xlabel('Actual')\n",
        "plt.ylabel('Predicted')\n",
        "\n",
        "plt.title('Actual vs Predicted Charges')"
      ],
      "metadata": {
        "colab": {
          "base_uri": "https://localhost:8080/",
          "height": 910
        },
        "id": "ZOoQ1LpiKKoV",
        "outputId": "ddd60429-aee4-4de8-dd07-648d5825be57"
      },
      "execution_count": null,
      "outputs": [
        {
          "output_type": "execute_result",
          "data": {
            "text/plain": [
              "Text(0.5, 1.0, 'Actual vs Predicted Charges')"
            ]
          },
          "metadata": {},
          "execution_count": 42
        },
        {
          "output_type": "display_data",
          "data": {
            "text/plain": [
              "<Figure size 1080x1080 with 1 Axes>"
            ],
            "image/png": "[encoded data removed]"
          },
          "metadata": {
            "needs_background": "light"
          }
        }
      ]
    },
    {
      "cell_type": "markdown",
      "source": [
        "# Summary\n",
        "The new model is much worse than the one that uses all the variables, this could be for a number of reaons, perhaps I needed to apply the log transformation on all the other independent variables, or even create new features and get more complicated with the model generation but I believe that this is out of scope of this class."
      ],
      "metadata": {
        "id": "Y-Ij__WTKL93"
      }
    }
  ],
  "metadata": {
    "celltoolbar": "Edit Metadata",
    "kernelspec": {
      "display_name": "Python 3 (ipykernel)",
      "language": "python",
      "name": "python3"
    },
    "language_info": {
      "codemirror_mode": {
        "name": "ipython",
        "version": 3
      },
      "file_extension": ".py",
      "mimetype": "text/x-python",
      "name": "python",
      "nbconvert_exporter": "python",
      "pygments_lexer": "ipython3",
      "version": "3.7.3"
    },
    "colab": {
      "provenance": [],
      "collapsed_sections": [],
      "toc_visible": true
    }
  },
  "nbformat": 4,
  "nbformat_minor": 0
}