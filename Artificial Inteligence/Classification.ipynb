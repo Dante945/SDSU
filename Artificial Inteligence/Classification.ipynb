{
  "cells": [
    {
      "cell_type": "markdown",
      "metadata": {
        "id": "k83Jk2lmgXFi"
      },
      "source": [
        "# Assignment 3 - Classification\n",
        "### CS450 Fall 2022\n",
        "\n",
        "This assignment contains three problems. \n",
        "We will not use a grading script for this assignment, but the grading criteria is explained in the instructions.\n",
        "If you are having issues with inconsistent results, try setting seeds. If you find a seed that works for you, keep it in your code so we can see the results you expect us to see when we look at your code.\n",
        "\n",
        "There are demo notebooks in Google Drive that can help you get started.\n",
        "\n",
        "I did not include any starter code. "
      ]
    },
    {
      "cell_type": "markdown",
      "source": [
        "## Don't forget to save a copy of the notebook"
      ],
      "metadata": {
        "id": "4Fqml2fadP4G"
      }
    },
    {
      "cell_type": "markdown",
      "metadata": {
        "id": "-KH9KoNwgXFp"
      },
      "source": [
        "Student Names: Dante Viscuso, Brandon Chau\n"
      ]
    },
    {
      "cell_type": "markdown",
      "metadata": {
        "id": "GlIiGFW2gXF2"
      },
      "source": [
        "## Problem 1 - Decision Trees (20 points)\n",
        "* Pull the data from https://archive.ics.uci.edu/ml/datasets/Credit+Approval\n",
        "* Create a decision tree to determine if credit should be extended based on a test case.\n",
        "* Grading criteria: \n",
        "    * Demonstrate that you evaluated the data set and applied aduquate preprocessing to the data\n",
        "    * Make sure you comment you code and the cleaning process so we can follow your logic in grading\n",
        "    * Provide a confusion matrix for your results. Text based is fine.\n",
        "    * Provide a visualization with explanation that demonstrates logical evaluation of the model\n",
        "* Actual accuracy can depend on how you split the training and test data and other random variations\n",
        "    * If you get below 70% accuracy, there may be a problem with your model\n",
        "* *Spoiler Alert*: If you don't start with some exploration to determine how to approach data cleaning, this will be more difficult than it should be.\n",
        "    "
      ]
    },
    {
      "cell_type": "code",
      "source": [
        "import pandas as pd\n",
        "import seaborn as sns\n",
        "import numpy as np\n",
        "from matplotlib import pyplot as plt"
      ],
      "metadata": {
        "id": "ciLzUB6MCs4K"
      },
      "execution_count": 1,
      "outputs": []
    },
    {
      "cell_type": "markdown",
      "source": [
        "#Data Exploration and Analysis"
      ],
      "metadata": {
        "id": "ElpkTe-6LBUD"
      }
    },
    {
      "cell_type": "code",
      "source": [
        "labels = ['A1', 'A2', 'A3', 'A4', 'A5', 'A6', 'A7', 'A8', 'A9', 'A10', 'A11', 'A12', 'A13', 'A14' ,'A15', 'A16']\n",
        "cred = pd.read_csv(\"https://archive.ics.uci.edu/ml/machine-learning-databases/credit-screening/crx.data\", na_values='?')\n",
        "cred.columns = labels\n",
        "cred.head()"
      ],
      "metadata": {
        "colab": {
          "base_uri": "https://localhost:8080/",
          "height": 206
        },
        "id": "udDPHT1PCxOz",
        "outputId": "bef27353-d105-44f9-bfd4-c15eaff60746"
      },
      "execution_count": 2,
      "outputs": [
        {
          "output_type": "execute_result",
          "data": {
            "text/plain": [
              "  A1     A2     A3 A4 A5 A6 A7    A8 A9 A10  A11 A12 A13    A14  A15 A16\n",
              "0  a  58.67  4.460  u  g  q  h  3.04  t   t    6   f   g   43.0  560   +\n",
              "1  a  24.50  0.500  u  g  q  h  1.50  t   f    0   f   g  280.0  824   +\n",
              "2  b  27.83  1.540  u  g  w  v  3.75  t   t    5   t   g  100.0    3   +\n",
              "3  b  20.17  5.625  u  g  w  v  1.71  t   f    0   f   s  120.0    0   +\n",
              "4  b  32.08  4.000  u  g  m  v  2.50  t   f    0   t   g  360.0    0   +"
            ],
            "text/html": [
              "\n",
              "  <div id=\"df-604ce433-a2d8-44be-a936-cb7fe3e7221b\">\n",
              "    <div class=\"colab-df-container\">\n",
              "      <div>\n",
              "<style scoped>\n",
              "    .dataframe tbody tr th:only-of-type {\n",
              "        vertical-align: middle;\n",
              "    }\n",
              "\n",
              "    .dataframe tbody tr th {\n",
              "        vertical-align: top;\n",
              "    }\n",
              "\n",
              "    .dataframe thead th {\n",
              "        text-align: right;\n",
              "    }\n",
              "</style>\n",
              "<table border=\"1\" class=\"dataframe\">\n",
              "  <thead>\n",
              "    <tr style=\"text-align: right;\">\n",
              "      <th></th>\n",
              "      <th>A1</th>\n",
              "      <th>A2</th>\n",
              "      <th>A3</th>\n",
              "      <th>A4</th>\n",
              "      <th>A5</th>\n",
              "      <th>A6</th>\n",
              "      <th>A7</th>\n",
              "      <th>A8</th>\n",
              "      <th>A9</th>\n",
              "      <th>A10</th>\n",
              "      <th>A11</th>\n",
              "      <th>A12</th>\n",
              "      <th>A13</th>\n",
              "      <th>A14</th>\n",
              "      <th>A15</th>\n",
              "      <th>A16</th>\n",
              "    </tr>\n",
              "  </thead>\n",
              "  <tbody>\n",
              "    <tr>\n",
              "      <th>0</th>\n",
              "      <td>a</td>\n",
              "      <td>58.67</td>\n",
              "      <td>4.460</td>\n",
              "      <td>u</td>\n",
              "      <td>g</td>\n",
              "      <td>q</td>\n",
              "      <td>h</td>\n",
              "      <td>3.04</td>\n",
              "      <td>t</td>\n",
              "      <td>t</td>\n",
              "      <td>6</td>\n",
              "      <td>f</td>\n",
              "      <td>g</td>\n",
              "      <td>43.0</td>\n",
              "      <td>560</td>\n",
              "      <td>+</td>\n",
              "    </tr>\n",
              "    <tr>\n",
              "      <th>1</th>\n",
              "      <td>a</td>\n",
              "      <td>24.50</td>\n",
              "      <td>0.500</td>\n",
              "      <td>u</td>\n",
              "      <td>g</td>\n",
              "      <td>q</td>\n",
              "      <td>h</td>\n",
              "      <td>1.50</td>\n",
              "      <td>t</td>\n",
              "      <td>f</td>\n",
              "      <td>0</td>\n",
              "      <td>f</td>\n",
              "      <td>g</td>\n",
              "      <td>280.0</td>\n",
              "      <td>824</td>\n",
              "      <td>+</td>\n",
              "    </tr>\n",
              "    <tr>\n",
              "      <th>2</th>\n",
              "      <td>b</td>\n",
              "      <td>27.83</td>\n",
              "      <td>1.540</td>\n",
              "      <td>u</td>\n",
              "      <td>g</td>\n",
              "      <td>w</td>\n",
              "      <td>v</td>\n",
              "      <td>3.75</td>\n",
              "      <td>t</td>\n",
              "      <td>t</td>\n",
              "      <td>5</td>\n",
              "      <td>t</td>\n",
              "      <td>g</td>\n",
              "      <td>100.0</td>\n",
              "      <td>3</td>\n",
              "      <td>+</td>\n",
              "    </tr>\n",
              "    <tr>\n",
              "      <th>3</th>\n",
              "      <td>b</td>\n",
              "      <td>20.17</td>\n",
              "      <td>5.625</td>\n",
              "      <td>u</td>\n",
              "      <td>g</td>\n",
              "      <td>w</td>\n",
              "      <td>v</td>\n",
              "      <td>1.71</td>\n",
              "      <td>t</td>\n",
              "      <td>f</td>\n",
              "      <td>0</td>\n",
              "      <td>f</td>\n",
              "      <td>s</td>\n",
              "      <td>120.0</td>\n",
              "      <td>0</td>\n",
              "      <td>+</td>\n",
              "    </tr>\n",
              "    <tr>\n",
              "      <th>4</th>\n",
              "      <td>b</td>\n",
              "      <td>32.08</td>\n",
              "      <td>4.000</td>\n",
              "      <td>u</td>\n",
              "      <td>g</td>\n",
              "      <td>m</td>\n",
              "      <td>v</td>\n",
              "      <td>2.50</td>\n",
              "      <td>t</td>\n",
              "      <td>f</td>\n",
              "      <td>0</td>\n",
              "      <td>t</td>\n",
              "      <td>g</td>\n",
              "      <td>360.0</td>\n",
              "      <td>0</td>\n",
              "      <td>+</td>\n",
              "    </tr>\n",
              "  </tbody>\n",
              "</table>\n",
              "</div>\n",
              "      <button class=\"colab-df-convert\" onclick=\"convertToInteractive('df-604ce433-a2d8-44be-a936-cb7fe3e7221b')\"\n",
              "              title=\"Convert this dataframe to an interactive table.\"\n",
              "              style=\"display:none;\">\n",
              "        \n",
              "  <svg xmlns=\"http://www.w3.org/2000/svg\" height=\"24px\"viewBox=\"0 0 24 24\"\n",
              "       width=\"24px\">\n",
              "    <path d=\"M0 0h24v24H0V0z\" fill=\"none\"/>\n",
              "    <path d=\"M18.56 5.44l.94 2.06.94-2.06 2.06-.94-2.06-.94-.94-2.06-.94 2.06-2.06.94zm-11 1L8.5 8.5l.94-2.06 2.06-.94-2.06-.94L8.5 2.5l-.94 2.06-2.06.94zm10 10l.94 2.06.94-2.06 2.06-.94-2.06-.94-.94-2.06-.94 2.06-2.06.94z\"/><path d=\"M17.41 7.96l-1.37-1.37c-.4-.4-.92-.59-1.43-.59-.52 0-1.04.2-1.43.59L10.3 9.45l-7.72 7.72c-.78.78-.78 2.05 0 2.83L4 21.41c.39.39.9.59 1.41.59.51 0 1.02-.2 1.41-.59l7.78-7.78 2.81-2.81c.8-.78.8-2.07 0-2.86zM5.41 20L4 18.59l7.72-7.72 1.47 1.35L5.41 20z\"/>\n",
              "  </svg>\n",
              "      </button>\n",
              "      \n",
              "  <style>\n",
              "    .colab-df-container {\n",
              "      display:flex;\n",
              "      flex-wrap:wrap;\n",
              "      gap: 12px;\n",
              "    }\n",
              "\n",
              "    .colab-df-convert {\n",
              "      background-color: #E8F0FE;\n",
              "      border: none;\n",
              "      border-radius: 50%;\n",
              "      cursor: pointer;\n",
              "      display: none;\n",
              "      fill: #1967D2;\n",
              "      height: 32px;\n",
              "      padding: 0 0 0 0;\n",
              "      width: 32px;\n",
              "    }\n",
              "\n",
              "    .colab-df-convert:hover {\n",
              "      background-color: #E2EBFA;\n",
              "      box-shadow: 0px 1px 2px rgba(60, 64, 67, 0.3), 0px 1px 3px 1px rgba(60, 64, 67, 0.15);\n",
              "      fill: #174EA6;\n",
              "    }\n",
              "\n",
              "    [theme=dark] .colab-df-convert {\n",
              "      background-color: #3B4455;\n",
              "      fill: #D2E3FC;\n",
              "    }\n",
              "\n",
              "    [theme=dark] .colab-df-convert:hover {\n",
              "      background-color: #434B5C;\n",
              "      box-shadow: 0px 1px 3px 1px rgba(0, 0, 0, 0.15);\n",
              "      filter: drop-shadow(0px 1px 2px rgba(0, 0, 0, 0.3));\n",
              "      fill: #FFFFFF;\n",
              "    }\n",
              "  </style>\n",
              "\n",
              "      <script>\n",
              "        const buttonEl =\n",
              "          document.querySelector('#df-604ce433-a2d8-44be-a936-cb7fe3e7221b button.colab-df-convert');\n",
              "        buttonEl.style.display =\n",
              "          google.colab.kernel.accessAllowed ? 'block' : 'none';\n",
              "\n",
              "        async function convertToInteractive(key) {\n",
              "          const element = document.querySelector('#df-604ce433-a2d8-44be-a936-cb7fe3e7221b');\n",
              "          const dataTable =\n",
              "            await google.colab.kernel.invokeFunction('convertToInteractive',\n",
              "                                                     [key], {});\n",
              "          if (!dataTable) return;\n",
              "\n",
              "          const docLinkHtml = 'Like what you see? Visit the ' +\n",
              "            '<a target=\"_blank\" href=https://colab.research.google.com/notebooks/data_table.ipynb>data table notebook</a>'\n",
              "            + ' to learn more about interactive tables.';\n",
              "          element.innerHTML = '';\n",
              "          dataTable['output_type'] = 'display_data';\n",
              "          await google.colab.output.renderOutput(dataTable, element);\n",
              "          const docLink = document.createElement('div');\n",
              "          docLink.innerHTML = docLinkHtml;\n",
              "          element.appendChild(docLink);\n",
              "        }\n",
              "      </script>\n",
              "    </div>\n",
              "  </div>\n",
              "  "
            ]
          },
          "metadata": {},
          "execution_count": 2
        }
      ]
    },
    {
      "cell_type": "code",
      "source": [
        "cred.describe(include=\"all\")"
      ],
      "metadata": {
        "colab": {
          "base_uri": "https://localhost:8080/",
          "height": 394
        },
        "id": "M20a1F2IDAar",
        "outputId": "393a13c7-5fdc-4839-bf01-2cdeb49906b8"
      },
      "execution_count": 3,
      "outputs": [
        {
          "output_type": "execute_result",
          "data": {
            "text/plain": [
              "         A1          A2          A3   A4   A5   A6   A7          A8   A9  A10  \\\n",
              "count   677  677.000000  689.000000  683  683  680  680  689.000000  689  689   \n",
              "unique    2         NaN         NaN    3    3   14    9         NaN    2    2   \n",
              "top       b         NaN         NaN    u    g    c    v         NaN    t    f   \n",
              "freq    467         NaN         NaN  518  518  137  398         NaN  360  395   \n",
              "mean    NaN   31.569261    4.765631  NaN  NaN  NaN  NaN    2.224819  NaN  NaN   \n",
              "std     NaN   11.966670    4.978470  NaN  NaN  NaN  NaN    3.348739  NaN  NaN   \n",
              "min     NaN   13.750000    0.000000  NaN  NaN  NaN  NaN    0.000000  NaN  NaN   \n",
              "25%     NaN   22.580000    1.000000  NaN  NaN  NaN  NaN    0.165000  NaN  NaN   \n",
              "50%     NaN   28.420000    2.750000  NaN  NaN  NaN  NaN    1.000000  NaN  NaN   \n",
              "75%     NaN   38.250000    7.250000  NaN  NaN  NaN  NaN    2.625000  NaN  NaN   \n",
              "max     NaN   80.250000   28.000000  NaN  NaN  NaN  NaN   28.500000  NaN  NaN   \n",
              "\n",
              "               A11  A12  A13          A14            A15  A16  \n",
              "count   689.000000  689  689   676.000000     689.000000  689  \n",
              "unique         NaN    2    3          NaN            NaN    2  \n",
              "top            NaN    f    g          NaN            NaN    -  \n",
              "freq           NaN  373  624          NaN            NaN  383  \n",
              "mean      2.402032  NaN  NaN   183.988166    1018.862119  NaN  \n",
              "std       4.866180  NaN  NaN   173.934087    5213.743149  NaN  \n",
              "min       0.000000  NaN  NaN     0.000000       0.000000  NaN  \n",
              "25%       0.000000  NaN  NaN    74.500000       0.000000  NaN  \n",
              "50%       0.000000  NaN  NaN   160.000000       5.000000  NaN  \n",
              "75%       3.000000  NaN  NaN   277.000000     396.000000  NaN  \n",
              "max      67.000000  NaN  NaN  2000.000000  100000.000000  NaN  "
            ],
            "text/html": [
              "\n",
              "  <div id=\"df-45610810-b71c-454f-a0b7-ccb19bc2f1bb\">\n",
              "    <div class=\"colab-df-container\">\n",
              "      <div>\n",
              "<style scoped>\n",
              "    .dataframe tbody tr th:only-of-type {\n",
              "        vertical-align: middle;\n",
              "    }\n",
              "\n",
              "    .dataframe tbody tr th {\n",
              "        vertical-align: top;\n",
              "    }\n",
              "\n",
              "    .dataframe thead th {\n",
              "        text-align: right;\n",
              "    }\n",
              "</style>\n",
              "<table border=\"1\" class=\"dataframe\">\n",
              "  <thead>\n",
              "    <tr style=\"text-align: right;\">\n",
              "      <th></th>\n",
              "      <th>A1</th>\n",
              "      <th>A2</th>\n",
              "      <th>A3</th>\n",
              "      <th>A4</th>\n",
              "      <th>A5</th>\n",
              "      <th>A6</th>\n",
              "      <th>A7</th>\n",
              "      <th>A8</th>\n",
              "      <th>A9</th>\n",
              "      <th>A10</th>\n",
              "      <th>A11</th>\n",
              "      <th>A12</th>\n",
              "      <th>A13</th>\n",
              "      <th>A14</th>\n",
              "      <th>A15</th>\n",
              "      <th>A16</th>\n",
              "    </tr>\n",
              "  </thead>\n",
              "  <tbody>\n",
              "    <tr>\n",
              "      <th>count</th>\n",
              "      <td>677</td>\n",
              "      <td>677.000000</td>\n",
              "      <td>689.000000</td>\n",
              "      <td>683</td>\n",
              "      <td>683</td>\n",
              "      <td>680</td>\n",
              "      <td>680</td>\n",
              "      <td>689.000000</td>\n",
              "      <td>689</td>\n",
              "      <td>689</td>\n",
              "      <td>689.000000</td>\n",
              "      <td>689</td>\n",
              "      <td>689</td>\n",
              "      <td>676.000000</td>\n",
              "      <td>689.000000</td>\n",
              "      <td>689</td>\n",
              "    </tr>\n",
              "    <tr>\n",
              "      <th>unique</th>\n",
              "      <td>2</td>\n",
              "      <td>NaN</td>\n",
              "      <td>NaN</td>\n",
              "      <td>3</td>\n",
              "      <td>3</td>\n",
              "      <td>14</td>\n",
              "      <td>9</td>\n",
              "      <td>NaN</td>\n",
              "      <td>2</td>\n",
              "      <td>2</td>\n",
              "      <td>NaN</td>\n",
              "      <td>2</td>\n",
              "      <td>3</td>\n",
              "      <td>NaN</td>\n",
              "      <td>NaN</td>\n",
              "      <td>2</td>\n",
              "    </tr>\n",
              "    <tr>\n",
              "      <th>top</th>\n",
              "      <td>b</td>\n",
              "      <td>NaN</td>\n",
              "      <td>NaN</td>\n",
              "      <td>u</td>\n",
              "      <td>g</td>\n",
              "      <td>c</td>\n",
              "      <td>v</td>\n",
              "      <td>NaN</td>\n",
              "      <td>t</td>\n",
              "      <td>f</td>\n",
              "      <td>NaN</td>\n",
              "      <td>f</td>\n",
              "      <td>g</td>\n",
              "      <td>NaN</td>\n",
              "      <td>NaN</td>\n",
              "      <td>-</td>\n",
              "    </tr>\n",
              "    <tr>\n",
              "      <th>freq</th>\n",
              "      <td>467</td>\n",
              "      <td>NaN</td>\n",
              "      <td>NaN</td>\n",
              "      <td>518</td>\n",
              "      <td>518</td>\n",
              "      <td>137</td>\n",
              "      <td>398</td>\n",
              "      <td>NaN</td>\n",
              "      <td>360</td>\n",
              "      <td>395</td>\n",
              "      <td>NaN</td>\n",
              "      <td>373</td>\n",
              "      <td>624</td>\n",
              "      <td>NaN</td>\n",
              "      <td>NaN</td>\n",
              "      <td>383</td>\n",
              "    </tr>\n",
              "    <tr>\n",
              "      <th>mean</th>\n",
              "      <td>NaN</td>\n",
              "      <td>31.569261</td>\n",
              "      <td>4.765631</td>\n",
              "      <td>NaN</td>\n",
              "      <td>NaN</td>\n",
              "      <td>NaN</td>\n",
              "      <td>NaN</td>\n",
              "      <td>2.224819</td>\n",
              "      <td>NaN</td>\n",
              "      <td>NaN</td>\n",
              "      <td>2.402032</td>\n",
              "      <td>NaN</td>\n",
              "      <td>NaN</td>\n",
              "      <td>183.988166</td>\n",
              "      <td>1018.862119</td>\n",
              "      <td>NaN</td>\n",
              "    </tr>\n",
              "    <tr>\n",
              "      <th>std</th>\n",
              "      <td>NaN</td>\n",
              "      <td>11.966670</td>\n",
              "      <td>4.978470</td>\n",
              "      <td>NaN</td>\n",
              "      <td>NaN</td>\n",
              "      <td>NaN</td>\n",
              "      <td>NaN</td>\n",
              "      <td>3.348739</td>\n",
              "      <td>NaN</td>\n",
              "      <td>NaN</td>\n",
              "      <td>4.866180</td>\n",
              "      <td>NaN</td>\n",
              "      <td>NaN</td>\n",
              "      <td>173.934087</td>\n",
              "      <td>5213.743149</td>\n",
              "      <td>NaN</td>\n",
              "    </tr>\n",
              "    <tr>\n",
              "      <th>min</th>\n",
              "      <td>NaN</td>\n",
              "      <td>13.750000</td>\n",
              "      <td>0.000000</td>\n",
              "      <td>NaN</td>\n",
              "      <td>NaN</td>\n",
              "      <td>NaN</td>\n",
              "      <td>NaN</td>\n",
              "      <td>0.000000</td>\n",
              "      <td>NaN</td>\n",
              "      <td>NaN</td>\n",
              "      <td>0.000000</td>\n",
              "      <td>NaN</td>\n",
              "      <td>NaN</td>\n",
              "      <td>0.000000</td>\n",
              "      <td>0.000000</td>\n",
              "      <td>NaN</td>\n",
              "    </tr>\n",
              "    <tr>\n",
              "      <th>25%</th>\n",
              "      <td>NaN</td>\n",
              "      <td>22.580000</td>\n",
              "      <td>1.000000</td>\n",
              "      <td>NaN</td>\n",
              "      <td>NaN</td>\n",
              "      <td>NaN</td>\n",
              "      <td>NaN</td>\n",
              "      <td>0.165000</td>\n",
              "      <td>NaN</td>\n",
              "      <td>NaN</td>\n",
              "      <td>0.000000</td>\n",
              "      <td>NaN</td>\n",
              "      <td>NaN</td>\n",
              "      <td>74.500000</td>\n",
              "      <td>0.000000</td>\n",
              "      <td>NaN</td>\n",
              "    </tr>\n",
              "    <tr>\n",
              "      <th>50%</th>\n",
              "      <td>NaN</td>\n",
              "      <td>28.420000</td>\n",
              "      <td>2.750000</td>\n",
              "      <td>NaN</td>\n",
              "      <td>NaN</td>\n",
              "      <td>NaN</td>\n",
              "      <td>NaN</td>\n",
              "      <td>1.000000</td>\n",
              "      <td>NaN</td>\n",
              "      <td>NaN</td>\n",
              "      <td>0.000000</td>\n",
              "      <td>NaN</td>\n",
              "      <td>NaN</td>\n",
              "      <td>160.000000</td>\n",
              "      <td>5.000000</td>\n",
              "      <td>NaN</td>\n",
              "    </tr>\n",
              "    <tr>\n",
              "      <th>75%</th>\n",
              "      <td>NaN</td>\n",
              "      <td>38.250000</td>\n",
              "      <td>7.250000</td>\n",
              "      <td>NaN</td>\n",
              "      <td>NaN</td>\n",
              "      <td>NaN</td>\n",
              "      <td>NaN</td>\n",
              "      <td>2.625000</td>\n",
              "      <td>NaN</td>\n",
              "      <td>NaN</td>\n",
              "      <td>3.000000</td>\n",
              "      <td>NaN</td>\n",
              "      <td>NaN</td>\n",
              "      <td>277.000000</td>\n",
              "      <td>396.000000</td>\n",
              "      <td>NaN</td>\n",
              "    </tr>\n",
              "    <tr>\n",
              "      <th>max</th>\n",
              "      <td>NaN</td>\n",
              "      <td>80.250000</td>\n",
              "      <td>28.000000</td>\n",
              "      <td>NaN</td>\n",
              "      <td>NaN</td>\n",
              "      <td>NaN</td>\n",
              "      <td>NaN</td>\n",
              "      <td>28.500000</td>\n",
              "      <td>NaN</td>\n",
              "      <td>NaN</td>\n",
              "      <td>67.000000</td>\n",
              "      <td>NaN</td>\n",
              "      <td>NaN</td>\n",
              "      <td>2000.000000</td>\n",
              "      <td>100000.000000</td>\n",
              "      <td>NaN</td>\n",
              "    </tr>\n",
              "  </tbody>\n",
              "</table>\n",
              "</div>\n",
              "      <button class=\"colab-df-convert\" onclick=\"convertToInteractive('df-45610810-b71c-454f-a0b7-ccb19bc2f1bb')\"\n",
              "              title=\"Convert this dataframe to an interactive table.\"\n",
              "              style=\"display:none;\">\n",
              "        \n",
              "  <svg xmlns=\"http://www.w3.org/2000/svg\" height=\"24px\"viewBox=\"0 0 24 24\"\n",
              "       width=\"24px\">\n",
              "    <path d=\"M0 0h24v24H0V0z\" fill=\"none\"/>\n",
              "    <path d=\"M18.56 5.44l.94 2.06.94-2.06 2.06-.94-2.06-.94-.94-2.06-.94 2.06-2.06.94zm-11 1L8.5 8.5l.94-2.06 2.06-.94-2.06-.94L8.5 2.5l-.94 2.06-2.06.94zm10 10l.94 2.06.94-2.06 2.06-.94-2.06-.94-.94-2.06-.94 2.06-2.06.94z\"/><path d=\"M17.41 7.96l-1.37-1.37c-.4-.4-.92-.59-1.43-.59-.52 0-1.04.2-1.43.59L10.3 9.45l-7.72 7.72c-.78.78-.78 2.05 0 2.83L4 21.41c.39.39.9.59 1.41.59.51 0 1.02-.2 1.41-.59l7.78-7.78 2.81-2.81c.8-.78.8-2.07 0-2.86zM5.41 20L4 18.59l7.72-7.72 1.47 1.35L5.41 20z\"/>\n",
              "  </svg>\n",
              "      </button>\n",
              "      \n",
              "  <style>\n",
              "    .colab-df-container {\n",
              "      display:flex;\n",
              "      flex-wrap:wrap;\n",
              "      gap: 12px;\n",
              "    }\n",
              "\n",
              "    .colab-df-convert {\n",
              "      background-color: #E8F0FE;\n",
              "      border: none;\n",
              "      border-radius: 50%;\n",
              "      cursor: pointer;\n",
              "      display: none;\n",
              "      fill: #1967D2;\n",
              "      height: 32px;\n",
              "      padding: 0 0 0 0;\n",
              "      width: 32px;\n",
              "    }\n",
              "\n",
              "    .colab-df-convert:hover {\n",
              "      background-color: #E2EBFA;\n",
              "      box-shadow: 0px 1px 2px rgba(60, 64, 67, 0.3), 0px 1px 3px 1px rgba(60, 64, 67, 0.15);\n",
              "      fill: #174EA6;\n",
              "    }\n",
              "\n",
              "    [theme=dark] .colab-df-convert {\n",
              "      background-color: #3B4455;\n",
              "      fill: #D2E3FC;\n",
              "    }\n",
              "\n",
              "    [theme=dark] .colab-df-convert:hover {\n",
              "      background-color: #434B5C;\n",
              "      box-shadow: 0px 1px 3px 1px rgba(0, 0, 0, 0.15);\n",
              "      filter: drop-shadow(0px 1px 2px rgba(0, 0, 0, 0.3));\n",
              "      fill: #FFFFFF;\n",
              "    }\n",
              "  </style>\n",
              "\n",
              "      <script>\n",
              "        const buttonEl =\n",
              "          document.querySelector('#df-45610810-b71c-454f-a0b7-ccb19bc2f1bb button.colab-df-convert');\n",
              "        buttonEl.style.display =\n",
              "          google.colab.kernel.accessAllowed ? 'block' : 'none';\n",
              "\n",
              "        async function convertToInteractive(key) {\n",
              "          const element = document.querySelector('#df-45610810-b71c-454f-a0b7-ccb19bc2f1bb');\n",
              "          const dataTable =\n",
              "            await google.colab.kernel.invokeFunction('convertToInteractive',\n",
              "                                                     [key], {});\n",
              "          if (!dataTable) return;\n",
              "\n",
              "          const docLinkHtml = 'Like what you see? Visit the ' +\n",
              "            '<a target=\"_blank\" href=https://colab.research.google.com/notebooks/data_table.ipynb>data table notebook</a>'\n",
              "            + ' to learn more about interactive tables.';\n",
              "          element.innerHTML = '';\n",
              "          dataTable['output_type'] = 'display_data';\n",
              "          await google.colab.output.renderOutput(dataTable, element);\n",
              "          const docLink = document.createElement('div');\n",
              "          docLink.innerHTML = docLinkHtml;\n",
              "          element.appendChild(docLink);\n",
              "        }\n",
              "      </script>\n",
              "    </div>\n",
              "  </div>\n",
              "  "
            ]
          },
          "metadata": {},
          "execution_count": 3
        }
      ]
    },
    {
      "cell_type": "code",
      "source": [
        "cred.isna().sum()"
      ],
      "metadata": {
        "colab": {
          "base_uri": "https://localhost:8080/"
        },
        "id": "KxXIpP-WFEqw",
        "outputId": "009b8987-4eed-4e58-cd07-b7ff9303f8ca"
      },
      "execution_count": 4,
      "outputs": [
        {
          "output_type": "execute_result",
          "data": {
            "text/plain": [
              "A1     12\n",
              "A2     12\n",
              "A3      0\n",
              "A4      6\n",
              "A5      6\n",
              "A6      9\n",
              "A7      9\n",
              "A8      0\n",
              "A9      0\n",
              "A10     0\n",
              "A11     0\n",
              "A12     0\n",
              "A13     0\n",
              "A14    13\n",
              "A15     0\n",
              "A16     0\n",
              "dtype: int64"
            ]
          },
          "metadata": {},
          "execution_count": 4
        }
      ]
    },
    {
      "cell_type": "code",
      "source": [
        "# Store the column names for future use\n",
        "A1_col = cred['A1'].dropna().unique()\n",
        "A4_col = cred['A4'].dropna().unique()\n",
        "A5_col = cred['A5'].dropna().unique()\n",
        "A6_col = cred['A6'].dropna().unique()\n",
        "A7_col = cred['A7'].dropna().unique()\n",
        "A13_col = cred['A13'].dropna().unique()"
      ],
      "metadata": {
        "id": "liIq36s5Gkbt"
      },
      "execution_count": 5,
      "outputs": []
    },
    {
      "cell_type": "code",
      "source": [
        "# Store the encoded version of the categorical names for future use\n",
        "A1_range = np.arange(0,len(A1_col), 1)\n",
        "A4_range = np.arange(0,len(A4_col), 1)\n",
        "A5_range = np.arange(0,len(A5_col), 1)\n",
        "A6_range = np.arange(0,len(A6_col), 1)\n",
        "A7_range = np.arange(0,len(A7_col), 1)\n",
        "A13_range = np.arange(0,len(A13_col), 1)"
      ],
      "metadata": {
        "id": "BdZzoXyIMa2p"
      },
      "execution_count": 6,
      "outputs": []
    },
    {
      "cell_type": "markdown",
      "source": [
        "## Categorical Data"
      ],
      "metadata": {
        "id": "RRnNZ_jVrkMx"
      }
    },
    {
      "cell_type": "code",
      "source": [
        "# Ensure Data is balanced\n",
        "sns.countplot(x = cred['A16']);"
      ],
      "metadata": {
        "colab": {
          "base_uri": "https://localhost:8080/",
          "height": 282
        },
        "id": "ZYYeYb08NN-y",
        "outputId": "29880cde-7198-40a5-a7c4-353cca1fc6ce"
      },
      "execution_count": 7,
      "outputs": [
        {
          "output_type": "display_data",
          "data": {
            "text/plain": [
              "<Figure size 432x288 with 1 Axes>"
            ],
            "image/png": "[encoded data removed]"
          },
          "metadata": {
            "needs_background": "light"
          }
        }
      ]
    },
    {
      "cell_type": "code",
      "source": [
        "sns.countplot(x = cred['A1']);"
      ],
      "metadata": {
        "colab": {
          "base_uri": "https://localhost:8080/",
          "height": 279
        },
        "id": "KUtH4yLXICxX",
        "outputId": "49134861-6694-47f8-9134-0b95f5c810c2"
      },
      "execution_count": 8,
      "outputs": [
        {
          "output_type": "display_data",
          "data": {
            "text/plain": [
              "<Figure size 432x288 with 1 Axes>"
            ],
            "image/png": "[encoded data removed]"
          },
          "metadata": {
            "needs_background": "light"
          }
        }
      ]
    },
    {
      "cell_type": "code",
      "source": [
        "sns.countplot(x = cred['A4']);"
      ],
      "metadata": {
        "colab": {
          "base_uri": "https://localhost:8080/",
          "height": 279
        },
        "id": "0kFQgoarIDYn",
        "outputId": "f6126ae0-3b94-4e65-8490-961d69ba8528"
      },
      "execution_count": 9,
      "outputs": [
        {
          "output_type": "display_data",
          "data": {
            "text/plain": [
              "<Figure size 432x288 with 1 Axes>"
            ],
            "image/png": "[encoded data removed]"
          },
          "metadata": {
            "needs_background": "light"
          }
        }
      ]
    },
    {
      "cell_type": "code",
      "source": [
        "sns.countplot(x = cred['A5']);"
      ],
      "metadata": {
        "colab": {
          "base_uri": "https://localhost:8080/",
          "height": 279
        },
        "id": "DRd9swZ0IDoq",
        "outputId": "41eb04a2-e422-4702-fc11-5c8a2f0c05d1"
      },
      "execution_count": 10,
      "outputs": [
        {
          "output_type": "display_data",
          "data": {
            "text/plain": [
              "<Figure size 432x288 with 1 Axes>"
            ],
            "image/png": "[encoded data removed]"
          },
          "metadata": {
            "needs_background": "light"
          }
        }
      ]
    },
    {
      "cell_type": "code",
      "source": [
        "sns.countplot(x = cred['A6']);"
      ],
      "metadata": {
        "colab": {
          "base_uri": "https://localhost:8080/",
          "height": 279
        },
        "id": "QJuzi7SKIIRH",
        "outputId": "3df63365-5d49-4b8d-aedd-9bb4650224ea"
      },
      "execution_count": 11,
      "outputs": [
        {
          "output_type": "display_data",
          "data": {
            "text/plain": [
              "<Figure size 432x288 with 1 Axes>"
            ],
            "image/png": "[encoded data removed]"
          },
          "metadata": {
            "needs_background": "light"
          }
        }
      ]
    },
    {
      "cell_type": "code",
      "source": [
        "sns.countplot(x = cred['A7']);"
      ],
      "metadata": {
        "colab": {
          "base_uri": "https://localhost:8080/",
          "height": 279
        },
        "id": "T8MewwIXIIpG",
        "outputId": "0f360ad7-216a-4c48-b112-58ed56a50f29"
      },
      "execution_count": 12,
      "outputs": [
        {
          "output_type": "display_data",
          "data": {
            "text/plain": [
              "<Figure size 432x288 with 1 Axes>"
            ],
            "image/png": "[encoded data removed]"
          },
          "metadata": {
            "needs_background": "light"
          }
        }
      ]
    },
    {
      "cell_type": "code",
      "source": [
        "sns.countplot(x = cred['A9']);"
      ],
      "metadata": {
        "colab": {
          "base_uri": "https://localhost:8080/",
          "height": 279
        },
        "id": "SgPlwx07II3B",
        "outputId": "1ffd0127-6e15-478c-fe4d-395422fbbe50"
      },
      "execution_count": 13,
      "outputs": [
        {
          "output_type": "display_data",
          "data": {
            "text/plain": [
              "<Figure size 432x288 with 1 Axes>"
            ],
            "image/png": "[encoded data removed]"
          },
          "metadata": {
            "needs_background": "light"
          }
        }
      ]
    },
    {
      "cell_type": "code",
      "source": [
        "sns.countplot(x = cred['A10']);"
      ],
      "metadata": {
        "colab": {
          "base_uri": "https://localhost:8080/",
          "height": 279
        },
        "id": "ProvLMQ0IJLK",
        "outputId": "ac58a63d-199d-4671-fe05-332fef45c0f3"
      },
      "execution_count": 14,
      "outputs": [
        {
          "output_type": "display_data",
          "data": {
            "text/plain": [
              "<Figure size 432x288 with 1 Axes>"
            ],
            "image/png": "[encoded data removed]"
          },
          "metadata": {
            "needs_background": "light"
          }
        }
      ]
    },
    {
      "cell_type": "code",
      "source": [
        "sns.countplot(x = cred['A12']);"
      ],
      "metadata": {
        "colab": {
          "base_uri": "https://localhost:8080/",
          "height": 279
        },
        "id": "Q1PbGqxWIJdA",
        "outputId": "701fab20-8b78-4332-9fd4-eea95d2c169d"
      },
      "execution_count": 15,
      "outputs": [
        {
          "output_type": "display_data",
          "data": {
            "text/plain": [
              "<Figure size 432x288 with 1 Axes>"
            ],
            "image/png": "[encoded data removed]"
          },
          "metadata": {
            "needs_background": "light"
          }
        }
      ]
    },
    {
      "cell_type": "code",
      "source": [
        "sns.countplot(x = cred['A13']);"
      ],
      "metadata": {
        "colab": {
          "base_uri": "https://localhost:8080/",
          "height": 279
        },
        "id": "eLC8YtNJIJr2",
        "outputId": "d2cb1ede-9da1-406b-a711-01143da1d074"
      },
      "execution_count": 16,
      "outputs": [
        {
          "output_type": "display_data",
          "data": {
            "text/plain": [
              "<Figure size 432x288 with 1 Axes>"
            ],
            "image/png": "[encoded data removed]"
          },
          "metadata": {
            "needs_background": "light"
          }
        }
      ]
    },
    {
      "cell_type": "markdown",
      "source": [
        "## Numeric Data"
      ],
      "metadata": {
        "id": "aM1V3hsFrsMl"
      }
    },
    {
      "cell_type": "code",
      "source": [
        "sns.displot(cred['A2'], kde=True, color=\"red\");\n",
        "sns.displot(cred['A3'], kde=True, color=\"blue\");\n",
        "sns.displot(cred['A8'], kde=True, color=\"green\");\n",
        "sns.displot(cred['A11'], kde=True, color=\"yellow\");\n",
        "sns.displot(cred['A14'], kde=True, color=\"orange\");\n",
        "sns.displot(cred['A15'], kde=True, color=\"gray\");"
      ],
      "metadata": {
        "colab": {
          "base_uri": "https://localhost:8080/",
          "height": 1000
        },
        "id": "vW52SsusNpKG",
        "outputId": "694130be-56e6-46f2-9b8d-97da7cc67c2d"
      },
      "execution_count": 17,
      "outputs": [
        {
          "output_type": "display_data",
          "data": {
            "text/plain": [
              "<Figure size 360x360 with 1 Axes>"
            ],
            "image/png": "[encoded data removed]"
          },
          "metadata": {
            "needs_background": "light"
          }
        },
        {
          "output_type": "display_data",
          "data": {
            "text/plain": [
              "<Figure size 360x360 with 1 Axes>"
            ],
            "image/png": "[encoded data removed]"
          },
          "metadata": {
            "needs_background": "light"
          }
        },
        {
          "output_type": "display_data",
          "data": {
            "text/plain": [
              "<Figure size 360x360 with 1 Axes>"
            ],
            "image/png": "[encoded data removed]"
          },
          "metadata": {
            "needs_background": "light"
          }
        },
        {
          "output_type": "display_data",
          "data": {
            "text/plain": [
              "<Figure size 360x360 with 1 Axes>"
            ],
            "image/png": "[encoded data removed]"
          },
          "metadata": {
            "needs_background": "light"
          }
        },
        {
          "output_type": "display_data",
          "data": {
            "text/plain": [
              "<Figure size 360x360 with 1 Axes>"
            ],
            "image/png": "[encoded data removed]"
          },
          "metadata": {
            "needs_background": "light"
          }
        },
        {
          "output_type": "display_data",
          "data": {
            "text/plain": [
              "<Figure size 360x360 with 1 Axes>"
            ],
            "image/png": "[encoded data removed]"
          },
          "metadata": {
            "needs_background": "light"
          }
        }
      ]
    },
    {
      "cell_type": "markdown",
      "source": [
        "## Outliers"
      ],
      "metadata": {
        "id": "xJ7PPSeWryOR"
      }
    },
    {
      "cell_type": "code",
      "source": [
        "sns.boxplot(x = cred['A14']);"
      ],
      "metadata": {
        "colab": {
          "base_uri": "https://localhost:8080/",
          "height": 279
        },
        "id": "7YAw5KHTPTxm",
        "outputId": "15bd7143-635f-4e74-f59e-bd899bca10af"
      },
      "execution_count": 18,
      "outputs": [
        {
          "output_type": "display_data",
          "data": {
            "text/plain": [
              "<Figure size 432x288 with 1 Axes>"
            ],
            "image/png": "[encoded data removed]"
          },
          "metadata": {
            "needs_background": "light"
          }
        }
      ]
    },
    {
      "cell_type": "code",
      "source": [
        "sns.boxplot(x = cred['A15']);"
      ],
      "metadata": {
        "colab": {
          "base_uri": "https://localhost:8080/",
          "height": 279
        },
        "id": "PTxqKf2dPT9t",
        "outputId": "205b8efb-0b01-405b-bc49-62c467f2f4da"
      },
      "execution_count": 19,
      "outputs": [
        {
          "output_type": "display_data",
          "data": {
            "text/plain": [
              "<Figure size 432x288 with 1 Axes>"
            ],
            "image/png": "[encoded data removed]"
          },
          "metadata": {
            "needs_background": "light"
          }
        }
      ]
    },
    {
      "cell_type": "markdown",
      "source": [
        "#Data Cleaning"
      ],
      "metadata": {
        "id": "AT_jortaLLmI"
      }
    },
    {
      "cell_type": "code",
      "source": [
        "# Filter out the numeric nulls with the mean\n",
        "# Numeric Null Columns = A2, A14\n",
        "cred['A2'].fillna(cred['A2'].mean(), inplace = True)\n",
        "cred['A14'].fillna(cred['A14'].mean(), inplace = True)\n",
        "\n",
        "# Fileter out the categorical nulls with the a random sample\n",
        "# Categorical Null Columns = A1, A4, A5, A6, A7\n",
        "from random import choice\n",
        "cred['A1'].fillna(choice(A1_col), inplace = True)\n",
        "cred['A4'].fillna(choice(A4_col), inplace = True)\n",
        "cred['A5'].fillna(choice(A5_col), inplace = True)\n",
        "cred['A6'].fillna(choice(A6_col), inplace = True)\n",
        "cred['A7'].fillna(choice(A7_col), inplace = True)"
      ],
      "metadata": {
        "id": "t1ZmYGIEKzSg"
      },
      "execution_count": 20,
      "outputs": []
    },
    {
      "cell_type": "code",
      "source": [
        "# Remove some heavy outliers\n",
        "cred = cred[cred['A15'] < 10000]\n",
        "cred = cred[cred['A14'] < 600]"
      ],
      "metadata": {
        "id": "Gq6rDtIqQxE2"
      },
      "execution_count": 21,
      "outputs": []
    },
    {
      "cell_type": "markdown",
      "source": [
        "## Replacing Categorical to Numeric to view correlation"
      ],
      "metadata": {
        "id": "egNRHvpxLOfB"
      }
    },
    {
      "cell_type": "code",
      "source": [
        "# True vs False -> 1 / 0\n",
        "cred['A16'].replace(['+', '-'],[1,0], inplace = True)\n",
        "cred['A9'].replace(['t', 'f'], [1,0], inplace = True)\n",
        "cred['A10'].replace(['t', 'f'], [1,0], inplace = True)\n",
        "cred['A12'].replace(['t', 'f'], [1,0], inplace = True)\n",
        "\n",
        "# Other Catergorical -> 0, 1, 2 ... N\n",
        "cred['A1'].replace(A1_col, A1_range, inplace = True)\n",
        "cred['A4'].replace(A4_col, A4_range, inplace = True)\n",
        "cred['A5'].replace(A5_col, A5_range, inplace = True)\n",
        "cred['A6'].replace(A6_col, A6_range, inplace = True)\n",
        "cred['A7'].replace(A7_col, A7_range, inplace = True)\n",
        "cred['A13'].replace(A13_col, A13_range, inplace = True)\n",
        "\n"
      ],
      "metadata": {
        "id": "F70AzWT-_zNE"
      },
      "execution_count": 22,
      "outputs": []
    },
    {
      "cell_type": "code",
      "source": [
        "# View the correlation of the different features compared to A16\n",
        "cred.corr()"
      ],
      "metadata": {
        "colab": {
          "base_uri": "https://localhost:8080/",
          "height": 551
        },
        "id": "N9WzcuW46fXS",
        "outputId": "44b4f52b-a9bf-46c8-fba9-a110e153928e"
      },
      "execution_count": 23,
      "outputs": [
        {
          "output_type": "execute_result",
          "data": {
            "text/plain": [
              "           A1        A2        A3        A4        A5        A6        A7  \\\n",
              "A1   1.000000  0.042591 -0.023211  0.057638  0.054060 -0.067086 -0.033419   \n",
              "A2   0.042591  1.000000  0.205583 -0.089581 -0.078164  0.154139  0.140596   \n",
              "A3  -0.023211  0.205583  1.000000 -0.107826 -0.120880  0.055295  0.055105   \n",
              "A4   0.057638 -0.089581 -0.107826  1.000000  0.979401  0.142538  0.033024   \n",
              "A5   0.054060 -0.078164 -0.120880  0.979401  1.000000  0.169572  0.027497   \n",
              "A6  -0.067086  0.154139  0.055295  0.142538  0.169572  1.000000  0.379836   \n",
              "A7  -0.033419  0.140596  0.055105  0.033024  0.027497  0.379836  1.000000   \n",
              "A8   0.109920  0.381037  0.322989 -0.061545 -0.071127 -0.083660 -0.049704   \n",
              "A9   0.003516  0.195969  0.260835 -0.167222 -0.178387 -0.172163 -0.156198   \n",
              "A10 -0.072458  0.082327  0.195236 -0.201510 -0.207412 -0.161527 -0.027947   \n",
              "A11 -0.013645  0.176954  0.295182 -0.120832 -0.123943 -0.095150 -0.015715   \n",
              "A12  0.040972  0.055533 -0.012032 -0.006603 -0.024098 -0.119202 -0.044256   \n",
              "A13  0.066293  0.001748 -0.150096  0.091146  0.196548  0.051035 -0.018171   \n",
              "A14  0.094455 -0.082701 -0.294708  0.019038  0.020023 -0.109639 -0.138674   \n",
              "A15  0.002020  0.082621  0.126328 -0.103048 -0.105446 -0.017982 -0.033248   \n",
              "A16 -0.014378  0.159320  0.218375 -0.174816 -0.156370 -0.195236 -0.144409   \n",
              "\n",
              "           A8        A9       A10       A11       A12       A13       A14  \\\n",
              "A1   0.109920  0.003516 -0.072458 -0.013645  0.040972  0.066293  0.094455   \n",
              "A2   0.381037  0.195969  0.082327  0.176954  0.055533  0.001748 -0.082701   \n",
              "A3   0.322989  0.260835  0.195236  0.295182 -0.012032 -0.150096 -0.294708   \n",
              "A4  -0.061545 -0.167222 -0.201510 -0.120832 -0.006603  0.091146  0.019038   \n",
              "A5  -0.071127 -0.178387 -0.207412 -0.123943 -0.024098  0.196548  0.020023   \n",
              "A6  -0.083660 -0.172163 -0.161527 -0.095150 -0.119202  0.051035 -0.109639   \n",
              "A7  -0.049704 -0.156198 -0.027947 -0.015715 -0.044256 -0.018171 -0.138674   \n",
              "A8   1.000000  0.344481  0.233051  0.313265  0.138263 -0.041587 -0.095248   \n",
              "A9   0.344481  1.000000  0.434885  0.383645  0.096816 -0.135609 -0.065617   \n",
              "A10  0.233051  0.434885  1.000000  0.574138  0.029008 -0.234557 -0.075661   \n",
              "A11  0.313265  0.383645  0.574138  1.000000  0.021438 -0.135540 -0.110633   \n",
              "A12  0.138263  0.096816  0.029008  0.021438  1.000000 -0.044334  0.162724   \n",
              "A13 -0.041587 -0.135609 -0.234557 -0.135540 -0.044334  1.000000  0.052591   \n",
              "A14 -0.095248 -0.065617 -0.075661 -0.110633  0.162724  0.052591  1.000000   \n",
              "A15  0.095779  0.225531  0.243569  0.228691 -0.049404 -0.124081 -0.066513   \n",
              "A16  0.325987  0.726920  0.463079  0.409954  0.034425 -0.070438 -0.084254   \n",
              "\n",
              "          A15       A16  \n",
              "A1   0.002020 -0.014378  \n",
              "A2   0.082621  0.159320  \n",
              "A3   0.126328  0.218375  \n",
              "A4  -0.103048 -0.174816  \n",
              "A5  -0.105446 -0.156370  \n",
              "A6  -0.017982 -0.195236  \n",
              "A7  -0.033248 -0.144409  \n",
              "A8   0.095779  0.325987  \n",
              "A9   0.225531  0.726920  \n",
              "A10  0.243569  0.463079  \n",
              "A11  0.228691  0.409954  \n",
              "A12 -0.049404  0.034425  \n",
              "A13 -0.124081 -0.070438  \n",
              "A14 -0.066513 -0.084254  \n",
              "A15  1.000000  0.284705  \n",
              "A16  0.284705  1.000000  "
            ],
            "text/html": [
              "\n",
              "  <div id=\"df-ccaf6ce7-e0c5-4136-89d4-b43ea040388d\">\n",
              "    <div class=\"colab-df-container\">\n",
              "      <div>\n",
              "<style scoped>\n",
              "    .dataframe tbody tr th:only-of-type {\n",
              "        vertical-align: middle;\n",
              "    }\n",
              "\n",
              "    .dataframe tbody tr th {\n",
              "        vertical-align: top;\n",
              "    }\n",
              "\n",
              "    .dataframe thead th {\n",
              "        text-align: right;\n",
              "    }\n",
              "</style>\n",
              "<table border=\"1\" class=\"dataframe\">\n",
              "  <thead>\n",
              "    <tr style=\"text-align: right;\">\n",
              "      <th></th>\n",
              "      <th>A1</th>\n",
              "      <th>A2</th>\n",
              "      <th>A3</th>\n",
              "      <th>A4</th>\n",
              "      <th>A5</th>\n",
              "      <th>A6</th>\n",
              "      <th>A7</th>\n",
              "      <th>A8</th>\n",
              "      <th>A9</th>\n",
              "      <th>A10</th>\n",
              "      <th>A11</th>\n",
              "      <th>A12</th>\n",
              "      <th>A13</th>\n",
              "      <th>A14</th>\n",
              "      <th>A15</th>\n",
              "      <th>A16</th>\n",
              "    </tr>\n",
              "  </thead>\n",
              "  <tbody>\n",
              "    <tr>\n",
              "      <th>A1</th>\n",
              "      <td>1.000000</td>\n",
              "      <td>0.042591</td>\n",
              "      <td>-0.023211</td>\n",
              "      <td>0.057638</td>\n",
              "      <td>0.054060</td>\n",
              "      <td>-0.067086</td>\n",
              "      <td>-0.033419</td>\n",
              "      <td>0.109920</td>\n",
              "      <td>0.003516</td>\n",
              "      <td>-0.072458</td>\n",
              "      <td>-0.013645</td>\n",
              "      <td>0.040972</td>\n",
              "      <td>0.066293</td>\n",
              "      <td>0.094455</td>\n",
              "      <td>0.002020</td>\n",
              "      <td>-0.014378</td>\n",
              "    </tr>\n",
              "    <tr>\n",
              "      <th>A2</th>\n",
              "      <td>0.042591</td>\n",
              "      <td>1.000000</td>\n",
              "      <td>0.205583</td>\n",
              "      <td>-0.089581</td>\n",
              "      <td>-0.078164</td>\n",
              "      <td>0.154139</td>\n",
              "      <td>0.140596</td>\n",
              "      <td>0.381037</td>\n",
              "      <td>0.195969</td>\n",
              "      <td>0.082327</td>\n",
              "      <td>0.176954</td>\n",
              "      <td>0.055533</td>\n",
              "      <td>0.001748</td>\n",
              "      <td>-0.082701</td>\n",
              "      <td>0.082621</td>\n",
              "      <td>0.159320</td>\n",
              "    </tr>\n",
              "    <tr>\n",
              "      <th>A3</th>\n",
              "      <td>-0.023211</td>\n",
              "      <td>0.205583</td>\n",
              "      <td>1.000000</td>\n",
              "      <td>-0.107826</td>\n",
              "      <td>-0.120880</td>\n",
              "      <td>0.055295</td>\n",
              "      <td>0.055105</td>\n",
              "      <td>0.322989</td>\n",
              "      <td>0.260835</td>\n",
              "      <td>0.195236</td>\n",
              "      <td>0.295182</td>\n",
              "      <td>-0.012032</td>\n",
              "      <td>-0.150096</td>\n",
              "      <td>-0.294708</td>\n",
              "      <td>0.126328</td>\n",
              "      <td>0.218375</td>\n",
              "    </tr>\n",
              "    <tr>\n",
              "      <th>A4</th>\n",
              "      <td>0.057638</td>\n",
              "      <td>-0.089581</td>\n",
              "      <td>-0.107826</td>\n",
              "      <td>1.000000</td>\n",
              "      <td>0.979401</td>\n",
              "      <td>0.142538</td>\n",
              "      <td>0.033024</td>\n",
              "      <td>-0.061545</td>\n",
              "      <td>-0.167222</td>\n",
              "      <td>-0.201510</td>\n",
              "      <td>-0.120832</td>\n",
              "      <td>-0.006603</td>\n",
              "      <td>0.091146</td>\n",
              "      <td>0.019038</td>\n",
              "      <td>-0.103048</td>\n",
              "      <td>-0.174816</td>\n",
              "    </tr>\n",
              "    <tr>\n",
              "      <th>A5</th>\n",
              "      <td>0.054060</td>\n",
              "      <td>-0.078164</td>\n",
              "      <td>-0.120880</td>\n",
              "      <td>0.979401</td>\n",
              "      <td>1.000000</td>\n",
              "      <td>0.169572</td>\n",
              "      <td>0.027497</td>\n",
              "      <td>-0.071127</td>\n",
              "      <td>-0.178387</td>\n",
              "      <td>-0.207412</td>\n",
              "      <td>-0.123943</td>\n",
              "      <td>-0.024098</td>\n",
              "      <td>0.196548</td>\n",
              "      <td>0.020023</td>\n",
              "      <td>-0.105446</td>\n",
              "      <td>-0.156370</td>\n",
              "    </tr>\n",
              "    <tr>\n",
              "      <th>A6</th>\n",
              "      <td>-0.067086</td>\n",
              "      <td>0.154139</td>\n",
              "      <td>0.055295</td>\n",
              "      <td>0.142538</td>\n",
              "      <td>0.169572</td>\n",
              "      <td>1.000000</td>\n",
              "      <td>0.379836</td>\n",
              "      <td>-0.083660</td>\n",
              "      <td>-0.172163</td>\n",
              "      <td>-0.161527</td>\n",
              "      <td>-0.095150</td>\n",
              "      <td>-0.119202</td>\n",
              "      <td>0.051035</td>\n",
              "      <td>-0.109639</td>\n",
              "      <td>-0.017982</td>\n",
              "      <td>-0.195236</td>\n",
              "    </tr>\n",
              "    <tr>\n",
              "      <th>A7</th>\n",
              "      <td>-0.033419</td>\n",
              "      <td>0.140596</td>\n",
              "      <td>0.055105</td>\n",
              "      <td>0.033024</td>\n",
              "      <td>0.027497</td>\n",
              "      <td>0.379836</td>\n",
              "      <td>1.000000</td>\n",
              "      <td>-0.049704</td>\n",
              "      <td>-0.156198</td>\n",
              "      <td>-0.027947</td>\n",
              "      <td>-0.015715</td>\n",
              "      <td>-0.044256</td>\n",
              "      <td>-0.018171</td>\n",
              "      <td>-0.138674</td>\n",
              "      <td>-0.033248</td>\n",
              "      <td>-0.144409</td>\n",
              "    </tr>\n",
              "    <tr>\n",
              "      <th>A8</th>\n",
              "      <td>0.109920</td>\n",
              "      <td>0.381037</td>\n",
              "      <td>0.322989</td>\n",
              "      <td>-0.061545</td>\n",
              "      <td>-0.071127</td>\n",
              "      <td>-0.083660</td>\n",
              "      <td>-0.049704</td>\n",
              "      <td>1.000000</td>\n",
              "      <td>0.344481</td>\n",
              "      <td>0.233051</td>\n",
              "      <td>0.313265</td>\n",
              "      <td>0.138263</td>\n",
              "      <td>-0.041587</td>\n",
              "      <td>-0.095248</td>\n",
              "      <td>0.095779</td>\n",
              "      <td>0.325987</td>\n",
              "    </tr>\n",
              "    <tr>\n",
              "      <th>A9</th>\n",
              "      <td>0.003516</td>\n",
              "      <td>0.195969</td>\n",
              "      <td>0.260835</td>\n",
              "      <td>-0.167222</td>\n",
              "      <td>-0.178387</td>\n",
              "      <td>-0.172163</td>\n",
              "      <td>-0.156198</td>\n",
              "      <td>0.344481</td>\n",
              "      <td>1.000000</td>\n",
              "      <td>0.434885</td>\n",
              "      <td>0.383645</td>\n",
              "      <td>0.096816</td>\n",
              "      <td>-0.135609</td>\n",
              "      <td>-0.065617</td>\n",
              "      <td>0.225531</td>\n",
              "      <td>0.726920</td>\n",
              "    </tr>\n",
              "    <tr>\n",
              "      <th>A10</th>\n",
              "      <td>-0.072458</td>\n",
              "      <td>0.082327</td>\n",
              "      <td>0.195236</td>\n",
              "      <td>-0.201510</td>\n",
              "      <td>-0.207412</td>\n",
              "      <td>-0.161527</td>\n",
              "      <td>-0.027947</td>\n",
              "      <td>0.233051</td>\n",
              "      <td>0.434885</td>\n",
              "      <td>1.000000</td>\n",
              "      <td>0.574138</td>\n",
              "      <td>0.029008</td>\n",
              "      <td>-0.234557</td>\n",
              "      <td>-0.075661</td>\n",
              "      <td>0.243569</td>\n",
              "      <td>0.463079</td>\n",
              "    </tr>\n",
              "    <tr>\n",
              "      <th>A11</th>\n",
              "      <td>-0.013645</td>\n",
              "      <td>0.176954</td>\n",
              "      <td>0.295182</td>\n",
              "      <td>-0.120832</td>\n",
              "      <td>-0.123943</td>\n",
              "      <td>-0.095150</td>\n",
              "      <td>-0.015715</td>\n",
              "      <td>0.313265</td>\n",
              "      <td>0.383645</td>\n",
              "      <td>0.574138</td>\n",
              "      <td>1.000000</td>\n",
              "      <td>0.021438</td>\n",
              "      <td>-0.135540</td>\n",
              "      <td>-0.110633</td>\n",
              "      <td>0.228691</td>\n",
              "      <td>0.409954</td>\n",
              "    </tr>\n",
              "    <tr>\n",
              "      <th>A12</th>\n",
              "      <td>0.040972</td>\n",
              "      <td>0.055533</td>\n",
              "      <td>-0.012032</td>\n",
              "      <td>-0.006603</td>\n",
              "      <td>-0.024098</td>\n",
              "      <td>-0.119202</td>\n",
              "      <td>-0.044256</td>\n",
              "      <td>0.138263</td>\n",
              "      <td>0.096816</td>\n",
              "      <td>0.029008</td>\n",
              "      <td>0.021438</td>\n",
              "      <td>1.000000</td>\n",
              "      <td>-0.044334</td>\n",
              "      <td>0.162724</td>\n",
              "      <td>-0.049404</td>\n",
              "      <td>0.034425</td>\n",
              "    </tr>\n",
              "    <tr>\n",
              "      <th>A13</th>\n",
              "      <td>0.066293</td>\n",
              "      <td>0.001748</td>\n",
              "      <td>-0.150096</td>\n",
              "      <td>0.091146</td>\n",
              "      <td>0.196548</td>\n",
              "      <td>0.051035</td>\n",
              "      <td>-0.018171</td>\n",
              "      <td>-0.041587</td>\n",
              "      <td>-0.135609</td>\n",
              "      <td>-0.234557</td>\n",
              "      <td>-0.135540</td>\n",
              "      <td>-0.044334</td>\n",
              "      <td>1.000000</td>\n",
              "      <td>0.052591</td>\n",
              "      <td>-0.124081</td>\n",
              "      <td>-0.070438</td>\n",
              "    </tr>\n",
              "    <tr>\n",
              "      <th>A14</th>\n",
              "      <td>0.094455</td>\n",
              "      <td>-0.082701</td>\n",
              "      <td>-0.294708</td>\n",
              "      <td>0.019038</td>\n",
              "      <td>0.020023</td>\n",
              "      <td>-0.109639</td>\n",
              "      <td>-0.138674</td>\n",
              "      <td>-0.095248</td>\n",
              "      <td>-0.065617</td>\n",
              "      <td>-0.075661</td>\n",
              "      <td>-0.110633</td>\n",
              "      <td>0.162724</td>\n",
              "      <td>0.052591</td>\n",
              "      <td>1.000000</td>\n",
              "      <td>-0.066513</td>\n",
              "      <td>-0.084254</td>\n",
              "    </tr>\n",
              "    <tr>\n",
              "      <th>A15</th>\n",
              "      <td>0.002020</td>\n",
              "      <td>0.082621</td>\n",
              "      <td>0.126328</td>\n",
              "      <td>-0.103048</td>\n",
              "      <td>-0.105446</td>\n",
              "      <td>-0.017982</td>\n",
              "      <td>-0.033248</td>\n",
              "      <td>0.095779</td>\n",
              "      <td>0.225531</td>\n",
              "      <td>0.243569</td>\n",
              "      <td>0.228691</td>\n",
              "      <td>-0.049404</td>\n",
              "      <td>-0.124081</td>\n",
              "      <td>-0.066513</td>\n",
              "      <td>1.000000</td>\n",
              "      <td>0.284705</td>\n",
              "    </tr>\n",
              "    <tr>\n",
              "      <th>A16</th>\n",
              "      <td>-0.014378</td>\n",
              "      <td>0.159320</td>\n",
              "      <td>0.218375</td>\n",
              "      <td>-0.174816</td>\n",
              "      <td>-0.156370</td>\n",
              "      <td>-0.195236</td>\n",
              "      <td>-0.144409</td>\n",
              "      <td>0.325987</td>\n",
              "      <td>0.726920</td>\n",
              "      <td>0.463079</td>\n",
              "      <td>0.409954</td>\n",
              "      <td>0.034425</td>\n",
              "      <td>-0.070438</td>\n",
              "      <td>-0.084254</td>\n",
              "      <td>0.284705</td>\n",
              "      <td>1.000000</td>\n",
              "    </tr>\n",
              "  </tbody>\n",
              "</table>\n",
              "</div>\n",
              "      <button class=\"colab-df-convert\" onclick=\"convertToInteractive('df-ccaf6ce7-e0c5-4136-89d4-b43ea040388d')\"\n",
              "              title=\"Convert this dataframe to an interactive table.\"\n",
              "              style=\"display:none;\">\n",
              "        \n",
              "  <svg xmlns=\"http://www.w3.org/2000/svg\" height=\"24px\"viewBox=\"0 0 24 24\"\n",
              "       width=\"24px\">\n",
              "    <path d=\"M0 0h24v24H0V0z\" fill=\"none\"/>\n",
              "    <path d=\"M18.56 5.44l.94 2.06.94-2.06 2.06-.94-2.06-.94-.94-2.06-.94 2.06-2.06.94zm-11 1L8.5 8.5l.94-2.06 2.06-.94-2.06-.94L8.5 2.5l-.94 2.06-2.06.94zm10 10l.94 2.06.94-2.06 2.06-.94-2.06-.94-.94-2.06-.94 2.06-2.06.94z\"/><path d=\"M17.41 7.96l-1.37-1.37c-.4-.4-.92-.59-1.43-.59-.52 0-1.04.2-1.43.59L10.3 9.45l-7.72 7.72c-.78.78-.78 2.05 0 2.83L4 21.41c.39.39.9.59 1.41.59.51 0 1.02-.2 1.41-.59l7.78-7.78 2.81-2.81c.8-.78.8-2.07 0-2.86zM5.41 20L4 18.59l7.72-7.72 1.47 1.35L5.41 20z\"/>\n",
              "  </svg>\n",
              "      </button>\n",
              "      \n",
              "  <style>\n",
              "    .colab-df-container {\n",
              "      display:flex;\n",
              "      flex-wrap:wrap;\n",
              "      gap: 12px;\n",
              "    }\n",
              "\n",
              "    .colab-df-convert {\n",
              "      background-color: #E8F0FE;\n",
              "      border: none;\n",
              "      border-radius: 50%;\n",
              "      cursor: pointer;\n",
              "      display: none;\n",
              "      fill: #1967D2;\n",
              "      height: 32px;\n",
              "      padding: 0 0 0 0;\n",
              "      width: 32px;\n",
              "    }\n",
              "\n",
              "    .colab-df-convert:hover {\n",
              "      background-color: #E2EBFA;\n",
              "      box-shadow: 0px 1px 2px rgba(60, 64, 67, 0.3), 0px 1px 3px 1px rgba(60, 64, 67, 0.15);\n",
              "      fill: #174EA6;\n",
              "    }\n",
              "\n",
              "    [theme=dark] .colab-df-convert {\n",
              "      background-color: #3B4455;\n",
              "      fill: #D2E3FC;\n",
              "    }\n",
              "\n",
              "    [theme=dark] .colab-df-convert:hover {\n",
              "      background-color: #434B5C;\n",
              "      box-shadow: 0px 1px 3px 1px rgba(0, 0, 0, 0.15);\n",
              "      filter: drop-shadow(0px 1px 2px rgba(0, 0, 0, 0.3));\n",
              "      fill: #FFFFFF;\n",
              "    }\n",
              "  </style>\n",
              "\n",
              "      <script>\n",
              "        const buttonEl =\n",
              "          document.querySelector('#df-ccaf6ce7-e0c5-4136-89d4-b43ea040388d button.colab-df-convert');\n",
              "        buttonEl.style.display =\n",
              "          google.colab.kernel.accessAllowed ? 'block' : 'none';\n",
              "\n",
              "        async function convertToInteractive(key) {\n",
              "          const element = document.querySelector('#df-ccaf6ce7-e0c5-4136-89d4-b43ea040388d');\n",
              "          const dataTable =\n",
              "            await google.colab.kernel.invokeFunction('convertToInteractive',\n",
              "                                                     [key], {});\n",
              "          if (!dataTable) return;\n",
              "\n",
              "          const docLinkHtml = 'Like what you see? Visit the ' +\n",
              "            '<a target=\"_blank\" href=https://colab.research.google.com/notebooks/data_table.ipynb>data table notebook</a>'\n",
              "            + ' to learn more about interactive tables.';\n",
              "          element.innerHTML = '';\n",
              "          dataTable['output_type'] = 'display_data';\n",
              "          await google.colab.output.renderOutput(dataTable, element);\n",
              "          const docLink = document.createElement('div');\n",
              "          docLink.innerHTML = docLinkHtml;\n",
              "          element.appendChild(docLink);\n",
              "        }\n",
              "      </script>\n",
              "    </div>\n",
              "  </div>\n",
              "  "
            ]
          },
          "metadata": {},
          "execution_count": 23
        }
      ]
    },
    {
      "cell_type": "markdown",
      "source": [
        "# Create the model"
      ],
      "metadata": {
        "id": "vkW3R0MoPwfJ"
      }
    },
    {
      "cell_type": "code",
      "source": [
        "from sklearn.model_selection import train_test_split\n",
        "from sklearn.tree import DecisionTreeClassifier\n",
        "\n",
        "# Drop the Columns that didnt provide much correlation to A16\n",
        "y = cred['A16']\n",
        "X = cred.drop(['A16','A1', 'A12', 'A13', 'A14', 'A7', 'A2', 'A3', 'A4', 'A5', 'A6', 'A7'], axis = 1)\n",
        "\n",
        "# Create the test data\n",
        "X_train, X_test, y_train, y_test = train_test_split(X, y, random_state=2, test_size = 0.25)\n",
        "dt = DecisionTreeClassifier(random_state = 0, max_leaf_nodes = 5)\n",
        "dt.fit(X_train, y_train)\n",
        "pred = dt.predict(X_test)"
      ],
      "metadata": {
        "id": "VsVICgXbTynK"
      },
      "execution_count": 24,
      "outputs": []
    },
    {
      "cell_type": "markdown",
      "source": [
        "## Evaluate Model"
      ],
      "metadata": {
        "id": "nn7z8I_L67kF"
      }
    },
    {
      "cell_type": "code",
      "source": [
        "from sklearn.metrics import classification_report, plot_confusion_matrix\n",
        "plot_confusion_matrix(dt, X_test, y_test) ;\n",
        "plt.show();"
      ],
      "metadata": {
        "colab": {
          "base_uri": "https://localhost:8080/",
          "height": 334
        },
        "id": "_xrJF753XMlU",
        "outputId": "94b8eaae-1ac7-4182-a674-4c4831381641"
      },
      "execution_count": 25,
      "outputs": [
        {
          "output_type": "stream",
          "name": "stderr",
          "text": [
            "/usr/local/lib/python3.7/dist-packages/sklearn/utils/deprecation.py:87: FutureWarning: Function plot_confusion_matrix is deprecated; Function `plot_confusion_matrix` is deprecated in 1.0 and will be removed in 1.2. Use one of the class methods: ConfusionMatrixDisplay.from_predictions or ConfusionMatrixDisplay.from_estimator.\n",
            "  warnings.warn(msg, category=FutureWarning)\n"
          ]
        },
        {
          "output_type": "display_data",
          "data": {
            "text/plain": [
              "<Figure size 432x288 with 2 Axes>"
            ],
            "image/png": "[encoded data removed]"
          },
          "metadata": {
            "needs_background": "light"
          }
        }
      ]
    },
    {
      "cell_type": "code",
      "source": [
        "# Various Scores\n",
        "print(classification_report(y_test, pred))"
      ],
      "metadata": {
        "colab": {
          "base_uri": "https://localhost:8080/"
        },
        "id": "pWe6JwgQv9Hj",
        "outputId": "de73f3f4-32e2-4554-dfab-21b7ed25d78e"
      },
      "execution_count": 26,
      "outputs": [
        {
          "output_type": "stream",
          "name": "stdout",
          "text": [
            "              precision    recall  f1-score   support\n",
            "\n",
            "           0       0.81      0.97      0.88        90\n",
            "           1       0.95      0.72      0.82        76\n",
            "\n",
            "    accuracy                           0.86       166\n",
            "   macro avg       0.88      0.85      0.85       166\n",
            "weighted avg       0.87      0.86      0.85       166\n",
            "\n"
          ]
        }
      ]
    },
    {
      "cell_type": "markdown",
      "source": [
        "## Visual"
      ],
      "metadata": {
        "id": "j4P6r0p_7C3q"
      }
    },
    {
      "cell_type": "code",
      "source": [
        "!pip install graphviz\n",
        "import graphviz\n",
        "from sklearn import tree\n",
        "dot_data = tree.export_graphviz(dt,\n",
        "                                filled = True,\n",
        "                                feature_names = X.columns,\n",
        "                                class_names = ['Approved', \"Denied\"])\n",
        "graphviz.Source(dot_data,format=\"png\") "
      ],
      "metadata": {
        "colab": {
          "base_uri": "https://localhost:8080/",
          "height": 633
        },
        "id": "YQQbAvFU6_O1",
        "outputId": "f71a5bd4-542c-445e-928f-4e7e543f9fa2"
      },
      "execution_count": 28,
      "outputs": [
        {
          "output_type": "stream",
          "name": "stdout",
          "text": [
            "Looking in indexes: https://pypi.org/simple, https://us-python.pkg.dev/colab-wheels/public/simple/\n",
            "Requirement already satisfied: graphviz in /usr/local/lib/python3.7/dist-packages (0.10.1)\n"
          ]
        },
        {
          "output_type": "execute_result",
          "data": {
            "text/plain": [
              "<graphviz.files.Source at 0x7f4e11ca9210>"
            ],
            "image/svg+xml": "<?xml version=\"1.0\" encoding=\"UTF-8\" standalone=\"no\"?>\n<!DOCTYPE svg PUBLIC \"-//W3C//DTD SVG 1.1//EN\"\n \"http://www.w3.org/Graphics/SVG/1.1/DTD/svg11.dtd\">\n<!-- Generated by graphviz version 2.40.1 (20161225.0304)\n -->\n<!-- Title: Tree Pages: 1 -->\n<svg width=\"536pt\" height=\"433pt\"\n viewBox=\"0.00 0.00 535.50 433.00\" xmlns=\"http://www.w3.org/2000/svg\" xmlns:xlink=\"http://www.w3.org/1999/xlink\">\n<g id=\"graph0\" class=\"graph\" transform=\"scale(1 1) rotate(0) translate(4 429)\">\n<title>Tree</title>\n<polygon fill=\"#ffffff\" stroke=\"transparent\" points=\"-4,4 -4,-429 531.5,-429 531.5,4 -4,4\"/>\n<!-- 0 -->\n<g id=\"node1\" class=\"node\">\n<title>0</title>\n<polygon fill=\"#f9e1cf\" stroke=\"#000000\" points=\"264,-425 132,-425 132,-342 264,-342 264,-425\"/>\n<text text-anchor=\"middle\" x=\"198\" y=\"-409.8\" font-family=\"Helvetica,sans-Serif\" font-size=\"14.00\" fill=\"#000000\">A9 &lt;= 0.5</text>\n<text text-anchor=\"middle\" x=\"198\" y=\"-394.8\" font-family=\"Helvetica,sans-Serif\" font-size=\"14.00\" fill=\"#000000\">gini = 0.491</text>\n<text text-anchor=\"middle\" x=\"198\" y=\"-379.8\" font-family=\"Helvetica,sans-Serif\" font-size=\"14.00\" fill=\"#000000\">samples = 498</text>\n<text text-anchor=\"middle\" x=\"198\" y=\"-364.8\" font-family=\"Helvetica,sans-Serif\" font-size=\"14.00\" fill=\"#000000\">value = [283, 215]</text>\n<text text-anchor=\"middle\" x=\"198\" y=\"-349.8\" font-family=\"Helvetica,sans-Serif\" font-size=\"14.00\" fill=\"#000000\">class = Approved</text>\n</g>\n<!-- 1 -->\n<g id=\"node2\" class=\"node\">\n<title>1</title>\n<polygon fill=\"#e78b48\" stroke=\"#000000\" points=\"190,-298.5 62,-298.5 62,-230.5 190,-230.5 190,-298.5\"/>\n<text text-anchor=\"middle\" x=\"126\" y=\"-283.3\" font-family=\"Helvetica,sans-Serif\" font-size=\"14.00\" fill=\"#000000\">gini = 0.132</text>\n<text text-anchor=\"middle\" x=\"126\" y=\"-268.3\" font-family=\"Helvetica,sans-Serif\" font-size=\"14.00\" fill=\"#000000\">samples = 240</text>\n<text text-anchor=\"middle\" x=\"126\" y=\"-253.3\" font-family=\"Helvetica,sans-Serif\" font-size=\"14.00\" fill=\"#000000\">value = [223, 17]</text>\n<text text-anchor=\"middle\" x=\"126\" y=\"-238.3\" font-family=\"Helvetica,sans-Serif\" font-size=\"14.00\" fill=\"#000000\">class = Approved</text>\n</g>\n<!-- 0&#45;&gt;1 -->\n<g id=\"edge1\" class=\"edge\">\n<title>0&#45;&gt;1</title>\n<path fill=\"none\" stroke=\"#000000\" d=\"M172.8179,-341.8796C166.0983,-330.7735 158.8243,-318.7513 152.0586,-307.5691\"/>\n<polygon fill=\"#000000\" stroke=\"#000000\" points=\"154.9332,-305.5589 146.762,-298.8149 148.9441,-309.1826 154.9332,-305.5589\"/>\n<text text-anchor=\"middle\" x=\"140.7883\" y=\"-319.3908\" font-family=\"Helvetica,sans-Serif\" font-size=\"14.00\" fill=\"#000000\">True</text>\n</g>\n<!-- 2 -->\n<g id=\"node3\" class=\"node\">\n<title>2</title>\n<polygon fill=\"#75bbed\" stroke=\"#000000\" points=\"332,-306 208,-306 208,-223 332,-223 332,-306\"/>\n<text text-anchor=\"middle\" x=\"270\" y=\"-290.8\" font-family=\"Helvetica,sans-Serif\" font-size=\"14.00\" fill=\"#000000\">A11 &lt;= 0.5</text>\n<text text-anchor=\"middle\" x=\"270\" y=\"-275.8\" font-family=\"Helvetica,sans-Serif\" font-size=\"14.00\" fill=\"#000000\">gini = 0.357</text>\n<text text-anchor=\"middle\" x=\"270\" y=\"-260.8\" font-family=\"Helvetica,sans-Serif\" font-size=\"14.00\" fill=\"#000000\">samples = 258</text>\n<text text-anchor=\"middle\" x=\"270\" y=\"-245.8\" font-family=\"Helvetica,sans-Serif\" font-size=\"14.00\" fill=\"#000000\">value = [60, 198]</text>\n<text text-anchor=\"middle\" x=\"270\" y=\"-230.8\" font-family=\"Helvetica,sans-Serif\" font-size=\"14.00\" fill=\"#000000\">class = Denied</text>\n</g>\n<!-- 0&#45;&gt;2 -->\n<g id=\"edge2\" class=\"edge\">\n<title>0&#45;&gt;2</title>\n<path fill=\"none\" stroke=\"#000000\" d=\"M223.1821,-341.8796C228.4133,-333.2335 233.9805,-324.0322 239.3823,-315.1042\"/>\n<polygon fill=\"#000000\" stroke=\"#000000\" points=\"242.5283,-316.6658 244.7104,-306.2981 236.5392,-313.0421 242.5283,-316.6658\"/>\n<text text-anchor=\"middle\" x=\"250.684\" y=\"-326.8739\" font-family=\"Helvetica,sans-Serif\" font-size=\"14.00\" fill=\"#000000\">False</text>\n</g>\n<!-- 3 -->\n<g id=\"node4\" class=\"node\">\n<title>3</title>\n<polygon fill=\"#ddeefa\" stroke=\"#000000\" points=\"259,-187 143,-187 143,-104 259,-104 259,-187\"/>\n<text text-anchor=\"middle\" x=\"201\" y=\"-171.8\" font-family=\"Helvetica,sans-Serif\" font-size=\"14.00\" fill=\"#000000\">A15 &lt;= 450.0</text>\n<text text-anchor=\"middle\" x=\"201\" y=\"-156.8\" font-family=\"Helvetica,sans-Serif\" font-size=\"14.00\" fill=\"#000000\">gini = 0.496</text>\n<text text-anchor=\"middle\" x=\"201\" y=\"-141.8\" font-family=\"Helvetica,sans-Serif\" font-size=\"14.00\" fill=\"#000000\">samples = 95</text>\n<text text-anchor=\"middle\" x=\"201\" y=\"-126.8\" font-family=\"Helvetica,sans-Serif\" font-size=\"14.00\" fill=\"#000000\">value = [43, 52]</text>\n<text text-anchor=\"middle\" x=\"201\" y=\"-111.8\" font-family=\"Helvetica,sans-Serif\" font-size=\"14.00\" fill=\"#000000\">class = Denied</text>\n</g>\n<!-- 2&#45;&gt;3 -->\n<g id=\"edge3\" class=\"edge\">\n<title>2&#45;&gt;3</title>\n<path fill=\"none\" stroke=\"#000000\" d=\"M245.8671,-222.8796C240.8539,-214.2335 235.5187,-205.0322 230.3419,-196.1042\"/>\n<polygon fill=\"#000000\" stroke=\"#000000\" points=\"233.2798,-194.1934 225.2359,-187.2981 227.2242,-197.7047 233.2798,-194.1934\"/>\n</g>\n<!-- 4 -->\n<g id=\"node7\" class=\"node\">\n<title>4</title>\n<polygon fill=\"#50a8e8\" stroke=\"#000000\" points=\"401,-187 277,-187 277,-104 401,-104 401,-187\"/>\n<text text-anchor=\"middle\" x=\"339\" y=\"-171.8\" font-family=\"Helvetica,sans-Serif\" font-size=\"14.00\" fill=\"#000000\">A15 &lt;= 222.0</text>\n<text text-anchor=\"middle\" x=\"339\" y=\"-156.8\" font-family=\"Helvetica,sans-Serif\" font-size=\"14.00\" fill=\"#000000\">gini = 0.187</text>\n<text text-anchor=\"middle\" x=\"339\" y=\"-141.8\" font-family=\"Helvetica,sans-Serif\" font-size=\"14.00\" fill=\"#000000\">samples = 163</text>\n<text text-anchor=\"middle\" x=\"339\" y=\"-126.8\" font-family=\"Helvetica,sans-Serif\" font-size=\"14.00\" fill=\"#000000\">value = [17, 146]</text>\n<text text-anchor=\"middle\" x=\"339\" y=\"-111.8\" font-family=\"Helvetica,sans-Serif\" font-size=\"14.00\" fill=\"#000000\">class = Denied</text>\n</g>\n<!-- 2&#45;&gt;4 -->\n<g id=\"edge6\" class=\"edge\">\n<title>2&#45;&gt;4</title>\n<path fill=\"none\" stroke=\"#000000\" d=\"M294.1329,-222.8796C299.1461,-214.2335 304.4813,-205.0322 309.6581,-196.1042\"/>\n<polygon fill=\"#000000\" stroke=\"#000000\" points=\"312.7758,-197.7047 314.7641,-187.2981 306.7202,-194.1934 312.7758,-197.7047\"/>\n</g>\n<!-- 5 -->\n<g id=\"node5\" class=\"node\">\n<title>5</title>\n<polygon fill=\"#fef9f6\" stroke=\"#000000\" points=\"128,-68 0,-68 0,0 128,0 128,-68\"/>\n<text text-anchor=\"middle\" x=\"64\" y=\"-52.8\" font-family=\"Helvetica,sans-Serif\" font-size=\"14.00\" fill=\"#000000\">gini = 0.5</text>\n<text text-anchor=\"middle\" x=\"64\" y=\"-37.8\" font-family=\"Helvetica,sans-Serif\" font-size=\"14.00\" fill=\"#000000\">samples = 82</text>\n<text text-anchor=\"middle\" x=\"64\" y=\"-22.8\" font-family=\"Helvetica,sans-Serif\" font-size=\"14.00\" fill=\"#000000\">value = [42, 40]</text>\n<text text-anchor=\"middle\" x=\"64\" y=\"-7.8\" font-family=\"Helvetica,sans-Serif\" font-size=\"14.00\" fill=\"#000000\">class = Approved</text>\n</g>\n<!-- 3&#45;&gt;5 -->\n<g id=\"edge4\" class=\"edge\">\n<title>3&#45;&gt;5</title>\n<path fill=\"none\" stroke=\"#000000\" d=\"M149.9863,-103.9815C138.242,-94.4232 125.7628,-84.2668 114.0595,-74.7419\"/>\n<polygon fill=\"#000000\" stroke=\"#000000\" points=\"116.065,-71.8614 106.0998,-68.2637 111.6464,-77.2906 116.065,-71.8614\"/>\n</g>\n<!-- 6 -->\n<g id=\"node6\" class=\"node\">\n<title>6</title>\n<polygon fill=\"#49a5e7\" stroke=\"#000000\" points=\"259.5,-68 146.5,-68 146.5,0 259.5,0 259.5,-68\"/>\n<text text-anchor=\"middle\" x=\"203\" y=\"-52.8\" font-family=\"Helvetica,sans-Serif\" font-size=\"14.00\" fill=\"#000000\">gini = 0.142</text>\n<text text-anchor=\"middle\" x=\"203\" y=\"-37.8\" font-family=\"Helvetica,sans-Serif\" font-size=\"14.00\" fill=\"#000000\">samples = 13</text>\n<text text-anchor=\"middle\" x=\"203\" y=\"-22.8\" font-family=\"Helvetica,sans-Serif\" font-size=\"14.00\" fill=\"#000000\">value = [1, 12]</text>\n<text text-anchor=\"middle\" x=\"203\" y=\"-7.8\" font-family=\"Helvetica,sans-Serif\" font-size=\"14.00\" fill=\"#000000\">class = Denied</text>\n</g>\n<!-- 3&#45;&gt;6 -->\n<g id=\"edge5\" class=\"edge\">\n<title>3&#45;&gt;6</title>\n<path fill=\"none\" stroke=\"#000000\" d=\"M201.7447,-103.9815C201.8947,-95.618 202.053,-86.7965 202.2046,-78.3409\"/>\n<polygon fill=\"#000000\" stroke=\"#000000\" points=\"205.7054,-78.3249 202.3854,-68.2637 198.7065,-78.1993 205.7054,-78.3249\"/>\n</g>\n<!-- 7 -->\n<g id=\"node8\" class=\"node\">\n<title>7</title>\n<polygon fill=\"#6db7ec\" stroke=\"#000000\" points=\"396,-68 280,-68 280,0 396,0 396,-68\"/>\n<text text-anchor=\"middle\" x=\"338\" y=\"-52.8\" font-family=\"Helvetica,sans-Serif\" font-size=\"14.00\" fill=\"#000000\">gini = 0.331</text>\n<text text-anchor=\"middle\" x=\"338\" y=\"-37.8\" font-family=\"Helvetica,sans-Serif\" font-size=\"14.00\" fill=\"#000000\">samples = 67</text>\n<text text-anchor=\"middle\" x=\"338\" y=\"-22.8\" font-family=\"Helvetica,sans-Serif\" font-size=\"14.00\" fill=\"#000000\">value = [14, 53]</text>\n<text text-anchor=\"middle\" x=\"338\" y=\"-7.8\" font-family=\"Helvetica,sans-Serif\" font-size=\"14.00\" fill=\"#000000\">class = Denied</text>\n</g>\n<!-- 4&#45;&gt;7 -->\n<g id=\"edge7\" class=\"edge\">\n<title>4&#45;&gt;7</title>\n<path fill=\"none\" stroke=\"#000000\" d=\"M338.6276,-103.9815C338.5526,-95.618 338.4735,-86.7965 338.3977,-78.3409\"/>\n<polygon fill=\"#000000\" stroke=\"#000000\" points=\"341.8969,-78.2318 338.3073,-68.2637 334.8972,-78.2947 341.8969,-78.2318\"/>\n</g>\n<!-- 8 -->\n<g id=\"node9\" class=\"node\">\n<title>8</title>\n<polygon fill=\"#3fa0e6\" stroke=\"#000000\" points=\"527.5,-68 414.5,-68 414.5,0 527.5,0 527.5,-68\"/>\n<text text-anchor=\"middle\" x=\"471\" y=\"-52.8\" font-family=\"Helvetica,sans-Serif\" font-size=\"14.00\" fill=\"#000000\">gini = 0.061</text>\n<text text-anchor=\"middle\" x=\"471\" y=\"-37.8\" font-family=\"Helvetica,sans-Serif\" font-size=\"14.00\" fill=\"#000000\">samples = 96</text>\n<text text-anchor=\"middle\" x=\"471\" y=\"-22.8\" font-family=\"Helvetica,sans-Serif\" font-size=\"14.00\" fill=\"#000000\">value = [3, 93]</text>\n<text text-anchor=\"middle\" x=\"471\" y=\"-7.8\" font-family=\"Helvetica,sans-Serif\" font-size=\"14.00\" fill=\"#000000\">class = Denied</text>\n</g>\n<!-- 4&#45;&gt;8 -->\n<g id=\"edge8\" class=\"edge\">\n<title>4&#45;&gt;8</title>\n<path fill=\"none\" stroke=\"#000000\" d=\"M388.1519,-103.9815C399.4676,-94.4232 411.4913,-84.2668 422.7675,-74.7419\"/>\n<polygon fill=\"#000000\" stroke=\"#000000\" points=\"425.0559,-77.3904 430.4367,-68.2637 420.5388,-72.0429 425.0559,-77.3904\"/>\n</g>\n</g>\n</svg>\n"
          },
          "metadata": {},
          "execution_count": 28
        }
      ]
    },
    {
      "cell_type": "markdown",
      "metadata": {
        "id": "9V-uuagsgXF4"
      },
      "source": [
        "Decision Tree Model Description\n",
        "\n",
        "*  The model here is a basic decision tree that is created by using all of the columns with correlation to A16 around 0.3 and above.\n",
        "*  The max number of leaf nodes is 5 so there seems to be 4 main splits/decisions that groups the class into approved or denied in terms of credit approval\n"
      ]
    },
    {
      "cell_type": "markdown",
      "metadata": {
        "id": "qKwneWJzgXF6"
      },
      "source": [
        "How we picked the initial parameters\n",
        "*   Again, as stated above the parameters we used were based on the correlation matrix and we ended up chosing features that were around 0.3 and above to try and get the most out of them\n",
        "\n",
        "\n"
      ]
    },
    {
      "cell_type": "markdown",
      "metadata": {
        "id": "140YloNdgXF6"
      },
      "source": [
        "### Problem 2 - K-means (10 points)\n",
        "* Use the Ecoli dataset at https://archive.ics.uci.edu/ml/datasets/Ecoli\n",
        "* Ignore the label and create clusters using k values between 4 and 6.\n",
        "* Pick the best k value and explain why you picked it\n",
        "* Show any calculations you used to pick the best cluster\n",
        "* Create two visualization\n",
        "    * One colors the nodes with the cluster membership\n",
        "    * The other colors the nodes based on the actual label\n",
        "* Grading criteria: Adequately describe how to pick the best cluster and successful create the required visualizations"
      ]
    },
    {
      "cell_type": "markdown",
      "source": [
        "## Reading in Data"
      ],
      "metadata": {
        "id": "Yf-g9GlDA0Nc"
      }
    },
    {
      "cell_type": "code",
      "execution_count": 29,
      "metadata": {
        "id": "jcojvi4qgXF7",
        "colab": {
          "base_uri": "https://localhost:8080/",
          "height": 206
        },
        "outputId": "b9e5ccfe-8ffb-4882-fb4e-ae8a4f4b20d1"
      },
      "outputs": [
        {
          "output_type": "execute_result",
          "data": {
            "text/plain": [
              "     sequence   mcg   gvh   lip  chg   aac  alm1  alm2  class\n",
              "0   AAT_ECOLI  0.49  0.29  0.48  0.5  0.56  0.24  0.35      0\n",
              "1  ACEA_ECOLI  0.07  0.40  0.48  0.5  0.54  0.35  0.44      0\n",
              "2  ACEK_ECOLI  0.56  0.40  0.48  0.5  0.49  0.37  0.46      0\n",
              "3  ACKA_ECOLI  0.59  0.49  0.48  0.5  0.52  0.45  0.36      0\n",
              "4   ADI_ECOLI  0.23  0.32  0.48  0.5  0.55  0.25  0.35      0"
            ],
            "text/html": [
              "\n",
              "  <div id=\"df-8c94d29a-7182-4160-b0b5-9df6962304ca\">\n",
              "    <div class=\"colab-df-container\">\n",
              "      <div>\n",
              "<style scoped>\n",
              "    .dataframe tbody tr th:only-of-type {\n",
              "        vertical-align: middle;\n",
              "    }\n",
              "\n",
              "    .dataframe tbody tr th {\n",
              "        vertical-align: top;\n",
              "    }\n",
              "\n",
              "    .dataframe thead th {\n",
              "        text-align: right;\n",
              "    }\n",
              "</style>\n",
              "<table border=\"1\" class=\"dataframe\">\n",
              "  <thead>\n",
              "    <tr style=\"text-align: right;\">\n",
              "      <th></th>\n",
              "      <th>sequence</th>\n",
              "      <th>mcg</th>\n",
              "      <th>gvh</th>\n",
              "      <th>lip</th>\n",
              "      <th>chg</th>\n",
              "      <th>aac</th>\n",
              "      <th>alm1</th>\n",
              "      <th>alm2</th>\n",
              "      <th>class</th>\n",
              "    </tr>\n",
              "  </thead>\n",
              "  <tbody>\n",
              "    <tr>\n",
              "      <th>0</th>\n",
              "      <td>AAT_ECOLI</td>\n",
              "      <td>0.49</td>\n",
              "      <td>0.29</td>\n",
              "      <td>0.48</td>\n",
              "      <td>0.5</td>\n",
              "      <td>0.56</td>\n",
              "      <td>0.24</td>\n",
              "      <td>0.35</td>\n",
              "      <td>0</td>\n",
              "    </tr>\n",
              "    <tr>\n",
              "      <th>1</th>\n",
              "      <td>ACEA_ECOLI</td>\n",
              "      <td>0.07</td>\n",
              "      <td>0.40</td>\n",
              "      <td>0.48</td>\n",
              "      <td>0.5</td>\n",
              "      <td>0.54</td>\n",
              "      <td>0.35</td>\n",
              "      <td>0.44</td>\n",
              "      <td>0</td>\n",
              "    </tr>\n",
              "    <tr>\n",
              "      <th>2</th>\n",
              "      <td>ACEK_ECOLI</td>\n",
              "      <td>0.56</td>\n",
              "      <td>0.40</td>\n",
              "      <td>0.48</td>\n",
              "      <td>0.5</td>\n",
              "      <td>0.49</td>\n",
              "      <td>0.37</td>\n",
              "      <td>0.46</td>\n",
              "      <td>0</td>\n",
              "    </tr>\n",
              "    <tr>\n",
              "      <th>3</th>\n",
              "      <td>ACKA_ECOLI</td>\n",
              "      <td>0.59</td>\n",
              "      <td>0.49</td>\n",
              "      <td>0.48</td>\n",
              "      <td>0.5</td>\n",
              "      <td>0.52</td>\n",
              "      <td>0.45</td>\n",
              "      <td>0.36</td>\n",
              "      <td>0</td>\n",
              "    </tr>\n",
              "    <tr>\n",
              "      <th>4</th>\n",
              "      <td>ADI_ECOLI</td>\n",
              "      <td>0.23</td>\n",
              "      <td>0.32</td>\n",
              "      <td>0.48</td>\n",
              "      <td>0.5</td>\n",
              "      <td>0.55</td>\n",
              "      <td>0.25</td>\n",
              "      <td>0.35</td>\n",
              "      <td>0</td>\n",
              "    </tr>\n",
              "  </tbody>\n",
              "</table>\n",
              "</div>\n",
              "      <button class=\"colab-df-convert\" onclick=\"convertToInteractive('df-8c94d29a-7182-4160-b0b5-9df6962304ca')\"\n",
              "              title=\"Convert this dataframe to an interactive table.\"\n",
              "              style=\"display:none;\">\n",
              "        \n",
              "  <svg xmlns=\"http://www.w3.org/2000/svg\" height=\"24px\"viewBox=\"0 0 24 24\"\n",
              "       width=\"24px\">\n",
              "    <path d=\"M0 0h24v24H0V0z\" fill=\"none\"/>\n",
              "    <path d=\"M18.56 5.44l.94 2.06.94-2.06 2.06-.94-2.06-.94-.94-2.06-.94 2.06-2.06.94zm-11 1L8.5 8.5l.94-2.06 2.06-.94-2.06-.94L8.5 2.5l-.94 2.06-2.06.94zm10 10l.94 2.06.94-2.06 2.06-.94-2.06-.94-.94-2.06-.94 2.06-2.06.94z\"/><path d=\"M17.41 7.96l-1.37-1.37c-.4-.4-.92-.59-1.43-.59-.52 0-1.04.2-1.43.59L10.3 9.45l-7.72 7.72c-.78.78-.78 2.05 0 2.83L4 21.41c.39.39.9.59 1.41.59.51 0 1.02-.2 1.41-.59l7.78-7.78 2.81-2.81c.8-.78.8-2.07 0-2.86zM5.41 20L4 18.59l7.72-7.72 1.47 1.35L5.41 20z\"/>\n",
              "  </svg>\n",
              "      </button>\n",
              "      \n",
              "  <style>\n",
              "    .colab-df-container {\n",
              "      display:flex;\n",
              "      flex-wrap:wrap;\n",
              "      gap: 12px;\n",
              "    }\n",
              "\n",
              "    .colab-df-convert {\n",
              "      background-color: #E8F0FE;\n",
              "      border: none;\n",
              "      border-radius: 50%;\n",
              "      cursor: pointer;\n",
              "      display: none;\n",
              "      fill: #1967D2;\n",
              "      height: 32px;\n",
              "      padding: 0 0 0 0;\n",
              "      width: 32px;\n",
              "    }\n",
              "\n",
              "    .colab-df-convert:hover {\n",
              "      background-color: #E2EBFA;\n",
              "      box-shadow: 0px 1px 2px rgba(60, 64, 67, 0.3), 0px 1px 3px 1px rgba(60, 64, 67, 0.15);\n",
              "      fill: #174EA6;\n",
              "    }\n",
              "\n",
              "    [theme=dark] .colab-df-convert {\n",
              "      background-color: #3B4455;\n",
              "      fill: #D2E3FC;\n",
              "    }\n",
              "\n",
              "    [theme=dark] .colab-df-convert:hover {\n",
              "      background-color: #434B5C;\n",
              "      box-shadow: 0px 1px 3px 1px rgba(0, 0, 0, 0.15);\n",
              "      filter: drop-shadow(0px 1px 2px rgba(0, 0, 0, 0.3));\n",
              "      fill: #FFFFFF;\n",
              "    }\n",
              "  </style>\n",
              "\n",
              "      <script>\n",
              "        const buttonEl =\n",
              "          document.querySelector('#df-8c94d29a-7182-4160-b0b5-9df6962304ca button.colab-df-convert');\n",
              "        buttonEl.style.display =\n",
              "          google.colab.kernel.accessAllowed ? 'block' : 'none';\n",
              "\n",
              "        async function convertToInteractive(key) {\n",
              "          const element = document.querySelector('#df-8c94d29a-7182-4160-b0b5-9df6962304ca');\n",
              "          const dataTable =\n",
              "            await google.colab.kernel.invokeFunction('convertToInteractive',\n",
              "                                                     [key], {});\n",
              "          if (!dataTable) return;\n",
              "\n",
              "          const docLinkHtml = 'Like what you see? Visit the ' +\n",
              "            '<a target=\"_blank\" href=https://colab.research.google.com/notebooks/data_table.ipynb>data table notebook</a>'\n",
              "            + ' to learn more about interactive tables.';\n",
              "          element.innerHTML = '';\n",
              "          dataTable['output_type'] = 'display_data';\n",
              "          await google.colab.output.renderOutput(dataTable, element);\n",
              "          const docLink = document.createElement('div');\n",
              "          docLink.innerHTML = docLinkHtml;\n",
              "          element.appendChild(docLink);\n",
              "        }\n",
              "      </script>\n",
              "    </div>\n",
              "  </div>\n",
              "  "
            ]
          },
          "metadata": {},
          "execution_count": 29
        }
      ],
      "source": [
        "ecoli = pd.read_csv(filepath_or_buffer = \"https://archive.ics.uci.edu/ml/machine-learning-databases/ecoli/ecoli.data\", delim_whitespace=True, header= None)\n",
        "ecoli_labels = ['sequence', 'mcg', 'gvh', 'lip', 'chg', 'aac', 'alm1', 'alm2', 'class']\n",
        "ecoli.columns = ecoli_labels\n",
        "ecoli['class'].replace(ecoli['class'].unique(), [0,1,2,3,4,5,6,7], inplace = True)\n",
        "ecoli.head()"
      ]
    },
    {
      "cell_type": "markdown",
      "source": [
        "## Exploring Correlations"
      ],
      "metadata": {
        "id": "W9hFWGvEA173"
      }
    },
    {
      "cell_type": "code",
      "source": [
        "ecoli.corr()"
      ],
      "metadata": {
        "colab": {
          "base_uri": "https://localhost:8080/",
          "height": 300
        },
        "id": "gdTga0Z32b9b",
        "outputId": "12c2842d-da3f-4fa0-cd67-3325bdabdc96"
      },
      "execution_count": 31,
      "outputs": [
        {
          "output_type": "execute_result",
          "data": {
            "text/plain": [
              "            mcg       gvh       lip       chg       aac      alm1      alm2  \\\n",
              "mcg    1.000000  0.454805  0.146841  0.070266  0.220699  0.396979  0.167086   \n",
              "gvh    0.454805  1.000000  0.043804  0.018466  0.069824  0.173492 -0.120199   \n",
              "lip    0.146841  0.043804  1.000000  0.311951  0.070190  0.095788 -0.057570   \n",
              "chg    0.070266  0.018466  0.311951  1.000000 -0.044726 -0.007654 -0.052188   \n",
              "aac    0.220699  0.069824  0.070190 -0.044726  1.000000  0.279482  0.252675   \n",
              "alm1   0.396979  0.173492  0.095788 -0.007654  0.279482  1.000000  0.809324   \n",
              "alm2   0.167086 -0.120199 -0.057570 -0.052188  0.252675  0.809324  1.000000   \n",
              "class  0.642482  0.669773  0.162742  0.017670  0.119870  0.218859 -0.108573   \n",
              "\n",
              "          class  \n",
              "mcg    0.642482  \n",
              "gvh    0.669773  \n",
              "lip    0.162742  \n",
              "chg    0.017670  \n",
              "aac    0.119870  \n",
              "alm1   0.218859  \n",
              "alm2  -0.108573  \n",
              "class  1.000000  "
            ],
            "text/html": [
              "\n",
              "  <div id=\"df-f52b321e-e6e8-4e12-a2e9-790da2ee45ab\">\n",
              "    <div class=\"colab-df-container\">\n",
              "      <div>\n",
              "<style scoped>\n",
              "    .dataframe tbody tr th:only-of-type {\n",
              "        vertical-align: middle;\n",
              "    }\n",
              "\n",
              "    .dataframe tbody tr th {\n",
              "        vertical-align: top;\n",
              "    }\n",
              "\n",
              "    .dataframe thead th {\n",
              "        text-align: right;\n",
              "    }\n",
              "</style>\n",
              "<table border=\"1\" class=\"dataframe\">\n",
              "  <thead>\n",
              "    <tr style=\"text-align: right;\">\n",
              "      <th></th>\n",
              "      <th>mcg</th>\n",
              "      <th>gvh</th>\n",
              "      <th>lip</th>\n",
              "      <th>chg</th>\n",
              "      <th>aac</th>\n",
              "      <th>alm1</th>\n",
              "      <th>alm2</th>\n",
              "      <th>class</th>\n",
              "    </tr>\n",
              "  </thead>\n",
              "  <tbody>\n",
              "    <tr>\n",
              "      <th>mcg</th>\n",
              "      <td>1.000000</td>\n",
              "      <td>0.454805</td>\n",
              "      <td>0.146841</td>\n",
              "      <td>0.070266</td>\n",
              "      <td>0.220699</td>\n",
              "      <td>0.396979</td>\n",
              "      <td>0.167086</td>\n",
              "      <td>0.642482</td>\n",
              "    </tr>\n",
              "    <tr>\n",
              "      <th>gvh</th>\n",
              "      <td>0.454805</td>\n",
              "      <td>1.000000</td>\n",
              "      <td>0.043804</td>\n",
              "      <td>0.018466</td>\n",
              "      <td>0.069824</td>\n",
              "      <td>0.173492</td>\n",
              "      <td>-0.120199</td>\n",
              "      <td>0.669773</td>\n",
              "    </tr>\n",
              "    <tr>\n",
              "      <th>lip</th>\n",
              "      <td>0.146841</td>\n",
              "      <td>0.043804</td>\n",
              "      <td>1.000000</td>\n",
              "      <td>0.311951</td>\n",
              "      <td>0.070190</td>\n",
              "      <td>0.095788</td>\n",
              "      <td>-0.057570</td>\n",
              "      <td>0.162742</td>\n",
              "    </tr>\n",
              "    <tr>\n",
              "      <th>chg</th>\n",
              "      <td>0.070266</td>\n",
              "      <td>0.018466</td>\n",
              "      <td>0.311951</td>\n",
              "      <td>1.000000</td>\n",
              "      <td>-0.044726</td>\n",
              "      <td>-0.007654</td>\n",
              "      <td>-0.052188</td>\n",
              "      <td>0.017670</td>\n",
              "    </tr>\n",
              "    <tr>\n",
              "      <th>aac</th>\n",
              "      <td>0.220699</td>\n",
              "      <td>0.069824</td>\n",
              "      <td>0.070190</td>\n",
              "      <td>-0.044726</td>\n",
              "      <td>1.000000</td>\n",
              "      <td>0.279482</td>\n",
              "      <td>0.252675</td>\n",
              "      <td>0.119870</td>\n",
              "    </tr>\n",
              "    <tr>\n",
              "      <th>alm1</th>\n",
              "      <td>0.396979</td>\n",
              "      <td>0.173492</td>\n",
              "      <td>0.095788</td>\n",
              "      <td>-0.007654</td>\n",
              "      <td>0.279482</td>\n",
              "      <td>1.000000</td>\n",
              "      <td>0.809324</td>\n",
              "      <td>0.218859</td>\n",
              "    </tr>\n",
              "    <tr>\n",
              "      <th>alm2</th>\n",
              "      <td>0.167086</td>\n",
              "      <td>-0.120199</td>\n",
              "      <td>-0.057570</td>\n",
              "      <td>-0.052188</td>\n",
              "      <td>0.252675</td>\n",
              "      <td>0.809324</td>\n",
              "      <td>1.000000</td>\n",
              "      <td>-0.108573</td>\n",
              "    </tr>\n",
              "    <tr>\n",
              "      <th>class</th>\n",
              "      <td>0.642482</td>\n",
              "      <td>0.669773</td>\n",
              "      <td>0.162742</td>\n",
              "      <td>0.017670</td>\n",
              "      <td>0.119870</td>\n",
              "      <td>0.218859</td>\n",
              "      <td>-0.108573</td>\n",
              "      <td>1.000000</td>\n",
              "    </tr>\n",
              "  </tbody>\n",
              "</table>\n",
              "</div>\n",
              "      <button class=\"colab-df-convert\" onclick=\"convertToInteractive('df-f52b321e-e6e8-4e12-a2e9-790da2ee45ab')\"\n",
              "              title=\"Convert this dataframe to an interactive table.\"\n",
              "              style=\"display:none;\">\n",
              "        \n",
              "  <svg xmlns=\"http://www.w3.org/2000/svg\" height=\"24px\"viewBox=\"0 0 24 24\"\n",
              "       width=\"24px\">\n",
              "    <path d=\"M0 0h24v24H0V0z\" fill=\"none\"/>\n",
              "    <path d=\"M18.56 5.44l.94 2.06.94-2.06 2.06-.94-2.06-.94-.94-2.06-.94 2.06-2.06.94zm-11 1L8.5 8.5l.94-2.06 2.06-.94-2.06-.94L8.5 2.5l-.94 2.06-2.06.94zm10 10l.94 2.06.94-2.06 2.06-.94-2.06-.94-.94-2.06-.94 2.06-2.06.94z\"/><path d=\"M17.41 7.96l-1.37-1.37c-.4-.4-.92-.59-1.43-.59-.52 0-1.04.2-1.43.59L10.3 9.45l-7.72 7.72c-.78.78-.78 2.05 0 2.83L4 21.41c.39.39.9.59 1.41.59.51 0 1.02-.2 1.41-.59l7.78-7.78 2.81-2.81c.8-.78.8-2.07 0-2.86zM5.41 20L4 18.59l7.72-7.72 1.47 1.35L5.41 20z\"/>\n",
              "  </svg>\n",
              "      </button>\n",
              "      \n",
              "  <style>\n",
              "    .colab-df-container {\n",
              "      display:flex;\n",
              "      flex-wrap:wrap;\n",
              "      gap: 12px;\n",
              "    }\n",
              "\n",
              "    .colab-df-convert {\n",
              "      background-color: #E8F0FE;\n",
              "      border: none;\n",
              "      border-radius: 50%;\n",
              "      cursor: pointer;\n",
              "      display: none;\n",
              "      fill: #1967D2;\n",
              "      height: 32px;\n",
              "      padding: 0 0 0 0;\n",
              "      width: 32px;\n",
              "    }\n",
              "\n",
              "    .colab-df-convert:hover {\n",
              "      background-color: #E2EBFA;\n",
              "      box-shadow: 0px 1px 2px rgba(60, 64, 67, 0.3), 0px 1px 3px 1px rgba(60, 64, 67, 0.15);\n",
              "      fill: #174EA6;\n",
              "    }\n",
              "\n",
              "    [theme=dark] .colab-df-convert {\n",
              "      background-color: #3B4455;\n",
              "      fill: #D2E3FC;\n",
              "    }\n",
              "\n",
              "    [theme=dark] .colab-df-convert:hover {\n",
              "      background-color: #434B5C;\n",
              "      box-shadow: 0px 1px 3px 1px rgba(0, 0, 0, 0.15);\n",
              "      filter: drop-shadow(0px 1px 2px rgba(0, 0, 0, 0.3));\n",
              "      fill: #FFFFFF;\n",
              "    }\n",
              "  </style>\n",
              "\n",
              "      <script>\n",
              "        const buttonEl =\n",
              "          document.querySelector('#df-f52b321e-e6e8-4e12-a2e9-790da2ee45ab button.colab-df-convert');\n",
              "        buttonEl.style.display =\n",
              "          google.colab.kernel.accessAllowed ? 'block' : 'none';\n",
              "\n",
              "        async function convertToInteractive(key) {\n",
              "          const element = document.querySelector('#df-f52b321e-e6e8-4e12-a2e9-790da2ee45ab');\n",
              "          const dataTable =\n",
              "            await google.colab.kernel.invokeFunction('convertToInteractive',\n",
              "                                                     [key], {});\n",
              "          if (!dataTable) return;\n",
              "\n",
              "          const docLinkHtml = 'Like what you see? Visit the ' +\n",
              "            '<a target=\"_blank\" href=https://colab.research.google.com/notebooks/data_table.ipynb>data table notebook</a>'\n",
              "            + ' to learn more about interactive tables.';\n",
              "          element.innerHTML = '';\n",
              "          dataTable['output_type'] = 'display_data';\n",
              "          await google.colab.output.renderOutput(dataTable, element);\n",
              "          const docLink = document.createElement('div');\n",
              "          docLink.innerHTML = docLinkHtml;\n",
              "          element.appendChild(docLink);\n",
              "        }\n",
              "      </script>\n",
              "    </div>\n",
              "  </div>\n",
              "  "
            ]
          },
          "metadata": {},
          "execution_count": 31
        }
      ]
    },
    {
      "cell_type": "code",
      "source": [
        "# Drop columns that didnt provide much info\n",
        "y = ecoli['class']\n",
        "X = ecoli.drop(['lip','chg', 'aac', 'alm1', 'alm2', 'sequence', 'class'], axis = 1)"
      ],
      "metadata": {
        "id": "xnTmy__c5mP_"
      },
      "execution_count": 32,
      "outputs": []
    },
    {
      "cell_type": "markdown",
      "source": [
        "## Create the model with 4 clusters"
      ],
      "metadata": {
        "id": "CHA7Zpgy8O1V"
      }
    },
    {
      "cell_type": "code",
      "source": [
        "from sklearn.cluster import KMeans\n",
        "\n",
        "# Drop columns that didnt provide much info\n",
        "y = ecoli['class']\n",
        "X = ecoli.drop(['lip','chg', 'aac', 'alm1', 'alm2', 'sequence', 'class'], axis = 1)\n",
        "\n",
        "# Choose number of K\n",
        "num_clusters = 4\n",
        "kmeans = KMeans(n_clusters=num_clusters, random_state = 0) \n",
        "\n",
        "# Fit and predict\n",
        "labels = kmeans.fit_predict(X)\n",
        "correct_labels = sum(y == labels)"
      ],
      "metadata": {
        "id": "8s_tHR8755U8"
      },
      "execution_count": 33,
      "outputs": []
    },
    {
      "cell_type": "markdown",
      "source": [
        "## Evaluation"
      ],
      "metadata": {
        "id": "3NZDK82TA_ic"
      }
    },
    {
      "cell_type": "code",
      "source": [
        "print(\"%d out of %d samples correctly labeled.\" % (correct_labels, y.size))\n",
        "print('Accuracy: {0:0.2f}'. format(correct_labels/float(y.size)))"
      ],
      "metadata": {
        "colab": {
          "base_uri": "https://localhost:8080/"
        },
        "id": "MgWFJGjqBBDz",
        "outputId": "dd55edb1-5987-416f-d3a8-1546ba61c30c"
      },
      "execution_count": 34,
      "outputs": [
        {
          "output_type": "stream",
          "name": "stdout",
          "text": [
            "96 out of 336 samples correctly labeled.\n",
            "Accuracy: 0.29\n"
          ]
        }
      ]
    },
    {
      "cell_type": "markdown",
      "source": [
        "## Visualizations"
      ],
      "metadata": {
        "id": "NfVuoq6CBDCC"
      }
    },
    {
      "cell_type": "code",
      "source": [
        "# Plot the data points based on the cluster membership\n",
        "u_labels = np.unique(labels)\n",
        "plt.figure(figsize = (10,8))\n",
        "for i in u_labels:\n",
        "    filter = X[labels == i]\n",
        "    plt.scatter(filter.iloc[:, 0] ,filter.iloc[:, 1])\n",
        "plt.legend(np.arange(0,num_clusters,1))\n",
        "plt.title(\"Cluster Membership\")\n",
        "plt.xlabel(\"gvh\")\n",
        "plt.ylabel(\"mcg\")\n",
        "plt.show();"
      ],
      "metadata": {
        "colab": {
          "base_uri": "https://localhost:8080/",
          "height": 513
        },
        "id": "bY_1Kh8oCBUn",
        "outputId": "26ee6472-d832-41f1-8d21-fcfb08f62831"
      },
      "execution_count": 35,
      "outputs": [
        {
          "output_type": "display_data",
          "data": {
            "text/plain": [
              "<Figure size 720x576 with 1 Axes>"
            ],
            "image/png": "[encoded data removed]"
          },
          "metadata": {
            "needs_background": "light"
          }
        }
      ]
    },
    {
      "cell_type": "code",
      "source": [
        "# Plot the data based on the actual labels\n",
        "actual = np.unique(ecoli['class'])\n",
        "plt.figure(figsize = (10,8))\n",
        "for i in actual:\n",
        "  plt.scatter(X[ecoli[\"class\"] == i].iloc[:,0], X[ecoli['class'] ==i].iloc[:,1])\n",
        "plt.legend(np.arange(0,8,1))\n",
        "plt.title(\"Actual Labels\")\n",
        "plt.xlabel(\"gvh\")\n",
        "plt.ylabel(\"mcg\")\n",
        "plt.show();"
      ],
      "metadata": {
        "colab": {
          "base_uri": "https://localhost:8080/",
          "height": 513
        },
        "id": "vNj8JPGD9opc",
        "outputId": "f68b341c-7507-4964-a310-e3e4a895045a"
      },
      "execution_count": 36,
      "outputs": [
        {
          "output_type": "display_data",
          "data": {
            "text/plain": [
              "<Figure size 720x576 with 1 Axes>"
            ],
            "image/png": "[encoded data removed]"
          },
          "metadata": {
            "needs_background": "light"
          }
        }
      ]
    },
    {
      "cell_type": "markdown",
      "metadata": {
        "id": "SswUJzS2gXF7"
      },
      "source": [
        "Provide an explanation of your model:\n",
        "\n",
        "\n",
        "*   The model we created was a K-means clustering with 4 clusters as asked to do in the instructions.\n",
        "*   We did some base level exploration of the correlation matrix to quickly figure some features to use within the model\n",
        "* It only managed to predict around 1/4 of the time with the k = 4\n",
        "* The visualizations did provided some intersting info about how overlapped the actual labels are so maybe this isnt the best method to classify them\n",
        "* Lastly if we had to pick an optimal K we'd would think that it should be 8 as there are 8 classes of ecoli we want to identify, no calucations simply domain knowledge. However, having 8 clusters significaly rudece the correctly predicted %\n",
        "\n"
      ]
    },
    {
      "cell_type": "markdown",
      "metadata": {
        "id": "3zanclk-gXF8"
      },
      "source": [
        "### Problem 3 - Support Vector Machines (10 points)\n",
        "* Use the Iris trainging set\n",
        "* Explore the data to find the best two features to use\n",
        "    * We are mostly doing this so we can visualize the results\n",
        "* Split the data set into 80% training and 20% testing\n",
        "* Create a SVM to model the data\n",
        "* Create a visualization that shows the line and the margins\n",
        "* Creat anonther visualization that shows the decision surface\n",
        "    * Do not include the test data points\n",
        "    * Randomly select 10 test points and add them to the visualization. Color them based on their label\n",
        "    * Are the random test points consistently on the correct side of the line?\n",
        "* Predict the label for ALL of the test data \n",
        "    * Show a confusion matrix\n",
        "    * Calculate the F1 measure\n",
        "* Grading criteria: \n",
        "    * SVM graphically appears to correctly to use a reasonable line\n",
        "    * F1 measure is consistent with what we showed in class"
      ]
    },
    {
      "cell_type": "markdown",
      "source": [
        "## Reading in Data"
      ],
      "metadata": {
        "id": "wy27OccgMwV3"
      }
    },
    {
      "cell_type": "code",
      "execution_count": 37,
      "metadata": {
        "id": "YkLUsDpugXF8",
        "colab": {
          "base_uri": "https://localhost:8080/",
          "height": 206
        },
        "outputId": "e1291b3e-dd94-4f67-8a6a-6e738fb8379d"
      },
      "outputs": [
        {
          "output_type": "execute_result",
          "data": {
            "text/plain": [
              "   sepal length (cm)  sepal width (cm)  petal length (cm)  petal width (cm)  \\\n",
              "0                5.1               3.5                1.4               0.2   \n",
              "1                4.9               3.0                1.4               0.2   \n",
              "2                4.7               3.2                1.3               0.2   \n",
              "3                4.6               3.1                1.5               0.2   \n",
              "4                5.0               3.6                1.4               0.2   \n",
              "\n",
              "   Label Species  \n",
              "0      0  Setosa  \n",
              "1      0  Setosa  \n",
              "2      0  Setosa  \n",
              "3      0  Setosa  \n",
              "4      0  Setosa  "
            ],
            "text/html": [
              "\n",
              "  <div id=\"df-cf3dff38-7ba8-414d-a5d5-c64742386d17\">\n",
              "    <div class=\"colab-df-container\">\n",
              "      <div>\n",
              "<style scoped>\n",
              "    .dataframe tbody tr th:only-of-type {\n",
              "        vertical-align: middle;\n",
              "    }\n",
              "\n",
              "    .dataframe tbody tr th {\n",
              "        vertical-align: top;\n",
              "    }\n",
              "\n",
              "    .dataframe thead th {\n",
              "        text-align: right;\n",
              "    }\n",
              "</style>\n",
              "<table border=\"1\" class=\"dataframe\">\n",
              "  <thead>\n",
              "    <tr style=\"text-align: right;\">\n",
              "      <th></th>\n",
              "      <th>sepal length (cm)</th>\n",
              "      <th>sepal width (cm)</th>\n",
              "      <th>petal length (cm)</th>\n",
              "      <th>petal width (cm)</th>\n",
              "      <th>Label</th>\n",
              "      <th>Species</th>\n",
              "    </tr>\n",
              "  </thead>\n",
              "  <tbody>\n",
              "    <tr>\n",
              "      <th>0</th>\n",
              "      <td>5.1</td>\n",
              "      <td>3.5</td>\n",
              "      <td>1.4</td>\n",
              "      <td>0.2</td>\n",
              "      <td>0</td>\n",
              "      <td>Setosa</td>\n",
              "    </tr>\n",
              "    <tr>\n",
              "      <th>1</th>\n",
              "      <td>4.9</td>\n",
              "      <td>3.0</td>\n",
              "      <td>1.4</td>\n",
              "      <td>0.2</td>\n",
              "      <td>0</td>\n",
              "      <td>Setosa</td>\n",
              "    </tr>\n",
              "    <tr>\n",
              "      <th>2</th>\n",
              "      <td>4.7</td>\n",
              "      <td>3.2</td>\n",
              "      <td>1.3</td>\n",
              "      <td>0.2</td>\n",
              "      <td>0</td>\n",
              "      <td>Setosa</td>\n",
              "    </tr>\n",
              "    <tr>\n",
              "      <th>3</th>\n",
              "      <td>4.6</td>\n",
              "      <td>3.1</td>\n",
              "      <td>1.5</td>\n",
              "      <td>0.2</td>\n",
              "      <td>0</td>\n",
              "      <td>Setosa</td>\n",
              "    </tr>\n",
              "    <tr>\n",
              "      <th>4</th>\n",
              "      <td>5.0</td>\n",
              "      <td>3.6</td>\n",
              "      <td>1.4</td>\n",
              "      <td>0.2</td>\n",
              "      <td>0</td>\n",
              "      <td>Setosa</td>\n",
              "    </tr>\n",
              "  </tbody>\n",
              "</table>\n",
              "</div>\n",
              "      <button class=\"colab-df-convert\" onclick=\"convertToInteractive('df-cf3dff38-7ba8-414d-a5d5-c64742386d17')\"\n",
              "              title=\"Convert this dataframe to an interactive table.\"\n",
              "              style=\"display:none;\">\n",
              "        \n",
              "  <svg xmlns=\"http://www.w3.org/2000/svg\" height=\"24px\"viewBox=\"0 0 24 24\"\n",
              "       width=\"24px\">\n",
              "    <path d=\"M0 0h24v24H0V0z\" fill=\"none\"/>\n",
              "    <path d=\"M18.56 5.44l.94 2.06.94-2.06 2.06-.94-2.06-.94-.94-2.06-.94 2.06-2.06.94zm-11 1L8.5 8.5l.94-2.06 2.06-.94-2.06-.94L8.5 2.5l-.94 2.06-2.06.94zm10 10l.94 2.06.94-2.06 2.06-.94-2.06-.94-.94-2.06-.94 2.06-2.06.94z\"/><path d=\"M17.41 7.96l-1.37-1.37c-.4-.4-.92-.59-1.43-.59-.52 0-1.04.2-1.43.59L10.3 9.45l-7.72 7.72c-.78.78-.78 2.05 0 2.83L4 21.41c.39.39.9.59 1.41.59.51 0 1.02-.2 1.41-.59l7.78-7.78 2.81-2.81c.8-.78.8-2.07 0-2.86zM5.41 20L4 18.59l7.72-7.72 1.47 1.35L5.41 20z\"/>\n",
              "  </svg>\n",
              "      </button>\n",
              "      \n",
              "  <style>\n",
              "    .colab-df-container {\n",
              "      display:flex;\n",
              "      flex-wrap:wrap;\n",
              "      gap: 12px;\n",
              "    }\n",
              "\n",
              "    .colab-df-convert {\n",
              "      background-color: #E8F0FE;\n",
              "      border: none;\n",
              "      border-radius: 50%;\n",
              "      cursor: pointer;\n",
              "      display: none;\n",
              "      fill: #1967D2;\n",
              "      height: 32px;\n",
              "      padding: 0 0 0 0;\n",
              "      width: 32px;\n",
              "    }\n",
              "\n",
              "    .colab-df-convert:hover {\n",
              "      background-color: #E2EBFA;\n",
              "      box-shadow: 0px 1px 2px rgba(60, 64, 67, 0.3), 0px 1px 3px 1px rgba(60, 64, 67, 0.15);\n",
              "      fill: #174EA6;\n",
              "    }\n",
              "\n",
              "    [theme=dark] .colab-df-convert {\n",
              "      background-color: #3B4455;\n",
              "      fill: #D2E3FC;\n",
              "    }\n",
              "\n",
              "    [theme=dark] .colab-df-convert:hover {\n",
              "      background-color: #434B5C;\n",
              "      box-shadow: 0px 1px 3px 1px rgba(0, 0, 0, 0.15);\n",
              "      filter: drop-shadow(0px 1px 2px rgba(0, 0, 0, 0.3));\n",
              "      fill: #FFFFFF;\n",
              "    }\n",
              "  </style>\n",
              "\n",
              "      <script>\n",
              "        const buttonEl =\n",
              "          document.querySelector('#df-cf3dff38-7ba8-414d-a5d5-c64742386d17 button.colab-df-convert');\n",
              "        buttonEl.style.display =\n",
              "          google.colab.kernel.accessAllowed ? 'block' : 'none';\n",
              "\n",
              "        async function convertToInteractive(key) {\n",
              "          const element = document.querySelector('#df-cf3dff38-7ba8-414d-a5d5-c64742386d17');\n",
              "          const dataTable =\n",
              "            await google.colab.kernel.invokeFunction('convertToInteractive',\n",
              "                                                     [key], {});\n",
              "          if (!dataTable) return;\n",
              "\n",
              "          const docLinkHtml = 'Like what you see? Visit the ' +\n",
              "            '<a target=\"_blank\" href=https://colab.research.google.com/notebooks/data_table.ipynb>data table notebook</a>'\n",
              "            + ' to learn more about interactive tables.';\n",
              "          element.innerHTML = '';\n",
              "          dataTable['output_type'] = 'display_data';\n",
              "          await google.colab.output.renderOutput(dataTable, element);\n",
              "          const docLink = document.createElement('div');\n",
              "          docLink.innerHTML = docLinkHtml;\n",
              "          element.appendChild(docLink);\n",
              "        }\n",
              "      </script>\n",
              "    </div>\n",
              "  </div>\n",
              "  "
            ]
          },
          "metadata": {},
          "execution_count": 37
        }
      ],
      "source": [
        "from sklearn.datasets import load_iris\n",
        "\n",
        "Iris = load_iris()\n",
        "X = Iris.data\n",
        "y = Iris.target\n",
        "\n",
        "iris = pd.DataFrame(X,columns=Iris.feature_names)\n",
        "iris['Label']=y\n",
        "iris['Species']=iris['Label'].map({\n",
        "    0: 'Setosa',\n",
        "    1: 'Versicolor',\n",
        "    2: 'Virginica'})\n",
        "\n",
        "iris.head()"
      ]
    },
    {
      "cell_type": "markdown",
      "source": [
        "## Exploring Correlations"
      ],
      "metadata": {
        "id": "BdFoiBSpMzQ7"
      }
    },
    {
      "cell_type": "code",
      "source": [
        "# Petal length and Petal width have extremly high correlation with label\n",
        "iris.corr()"
      ],
      "metadata": {
        "colab": {
          "base_uri": "https://localhost:8080/",
          "height": 206
        },
        "id": "CJIBLryqWkol",
        "outputId": "c9745896-5968-4c39-b12b-8b2f20d57b06"
      },
      "execution_count": 38,
      "outputs": [
        {
          "output_type": "execute_result",
          "data": {
            "text/plain": [
              "                   sepal length (cm)  sepal width (cm)  petal length (cm)  \\\n",
              "sepal length (cm)           1.000000         -0.117570           0.871754   \n",
              "sepal width (cm)           -0.117570          1.000000          -0.428440   \n",
              "petal length (cm)           0.871754         -0.428440           1.000000   \n",
              "petal width (cm)            0.817941         -0.366126           0.962865   \n",
              "Label                       0.782561         -0.426658           0.949035   \n",
              "\n",
              "                   petal width (cm)     Label  \n",
              "sepal length (cm)          0.817941  0.782561  \n",
              "sepal width (cm)          -0.366126 -0.426658  \n",
              "petal length (cm)          0.962865  0.949035  \n",
              "petal width (cm)           1.000000  0.956547  \n",
              "Label                      0.956547  1.000000  "
            ],
            "text/html": [
              "\n",
              "  <div id=\"df-480761f2-dd25-4078-8fe9-d178fad441b8\">\n",
              "    <div class=\"colab-df-container\">\n",
              "      <div>\n",
              "<style scoped>\n",
              "    .dataframe tbody tr th:only-of-type {\n",
              "        vertical-align: middle;\n",
              "    }\n",
              "\n",
              "    .dataframe tbody tr th {\n",
              "        vertical-align: top;\n",
              "    }\n",
              "\n",
              "    .dataframe thead th {\n",
              "        text-align: right;\n",
              "    }\n",
              "</style>\n",
              "<table border=\"1\" class=\"dataframe\">\n",
              "  <thead>\n",
              "    <tr style=\"text-align: right;\">\n",
              "      <th></th>\n",
              "      <th>sepal length (cm)</th>\n",
              "      <th>sepal width (cm)</th>\n",
              "      <th>petal length (cm)</th>\n",
              "      <th>petal width (cm)</th>\n",
              "      <th>Label</th>\n",
              "    </tr>\n",
              "  </thead>\n",
              "  <tbody>\n",
              "    <tr>\n",
              "      <th>sepal length (cm)</th>\n",
              "      <td>1.000000</td>\n",
              "      <td>-0.117570</td>\n",
              "      <td>0.871754</td>\n",
              "      <td>0.817941</td>\n",
              "      <td>0.782561</td>\n",
              "    </tr>\n",
              "    <tr>\n",
              "      <th>sepal width (cm)</th>\n",
              "      <td>-0.117570</td>\n",
              "      <td>1.000000</td>\n",
              "      <td>-0.428440</td>\n",
              "      <td>-0.366126</td>\n",
              "      <td>-0.426658</td>\n",
              "    </tr>\n",
              "    <tr>\n",
              "      <th>petal length (cm)</th>\n",
              "      <td>0.871754</td>\n",
              "      <td>-0.428440</td>\n",
              "      <td>1.000000</td>\n",
              "      <td>0.962865</td>\n",
              "      <td>0.949035</td>\n",
              "    </tr>\n",
              "    <tr>\n",
              "      <th>petal width (cm)</th>\n",
              "      <td>0.817941</td>\n",
              "      <td>-0.366126</td>\n",
              "      <td>0.962865</td>\n",
              "      <td>1.000000</td>\n",
              "      <td>0.956547</td>\n",
              "    </tr>\n",
              "    <tr>\n",
              "      <th>Label</th>\n",
              "      <td>0.782561</td>\n",
              "      <td>-0.426658</td>\n",
              "      <td>0.949035</td>\n",
              "      <td>0.956547</td>\n",
              "      <td>1.000000</td>\n",
              "    </tr>\n",
              "  </tbody>\n",
              "</table>\n",
              "</div>\n",
              "      <button class=\"colab-df-convert\" onclick=\"convertToInteractive('df-480761f2-dd25-4078-8fe9-d178fad441b8')\"\n",
              "              title=\"Convert this dataframe to an interactive table.\"\n",
              "              style=\"display:none;\">\n",
              "        \n",
              "  <svg xmlns=\"http://www.w3.org/2000/svg\" height=\"24px\"viewBox=\"0 0 24 24\"\n",
              "       width=\"24px\">\n",
              "    <path d=\"M0 0h24v24H0V0z\" fill=\"none\"/>\n",
              "    <path d=\"M18.56 5.44l.94 2.06.94-2.06 2.06-.94-2.06-.94-.94-2.06-.94 2.06-2.06.94zm-11 1L8.5 8.5l.94-2.06 2.06-.94-2.06-.94L8.5 2.5l-.94 2.06-2.06.94zm10 10l.94 2.06.94-2.06 2.06-.94-2.06-.94-.94-2.06-.94 2.06-2.06.94z\"/><path d=\"M17.41 7.96l-1.37-1.37c-.4-.4-.92-.59-1.43-.59-.52 0-1.04.2-1.43.59L10.3 9.45l-7.72 7.72c-.78.78-.78 2.05 0 2.83L4 21.41c.39.39.9.59 1.41.59.51 0 1.02-.2 1.41-.59l7.78-7.78 2.81-2.81c.8-.78.8-2.07 0-2.86zM5.41 20L4 18.59l7.72-7.72 1.47 1.35L5.41 20z\"/>\n",
              "  </svg>\n",
              "      </button>\n",
              "      \n",
              "  <style>\n",
              "    .colab-df-container {\n",
              "      display:flex;\n",
              "      flex-wrap:wrap;\n",
              "      gap: 12px;\n",
              "    }\n",
              "\n",
              "    .colab-df-convert {\n",
              "      background-color: #E8F0FE;\n",
              "      border: none;\n",
              "      border-radius: 50%;\n",
              "      cursor: pointer;\n",
              "      display: none;\n",
              "      fill: #1967D2;\n",
              "      height: 32px;\n",
              "      padding: 0 0 0 0;\n",
              "      width: 32px;\n",
              "    }\n",
              "\n",
              "    .colab-df-convert:hover {\n",
              "      background-color: #E2EBFA;\n",
              "      box-shadow: 0px 1px 2px rgba(60, 64, 67, 0.3), 0px 1px 3px 1px rgba(60, 64, 67, 0.15);\n",
              "      fill: #174EA6;\n",
              "    }\n",
              "\n",
              "    [theme=dark] .colab-df-convert {\n",
              "      background-color: #3B4455;\n",
              "      fill: #D2E3FC;\n",
              "    }\n",
              "\n",
              "    [theme=dark] .colab-df-convert:hover {\n",
              "      background-color: #434B5C;\n",
              "      box-shadow: 0px 1px 3px 1px rgba(0, 0, 0, 0.15);\n",
              "      filter: drop-shadow(0px 1px 2px rgba(0, 0, 0, 0.3));\n",
              "      fill: #FFFFFF;\n",
              "    }\n",
              "  </style>\n",
              "\n",
              "      <script>\n",
              "        const buttonEl =\n",
              "          document.querySelector('#df-480761f2-dd25-4078-8fe9-d178fad441b8 button.colab-df-convert');\n",
              "        buttonEl.style.display =\n",
              "          google.colab.kernel.accessAllowed ? 'block' : 'none';\n",
              "\n",
              "        async function convertToInteractive(key) {\n",
              "          const element = document.querySelector('#df-480761f2-dd25-4078-8fe9-d178fad441b8');\n",
              "          const dataTable =\n",
              "            await google.colab.kernel.invokeFunction('convertToInteractive',\n",
              "                                                     [key], {});\n",
              "          if (!dataTable) return;\n",
              "\n",
              "          const docLinkHtml = 'Like what you see? Visit the ' +\n",
              "            '<a target=\"_blank\" href=https://colab.research.google.com/notebooks/data_table.ipynb>data table notebook</a>'\n",
              "            + ' to learn more about interactive tables.';\n",
              "          element.innerHTML = '';\n",
              "          dataTable['output_type'] = 'display_data';\n",
              "          await google.colab.output.renderOutput(dataTable, element);\n",
              "          const docLink = document.createElement('div');\n",
              "          docLink.innerHTML = docLinkHtml;\n",
              "          element.appendChild(docLink);\n",
              "        }\n",
              "      </script>\n",
              "    </div>\n",
              "  </div>\n",
              "  "
            ]
          },
          "metadata": {},
          "execution_count": 38
        }
      ]
    },
    {
      "cell_type": "markdown",
      "source": [
        "## Create the model"
      ],
      "metadata": {
        "id": "YrPaLA07M14p"
      }
    },
    {
      "cell_type": "code",
      "source": [
        "# Drop the Columns that didnt provide much correlation to label\n",
        "y = iris['Label']\n",
        "X = iris.drop(['sepal length (cm)', 'Label', 'Species', 'sepal width (cm)'], axis = 1)\n",
        "X_train, X_test, y_train, y_test = train_test_split(X, y, random_state=21, test_size = 0.2)\n",
        "\n",
        "#Creating the SVM model\n",
        "from sklearn import svm\n",
        "\n",
        "model = svm.SVC(kernel = 'linear', random_state = 1)\n",
        "\n",
        "#Fit the model for the data\n",
        "clf = model.fit(X_train, y_train)\n",
        "\n",
        "#Producing a result\n",
        "pred = clf.predict(X_test)"
      ],
      "metadata": {
        "id": "o7X-k4u7XXrw"
      },
      "execution_count": 39,
      "outputs": []
    },
    {
      "cell_type": "markdown",
      "source": [
        "## Evaluation"
      ],
      "metadata": {
        "id": "2J_G-e5NM3uw"
      }
    },
    {
      "cell_type": "code",
      "source": [
        "print(classification_report(y_test, pred))"
      ],
      "metadata": {
        "colab": {
          "base_uri": "https://localhost:8080/"
        },
        "id": "xT4jkyq1X1B8",
        "outputId": "8d648186-7fe3-4d10-cba5-b785e7a0ccdf"
      },
      "execution_count": 40,
      "outputs": [
        {
          "output_type": "stream",
          "name": "stdout",
          "text": [
            "              precision    recall  f1-score   support\n",
            "\n",
            "           0       1.00      1.00      1.00        11\n",
            "           1       1.00      0.83      0.91        12\n",
            "           2       0.78      1.00      0.88         7\n",
            "\n",
            "    accuracy                           0.93        30\n",
            "   macro avg       0.93      0.94      0.93        30\n",
            "weighted avg       0.95      0.93      0.93        30\n",
            "\n"
          ]
        }
      ]
    },
    {
      "cell_type": "code",
      "source": [
        "plot_confusion_matrix(clf, X_test, y_test)  \n",
        "plt.show();"
      ],
      "metadata": {
        "colab": {
          "base_uri": "https://localhost:8080/",
          "height": 334
        },
        "id": "okQw6xBCZLUn",
        "outputId": "8dd84091-15f4-4000-be61-2573da003e83"
      },
      "execution_count": 41,
      "outputs": [
        {
          "output_type": "stream",
          "name": "stderr",
          "text": [
            "/usr/local/lib/python3.7/dist-packages/sklearn/utils/deprecation.py:87: FutureWarning: Function plot_confusion_matrix is deprecated; Function `plot_confusion_matrix` is deprecated in 1.0 and will be removed in 1.2. Use one of the class methods: ConfusionMatrixDisplay.from_predictions or ConfusionMatrixDisplay.from_estimator.\n",
            "  warnings.warn(msg, category=FutureWarning)\n"
          ]
        },
        {
          "output_type": "display_data",
          "data": {
            "text/plain": [
              "<Figure size 432x288 with 2 Axes>"
            ],
            "image/png": "[encoded data removed]"
          },
          "metadata": {
            "needs_background": "light"
          }
        }
      ]
    },
    {
      "cell_type": "markdown",
      "source": [
        "## Visualizations"
      ],
      "metadata": {
        "id": "5y4GhzlOM6wE"
      }
    },
    {
      "cell_type": "code",
      "source": [
        "# Functions to create decision surfaces\n",
        "def make_meshgrid(x, y, h=.02):\n",
        "    x_min, x_max = x.min() - 1, x.max() + 1\n",
        "    y_min, y_max = y.min() - 1, y.max() + 1\n",
        "    xx, yy = np.meshgrid(np.arange(x_min, x_max, h), np.arange(y_min, y_max, h))\n",
        "    return xx, yy\n",
        "\n",
        "def plot_contours(ax, clf, xx, yy, **params):\n",
        "    Z = clf.predict(np.c_[xx.ravel(), yy.ravel()])\n",
        "    Z = Z.reshape(xx.shape)\n",
        "    out = ax.contourf(xx, yy, Z, **params)\n",
        "    return out\n",
        "\n",
        "fig, ax = plt.subplots()\n",
        "title = ('Decision surface of linear SVC ')\n",
        "X0, X1 = X.iloc[:, 0], X.iloc[:, 1]\n",
        "xx, yy = make_meshgrid(X0, X1)\n",
        "\n",
        "# Creating the plot\n",
        "plot_contours(ax, clf, xx, yy, cmap=plt.cm.coolwarm, alpha=0.8)\n",
        "ax.scatter(X0, X1, c=y, cmap=plt.cm.coolwarm, s=20, edgecolors='k')\n",
        "ax.set_ylabel('Petal Length')\n",
        "ax.set_xlabel('Petal Width')\n",
        "ax.set_xticks(())\n",
        "ax.set_yticks(())\n",
        "ax.set_title(title)\n",
        "plt.show()"
      ],
      "metadata": {
        "colab": {
          "base_uri": "https://localhost:8080/",
          "height": 313
        },
        "id": "4k3g-s7racw4",
        "outputId": "4c1a288b-fd3e-4f9e-b354-2b7a902c2041"
      },
      "execution_count": 42,
      "outputs": [
        {
          "output_type": "stream",
          "name": "stderr",
          "text": [
            "/usr/local/lib/python3.7/dist-packages/sklearn/base.py:451: UserWarning: X does not have valid feature names, but SVC was fitted with feature names\n",
            "  \"X does not have valid feature names, but\"\n"
          ]
        },
        {
          "output_type": "display_data",
          "data": {
            "text/plain": [
              "<Figure size 432x288 with 1 Axes>"
            ],
            "image/png": "[encoded data removed]"
          },
          "metadata": {}
        }
      ]
    },
    {
      "cell_type": "code",
      "source": [
        "# Get the seperating hyperplane\n",
        "w = clf.coef_[0]\n",
        "a = -w[0] / w[1]\n",
        "xx = np.linspace(-5, 5)\n",
        "\n",
        "# Build the line for yy using xx and the model\n",
        "yy = a * xx - (clf.intercept_[0]) / w[1]\n",
        "\n",
        "# Calculate the margine using coefficient in the model\n",
        "## Sq Root of Sum of squares\n",
        "margin = 1 / np.sqrt(np.sum(clf.coef_ ** 2))\n",
        "yy_down = yy - np.sqrt(1 + a ** 2) * margin\n",
        "yy_up = yy + np.sqrt(1 + a ** 2) * margin\n",
        "\n",
        "# Creating the plot\n",
        "plt.figure(1, figsize=(4, 3))\n",
        "plt.clf()\n",
        "plt.plot(xx, yy, \"k-\")\n",
        "plt.plot(xx, yy_down, \"k-\")\n",
        "plt.plot(xx, yy_up, \"k-\")\n",
        "plt.scatter(clf.support_vectors_[:, 0], clf.support_vectors_[:, 1], s=80,facecolors=\"none\", zorder=10, edgecolors=\"k\")\n",
        "plt.scatter(X.iloc[:, 0], X.iloc[:, 1], c=y, zorder=10, cmap=plt.cm.Paired,edgecolors=\"k\")\n",
        "plt.xlabel(\"x1\")\n",
        "plt.ylabel(\"x2\")\n",
        "plt.title('Line and Margins')\n",
        "plt.show()"
      ],
      "metadata": {
        "colab": {
          "base_uri": "https://localhost:8080/",
          "height": 241
        },
        "id": "icCHXt_5yXCY",
        "outputId": "237a7f0c-4cb9-402a-b4c5-39c515df726e"
      },
      "execution_count": 43,
      "outputs": [
        {
          "output_type": "display_data",
          "data": {
            "text/plain": [
              "<Figure size 288x216 with 1 Axes>"
            ],
            "image/png": "[encoded data removed]"
          },
          "metadata": {
            "needs_background": "light"
          }
        }
      ]
    },
    {
      "cell_type": "code",
      "source": [
        "# Create 10 random data points and fit them\n",
        "X = np.r_[np.random.randn(5, 2) - [2, 2], np.random.randn(5, 2) + [2, 2]]\n",
        "Y = [0] * 5 + [1] * 5\n",
        "model = svm.SVC(kernel='linear')\n",
        "clf = model.fit(X, Y)\n",
        "\n",
        "# Functions to create decision surfaces\n",
        "def make_meshgrid(x, y, h=.02):\n",
        "    x_min, x_max = x.min() - 1, x.max() + 1\n",
        "    y_min, y_max = y.min() - 1, y.max() + 1\n",
        "    xx, yy = np.meshgrid(np.arange(x_min, x_max, h), np.arange(y_min, y_max, h))\n",
        "    return xx, yy\n",
        "\n",
        "def plot_contours(ax, clf, xx, yy, **params):\n",
        "    Z = clf.predict(np.c_[xx.ravel(), yy.ravel()])\n",
        "    Z = Z.reshape(xx.shape)\n",
        "    out = ax.contourf(xx, yy, Z, **params)\n",
        "    return out\n",
        "\n",
        "fig, ax = plt.subplots()\n",
        "title = ('Random Data Points')\n",
        "X0, X1 = X[:, 0], X[:, 1]\n",
        "xx, yy = make_meshgrid(X0, X1)\n",
        "\n",
        "# Creating the plot\n",
        "plot_contours(ax, clf, xx, yy, cmap=plt.cm.coolwarm, alpha=0.8)\n",
        "ax.scatter(X0, X1, c=Y, cmap=plt.cm.coolwarm, s=20, edgecolors='k')\n",
        "ax.set_ylabel('Component 1')\n",
        "ax.set_xlabel('Component 2')\n",
        "ax.set_xticks(())\n",
        "ax.set_yticks(())\n",
        "ax.set_title(title)\n",
        "plt.show()\n"
      ],
      "metadata": {
        "colab": {
          "base_uri": "https://localhost:8080/",
          "height": 278
        },
        "id": "_XxRH8cgkI6E",
        "outputId": "176ca0e1-0f8c-4602-9696-fa62024aff71"
      },
      "execution_count": 44,
      "outputs": [
        {
          "output_type": "display_data",
          "data": {
            "text/plain": [
              "<Figure size 432x288 with 1 Axes>"
            ],
            "image/png": "[encoded data removed]"
          },
          "metadata": {}
        }
      ]
    },
    {
      "cell_type": "markdown",
      "metadata": {
        "id": "eQlQImx6gXF9"
      },
      "source": [
        "Explanation of your model:\n",
        "\n",
        "\n",
        "*   The model we created was a SVM with only the two most explanatory features, petal width and length\n",
        "*   We evaluated the recall, f1, and support which had extremly high results\n",
        "* The confusion matrix revealed that only 2 species we're missed\n",
        "* For the visualizations, the decision line surface split the random 10 data points into their own classes and for the margin and lines it seem pretty accurate. However we couldn't figure out how to plot 2 different margins since there are 3 class\n"
      ]
    }
  ],
  "metadata": {
    "celltoolbar": "Edit Metadata",
    "kernelspec": {
      "display_name": "Python 3 (ipykernel)",
      "language": "python",
      "name": "python3"
    },
    "language_info": {
      "codemirror_mode": {
        "name": "ipython",
        "version": 3
      },
      "file_extension": ".py",
      "mimetype": "text/x-python",
      "name": "python",
      "nbconvert_exporter": "python",
      "pygments_lexer": "ipython3",
      "version": "3.7.3"
    },
    "colab": {
      "provenance": [],
      "collapsed_sections": []
    }
  },
  "nbformat": 4,
  "nbformat_minor": 0
}